{
 "cells": [
  {
   "cell_type": "markdown",
   "id": "7fa444d1",
   "metadata": {
    "heading_collapsed": true
   },
   "source": [
    "#  Customer Segmentation"
   ]
  },
  {
   "cell_type": "markdown",
   "id": "d6fbcbb1",
   "metadata": {
    "heading_collapsed": true
   },
   "source": [
    "# 1. Data Preparation"
   ]
  },
  {
   "cell_type": "code",
   "execution_count": 1,
   "id": "165f4b71",
   "metadata": {
    "hidden": true
   },
   "outputs": [],
   "source": [
    "import pandas as pd\n",
    "import seaborn as sns\n",
    "import numpy as np\n",
    "import matplotlib.pyplot as plt\n",
    "plt.style.use('fivethirtyeight')\n",
    "\n",
    "%matplotlib inline\n",
    "import matplotlib.lines as mlines\n",
    "import random \n",
    "import datetime as dt\n",
    "import re\n",
    "import pickle\n",
    "import nltk, warnings\n",
    "from nltk.tokenize import sent_tokenize, word_tokenize\n",
    "from nltk.corpus import stopwords\n",
    "from nltk.stem import WordNetLemmatizer\n",
    "from string import digits, punctuation\n",
    "\n",
    "from scipy.stats import chi2_contingency\n",
    "\n",
    "from sklearn.preprocessing import LabelEncoder, StandardScaler, Normalizer\n",
    "from sklearn.preprocessing import StandardScaler\n",
    "from sklearn.cluster import KMeans\n",
    "from sklearn.metrics import silhouette_samples, silhouette_score\n",
    "from sklearn import preprocessing, model_selection, metrics, feature_selection\n",
    "from sklearn.model_selection import GridSearchCV, learning_curve\n",
    "from sklearn.svm import SVC\n",
    "from sklearn.metrics import confusion_matrix\n",
    "from sklearn import neighbors, linear_model, svm, tree, ensemble\n",
    "from sklearn.decomposition import PCA, TruncatedSVD\n",
    "from sklearn.manifold import TSNE\n",
    "from sklearn.feature_extraction.text import CountVectorizer, TfidfVectorizer\n",
    "\n",
    "import os\n",
    "import chart_studio"
   ]
  },
  {
   "cell_type": "markdown",
   "id": "0511359c",
   "metadata": {
    "hidden": true
   },
   "source": [
    "## 1.1 Import data and undertand data"
   ]
  },
  {
   "cell_type": "code",
   "execution_count": 2,
   "id": "c5362801",
   "metadata": {
    "hidden": true
   },
   "outputs": [
    {
     "data": {
      "text/html": [
       "<div>\n",
       "<style scoped>\n",
       "    .dataframe tbody tr th:only-of-type {\n",
       "        vertical-align: middle;\n",
       "    }\n",
       "\n",
       "    .dataframe tbody tr th {\n",
       "        vertical-align: top;\n",
       "    }\n",
       "\n",
       "    .dataframe thead th {\n",
       "        text-align: right;\n",
       "    }\n",
       "</style>\n",
       "<table border=\"1\" class=\"dataframe\">\n",
       "  <thead>\n",
       "    <tr style=\"text-align: right;\">\n",
       "      <th></th>\n",
       "      <th>InvoiceNo</th>\n",
       "      <th>StockCode</th>\n",
       "      <th>Description</th>\n",
       "      <th>Quantity</th>\n",
       "      <th>InvoiceDate</th>\n",
       "      <th>UnitPrice</th>\n",
       "      <th>CustomerID</th>\n",
       "      <th>Country</th>\n",
       "    </tr>\n",
       "  </thead>\n",
       "  <tbody>\n",
       "    <tr>\n",
       "      <th>0</th>\n",
       "      <td>536365</td>\n",
       "      <td>85123A</td>\n",
       "      <td>WHITE HANGING HEART T-LIGHT HOLDER</td>\n",
       "      <td>6</td>\n",
       "      <td>2010-12-01 08:26:00</td>\n",
       "      <td>2.55</td>\n",
       "      <td>17850.0</td>\n",
       "      <td>United Kingdom</td>\n",
       "    </tr>\n",
       "    <tr>\n",
       "      <th>1</th>\n",
       "      <td>536365</td>\n",
       "      <td>71053</td>\n",
       "      <td>WHITE METAL LANTERN</td>\n",
       "      <td>6</td>\n",
       "      <td>2010-12-01 08:26:00</td>\n",
       "      <td>3.39</td>\n",
       "      <td>17850.0</td>\n",
       "      <td>United Kingdom</td>\n",
       "    </tr>\n",
       "    <tr>\n",
       "      <th>2</th>\n",
       "      <td>536365</td>\n",
       "      <td>84406B</td>\n",
       "      <td>CREAM CUPID HEARTS COAT HANGER</td>\n",
       "      <td>8</td>\n",
       "      <td>2010-12-01 08:26:00</td>\n",
       "      <td>2.75</td>\n",
       "      <td>17850.0</td>\n",
       "      <td>United Kingdom</td>\n",
       "    </tr>\n",
       "    <tr>\n",
       "      <th>3</th>\n",
       "      <td>536365</td>\n",
       "      <td>84029G</td>\n",
       "      <td>KNITTED UNION FLAG HOT WATER BOTTLE</td>\n",
       "      <td>6</td>\n",
       "      <td>2010-12-01 08:26:00</td>\n",
       "      <td>3.39</td>\n",
       "      <td>17850.0</td>\n",
       "      <td>United Kingdom</td>\n",
       "    </tr>\n",
       "    <tr>\n",
       "      <th>4</th>\n",
       "      <td>536365</td>\n",
       "      <td>84029E</td>\n",
       "      <td>RED WOOLLY HOTTIE WHITE HEART.</td>\n",
       "      <td>6</td>\n",
       "      <td>2010-12-01 08:26:00</td>\n",
       "      <td>3.39</td>\n",
       "      <td>17850.0</td>\n",
       "      <td>United Kingdom</td>\n",
       "    </tr>\n",
       "    <tr>\n",
       "      <th>...</th>\n",
       "      <td>...</td>\n",
       "      <td>...</td>\n",
       "      <td>...</td>\n",
       "      <td>...</td>\n",
       "      <td>...</td>\n",
       "      <td>...</td>\n",
       "      <td>...</td>\n",
       "      <td>...</td>\n",
       "    </tr>\n",
       "    <tr>\n",
       "      <th>541904</th>\n",
       "      <td>581587</td>\n",
       "      <td>22613</td>\n",
       "      <td>PACK OF 20 SPACEBOY NAPKINS</td>\n",
       "      <td>12</td>\n",
       "      <td>2011-12-09 12:50:00</td>\n",
       "      <td>0.85</td>\n",
       "      <td>12680.0</td>\n",
       "      <td>France</td>\n",
       "    </tr>\n",
       "    <tr>\n",
       "      <th>541905</th>\n",
       "      <td>581587</td>\n",
       "      <td>22899</td>\n",
       "      <td>CHILDREN'S APRON DOLLY GIRL</td>\n",
       "      <td>6</td>\n",
       "      <td>2011-12-09 12:50:00</td>\n",
       "      <td>2.10</td>\n",
       "      <td>12680.0</td>\n",
       "      <td>France</td>\n",
       "    </tr>\n",
       "    <tr>\n",
       "      <th>541906</th>\n",
       "      <td>581587</td>\n",
       "      <td>23254</td>\n",
       "      <td>CHILDRENS CUTLERY DOLLY GIRL</td>\n",
       "      <td>4</td>\n",
       "      <td>2011-12-09 12:50:00</td>\n",
       "      <td>4.15</td>\n",
       "      <td>12680.0</td>\n",
       "      <td>France</td>\n",
       "    </tr>\n",
       "    <tr>\n",
       "      <th>541907</th>\n",
       "      <td>581587</td>\n",
       "      <td>23255</td>\n",
       "      <td>CHILDRENS CUTLERY CIRCUS PARADE</td>\n",
       "      <td>4</td>\n",
       "      <td>2011-12-09 12:50:00</td>\n",
       "      <td>4.15</td>\n",
       "      <td>12680.0</td>\n",
       "      <td>France</td>\n",
       "    </tr>\n",
       "    <tr>\n",
       "      <th>541908</th>\n",
       "      <td>581587</td>\n",
       "      <td>22138</td>\n",
       "      <td>BAKING SET 9 PIECE RETROSPOT</td>\n",
       "      <td>3</td>\n",
       "      <td>2011-12-09 12:50:00</td>\n",
       "      <td>4.95</td>\n",
       "      <td>12680.0</td>\n",
       "      <td>France</td>\n",
       "    </tr>\n",
       "  </tbody>\n",
       "</table>\n",
       "<p>541909 rows × 8 columns</p>\n",
       "</div>"
      ],
      "text/plain": [
       "       InvoiceNo StockCode                          Description  Quantity  \\\n",
       "0         536365    85123A   WHITE HANGING HEART T-LIGHT HOLDER         6   \n",
       "1         536365     71053                  WHITE METAL LANTERN         6   \n",
       "2         536365    84406B       CREAM CUPID HEARTS COAT HANGER         8   \n",
       "3         536365    84029G  KNITTED UNION FLAG HOT WATER BOTTLE         6   \n",
       "4         536365    84029E       RED WOOLLY HOTTIE WHITE HEART.         6   \n",
       "...          ...       ...                                  ...       ...   \n",
       "541904    581587     22613          PACK OF 20 SPACEBOY NAPKINS        12   \n",
       "541905    581587     22899         CHILDREN'S APRON DOLLY GIRL          6   \n",
       "541906    581587     23254        CHILDRENS CUTLERY DOLLY GIRL          4   \n",
       "541907    581587     23255      CHILDRENS CUTLERY CIRCUS PARADE         4   \n",
       "541908    581587     22138        BAKING SET 9 PIECE RETROSPOT          3   \n",
       "\n",
       "               InvoiceDate  UnitPrice  CustomerID         Country  \n",
       "0      2010-12-01 08:26:00       2.55     17850.0  United Kingdom  \n",
       "1      2010-12-01 08:26:00       3.39     17850.0  United Kingdom  \n",
       "2      2010-12-01 08:26:00       2.75     17850.0  United Kingdom  \n",
       "3      2010-12-01 08:26:00       3.39     17850.0  United Kingdom  \n",
       "4      2010-12-01 08:26:00       3.39     17850.0  United Kingdom  \n",
       "...                    ...        ...         ...             ...  \n",
       "541904 2011-12-09 12:50:00       0.85     12680.0          France  \n",
       "541905 2011-12-09 12:50:00       2.10     12680.0          France  \n",
       "541906 2011-12-09 12:50:00       4.15     12680.0          France  \n",
       "541907 2011-12-09 12:50:00       4.15     12680.0          France  \n",
       "541908 2011-12-09 12:50:00       4.95     12680.0          France  \n",
       "\n",
       "[541909 rows x 8 columns]"
      ]
     },
     "execution_count": 2,
     "metadata": {},
     "output_type": "execute_result"
    }
   ],
   "source": [
    "data = pd.read_csv(\"Online Retail.csv\",parse_dates= ['InvoiceDate'])\n",
    "data"
   ]
  },
  {
   "cell_type": "code",
   "execution_count": 3,
   "id": "1d6d483f",
   "metadata": {
    "hidden": true
   },
   "outputs": [
    {
     "name": "stdout",
     "output_type": "stream",
     "text": [
      "<class 'pandas.core.frame.DataFrame'>\n",
      "RangeIndex: 541909 entries, 0 to 541908\n",
      "Data columns (total 8 columns):\n",
      " #   Column       Non-Null Count   Dtype         \n",
      "---  ------       --------------   -----         \n",
      " 0   InvoiceNo    541909 non-null  object        \n",
      " 1   StockCode    541909 non-null  object        \n",
      " 2   Description  540455 non-null  object        \n",
      " 3   Quantity     541909 non-null  int64         \n",
      " 4   InvoiceDate  541909 non-null  datetime64[ns]\n",
      " 5   UnitPrice    541909 non-null  float64       \n",
      " 6   CustomerID   406829 non-null  float64       \n",
      " 7   Country      541909 non-null  object        \n",
      "dtypes: datetime64[ns](1), float64(2), int64(1), object(4)\n",
      "memory usage: 33.1+ MB\n"
     ]
    }
   ],
   "source": [
    "data.info()"
   ]
  },
  {
   "cell_type": "code",
   "execution_count": 4,
   "id": "bbb988d3",
   "metadata": {
    "hidden": true
   },
   "outputs": [
    {
     "data": {
      "text/plain": [
       "(541909, 8)"
      ]
     },
     "execution_count": 4,
     "metadata": {},
     "output_type": "execute_result"
    }
   ],
   "source": [
    "data.shape"
   ]
  },
  {
   "cell_type": "code",
   "execution_count": 5,
   "id": "78847b0c",
   "metadata": {
    "hidden": true
   },
   "outputs": [
    {
     "data": {
      "text/html": [
       "<div>\n",
       "<style scoped>\n",
       "    .dataframe tbody tr th:only-of-type {\n",
       "        vertical-align: middle;\n",
       "    }\n",
       "\n",
       "    .dataframe tbody tr th {\n",
       "        vertical-align: top;\n",
       "    }\n",
       "\n",
       "    .dataframe thead th {\n",
       "        text-align: right;\n",
       "    }\n",
       "</style>\n",
       "<table border=\"1\" class=\"dataframe\">\n",
       "  <thead>\n",
       "    <tr style=\"text-align: right;\">\n",
       "      <th></th>\n",
       "      <th>InvoiceNo</th>\n",
       "      <th>StockCode</th>\n",
       "      <th>Description</th>\n",
       "      <th>Quantity</th>\n",
       "      <th>InvoiceDate</th>\n",
       "      <th>UnitPrice</th>\n",
       "      <th>CustomerID</th>\n",
       "      <th>Country</th>\n",
       "    </tr>\n",
       "  </thead>\n",
       "  <tbody>\n",
       "    <tr>\n",
       "      <th>0</th>\n",
       "      <td>536365</td>\n",
       "      <td>85123A</td>\n",
       "      <td>WHITE HANGING HEART T-LIGHT HOLDER</td>\n",
       "      <td>6</td>\n",
       "      <td>2010-12-01 08:26:00</td>\n",
       "      <td>2.55</td>\n",
       "      <td>17850.0</td>\n",
       "      <td>United Kingdom</td>\n",
       "    </tr>\n",
       "    <tr>\n",
       "      <th>1</th>\n",
       "      <td>536365</td>\n",
       "      <td>71053</td>\n",
       "      <td>WHITE METAL LANTERN</td>\n",
       "      <td>6</td>\n",
       "      <td>2010-12-01 08:26:00</td>\n",
       "      <td>3.39</td>\n",
       "      <td>17850.0</td>\n",
       "      <td>United Kingdom</td>\n",
       "    </tr>\n",
       "    <tr>\n",
       "      <th>2</th>\n",
       "      <td>536365</td>\n",
       "      <td>84406B</td>\n",
       "      <td>CREAM CUPID HEARTS COAT HANGER</td>\n",
       "      <td>8</td>\n",
       "      <td>2010-12-01 08:26:00</td>\n",
       "      <td>2.75</td>\n",
       "      <td>17850.0</td>\n",
       "      <td>United Kingdom</td>\n",
       "    </tr>\n",
       "    <tr>\n",
       "      <th>3</th>\n",
       "      <td>536365</td>\n",
       "      <td>84029G</td>\n",
       "      <td>KNITTED UNION FLAG HOT WATER BOTTLE</td>\n",
       "      <td>6</td>\n",
       "      <td>2010-12-01 08:26:00</td>\n",
       "      <td>3.39</td>\n",
       "      <td>17850.0</td>\n",
       "      <td>United Kingdom</td>\n",
       "    </tr>\n",
       "    <tr>\n",
       "      <th>4</th>\n",
       "      <td>536365</td>\n",
       "      <td>84029E</td>\n",
       "      <td>RED WOOLLY HOTTIE WHITE HEART.</td>\n",
       "      <td>6</td>\n",
       "      <td>2010-12-01 08:26:00</td>\n",
       "      <td>3.39</td>\n",
       "      <td>17850.0</td>\n",
       "      <td>United Kingdom</td>\n",
       "    </tr>\n",
       "  </tbody>\n",
       "</table>\n",
       "</div>"
      ],
      "text/plain": [
       "  InvoiceNo StockCode                          Description  Quantity  \\\n",
       "0    536365    85123A   WHITE HANGING HEART T-LIGHT HOLDER         6   \n",
       "1    536365     71053                  WHITE METAL LANTERN         6   \n",
       "2    536365    84406B       CREAM CUPID HEARTS COAT HANGER         8   \n",
       "3    536365    84029G  KNITTED UNION FLAG HOT WATER BOTTLE         6   \n",
       "4    536365    84029E       RED WOOLLY HOTTIE WHITE HEART.         6   \n",
       "\n",
       "          InvoiceDate  UnitPrice  CustomerID         Country  \n",
       "0 2010-12-01 08:26:00       2.55     17850.0  United Kingdom  \n",
       "1 2010-12-01 08:26:00       3.39     17850.0  United Kingdom  \n",
       "2 2010-12-01 08:26:00       2.75     17850.0  United Kingdom  \n",
       "3 2010-12-01 08:26:00       3.39     17850.0  United Kingdom  \n",
       "4 2010-12-01 08:26:00       3.39     17850.0  United Kingdom  "
      ]
     },
     "execution_count": 5,
     "metadata": {},
     "output_type": "execute_result"
    }
   ],
   "source": [
    "data.head()"
   ]
  },
  {
   "cell_type": "code",
   "execution_count": 6,
   "id": "688d5ab5",
   "metadata": {
    "hidden": true
   },
   "outputs": [
    {
     "data": {
      "text/plain": [
       "InvoiceNo              object\n",
       "StockCode              object\n",
       "Description            object\n",
       "Quantity                int64\n",
       "InvoiceDate    datetime64[ns]\n",
       "UnitPrice             float64\n",
       "CustomerID            float64\n",
       "Country                object\n",
       "dtype: object"
      ]
     },
     "execution_count": 6,
     "metadata": {},
     "output_type": "execute_result"
    }
   ],
   "source": [
    "data.dtypes"
   ]
  },
  {
   "cell_type": "code",
   "execution_count": 7,
   "id": "b0a171b9",
   "metadata": {
    "hidden": true,
    "scrolled": true
   },
   "outputs": [
    {
     "data": {
      "text/plain": [
       "InvoiceNo           0\n",
       "StockCode           0\n",
       "Description      1454\n",
       "Quantity            0\n",
       "InvoiceDate         0\n",
       "UnitPrice           0\n",
       "CustomerID     135080\n",
       "Country             0\n",
       "dtype: int64"
      ]
     },
     "execution_count": 7,
     "metadata": {},
     "output_type": "execute_result"
    }
   ],
   "source": [
    "data.isnull().sum()"
   ]
  },
  {
   "cell_type": "code",
   "execution_count": 8,
   "id": "4143b08c",
   "metadata": {
    "hidden": true,
    "scrolled": true
   },
   "outputs": [
    {
     "name": "stdout",
     "output_type": "stream",
     "text": [
      "Non-Numeric columns:\n",
      "InvoiceNo\n",
      "StockCode\n",
      "Description\n",
      "Country\n",
      "\n",
      "Numeric columns:\n",
      "Quantity\n",
      "InvoiceDate\n",
      "UnitPrice\n",
      "CustomerID\n"
     ]
    }
   ],
   "source": [
    "cat_df = data.select_dtypes(include=['object'])\n",
    "num_df = data.select_dtypes(exclude=['object'])\n",
    "\n",
    "def printColumnTypes(non_numeric_df, numeric_df):\n",
    "    '''separates non-numeric and numeric columns'''\n",
    "    print(\"Non-Numeric columns:\")\n",
    "    for col in non_numeric_df:\n",
    "     print(f\"{col}\")\n",
    "    print(\"\")\n",
    "    print(\"Numeric columns:\")\n",
    "    for col in numeric_df:\n",
    "     print(f\"{col}\")\n",
    "        \n",
    "printColumnTypes(cat_df, num_df)"
   ]
  },
  {
   "cell_type": "markdown",
   "id": "9c1503dd",
   "metadata": {
    "hidden": true
   },
   "source": [
    "## 1.2 Find missinf values"
   ]
  },
  {
   "cell_type": "code",
   "execution_count": 9,
   "id": "e18cdc52",
   "metadata": {
    "hidden": true
   },
   "outputs": [
    {
     "name": "stdout",
     "output_type": "stream",
     "text": [
      "Description => 1454\n",
      "CustomerID => 135080\n"
     ]
    }
   ],
   "source": [
    "def missing_cols(df):\n",
    "    '''prints out columns with its amount of missing values'''\n",
    "    total = 0\n",
    "    for col in df.columns:\n",
    "        missing_vals = df[col].isnull().sum()\n",
    "        total += missing_vals\n",
    "        if missing_vals != 0:\n",
    "            print(f\"{col} => {df[col].isnull().sum()}\")\n",
    "    \n",
    "    if total == 0:\n",
    "        print(\"no missing values left\")\n",
    "missing_cols(data)"
   ]
  },
  {
   "cell_type": "code",
   "execution_count": 10,
   "id": "c803e3d4",
   "metadata": {
    "hidden": true
   },
   "outputs": [
    {
     "name": "stdout",
     "output_type": "stream",
     "text": [
      "Description => 0.27%\n",
      "CustomerID => 24.93%\n"
     ]
    }
   ],
   "source": [
    "def perc_missing(df):\n",
    "    '''prints out columns with missing values with its %'''\n",
    "    for col in df.columns:\n",
    "        pct = df[col].isna().mean() * 100\n",
    "        if (pct != 0):\n",
    "            print('{} => {}%'.format(col, round(pct, 2)))\n",
    "    \n",
    "perc_missing(data)"
   ]
  },
  {
   "cell_type": "code",
   "execution_count": 11,
   "id": "b050cec6",
   "metadata": {
    "hidden": true
   },
   "outputs": [
    {
     "data": {
      "text/plain": [
       "Text(0.5, 1.0, 'Ratio of missing values per columns')"
      ]
     },
     "execution_count": 11,
     "metadata": {},
     "output_type": "execute_result"
    },
    {
     "data": {
      "image/png": "[encoded data removed]",
      "text/plain": [
       "<Figure size 360x360 with 1 Axes>"
      ]
     },
     "metadata": {
      "needs_background": "light"
     },
     "output_type": "display_data"
    }
   ],
   "source": [
    "plt.figure(figsize=(5, 5))\n",
    "data.isnull().mean(axis=0).plot.barh()\n",
    "plt.title(\"Ratio of missing values per columns\")"
   ]
  },
  {
   "cell_type": "code",
   "execution_count": 12,
   "id": "404436c7",
   "metadata": {
    "hidden": true
   },
   "outputs": [
    {
     "data": {
      "text/plain": [
       "<AxesSubplot:>"
      ]
     },
     "execution_count": 12,
     "metadata": {},
     "output_type": "execute_result"
    },
    {
     "data": {
      "image/png": "[encoded data removed]",
      "text/plain": [
       "<Figure size 720x432 with 1 Axes>"
      ]
     },
     "metadata": {
      "needs_background": "light"
     },
     "output_type": "display_data"
    }
   ],
   "source": [
    "plt.figure(figsize=(10, 6))\n",
    "sns.heatmap(data.isnull(), yticklabels=False, cmap='viridis', cbar=False)"
   ]
  },
  {
   "cell_type": "code",
   "execution_count": 13,
   "id": "3e9bd95a",
   "metadata": {
    "hidden": true,
    "scrolled": true
   },
   "outputs": [
    {
     "data": {
      "text/plain": [
       "numpy.datetime64"
      ]
     },
     "execution_count": 13,
     "metadata": {},
     "output_type": "execute_result"
    }
   ],
   "source": [
    "data['InvoiceDate'] = pd.to_datetime(data['InvoiceDate'], format='%Y-%m-%d')\n",
    "data['InvoiceDate'].dtype.type"
   ]
  },
  {
   "cell_type": "code",
   "execution_count": 14,
   "id": "2ebcc80c",
   "metadata": {
    "hidden": true
   },
   "outputs": [
    {
     "data": {
      "text/html": [
       "<div>\n",
       "<style scoped>\n",
       "    .dataframe tbody tr th:only-of-type {\n",
       "        vertical-align: middle;\n",
       "    }\n",
       "\n",
       "    .dataframe tbody tr th {\n",
       "        vertical-align: top;\n",
       "    }\n",
       "\n",
       "    .dataframe thead th {\n",
       "        text-align: right;\n",
       "    }\n",
       "</style>\n",
       "<table border=\"1\" class=\"dataframe\">\n",
       "  <thead>\n",
       "    <tr style=\"text-align: right;\">\n",
       "      <th></th>\n",
       "      <th>InvoiceNo</th>\n",
       "      <th>StockCode</th>\n",
       "      <th>Description</th>\n",
       "      <th>Quantity</th>\n",
       "      <th>InvoiceDate</th>\n",
       "      <th>UnitPrice</th>\n",
       "      <th>CustomerID</th>\n",
       "      <th>Country</th>\n",
       "    </tr>\n",
       "  </thead>\n",
       "  <tbody>\n",
       "    <tr>\n",
       "      <th>0</th>\n",
       "      <td>536365</td>\n",
       "      <td>85123A</td>\n",
       "      <td>WHITE HANGING HEART T-LIGHT HOLDER</td>\n",
       "      <td>6</td>\n",
       "      <td>2010-12-01 08:26:00</td>\n",
       "      <td>2.55</td>\n",
       "      <td>17850.0</td>\n",
       "      <td>United Kingdom</td>\n",
       "    </tr>\n",
       "    <tr>\n",
       "      <th>1</th>\n",
       "      <td>536365</td>\n",
       "      <td>71053</td>\n",
       "      <td>WHITE METAL LANTERN</td>\n",
       "      <td>6</td>\n",
       "      <td>2010-12-01 08:26:00</td>\n",
       "      <td>3.39</td>\n",
       "      <td>17850.0</td>\n",
       "      <td>United Kingdom</td>\n",
       "    </tr>\n",
       "    <tr>\n",
       "      <th>2</th>\n",
       "      <td>536365</td>\n",
       "      <td>84406B</td>\n",
       "      <td>CREAM CUPID HEARTS COAT HANGER</td>\n",
       "      <td>8</td>\n",
       "      <td>2010-12-01 08:26:00</td>\n",
       "      <td>2.75</td>\n",
       "      <td>17850.0</td>\n",
       "      <td>United Kingdom</td>\n",
       "    </tr>\n",
       "    <tr>\n",
       "      <th>3</th>\n",
       "      <td>536365</td>\n",
       "      <td>84029G</td>\n",
       "      <td>KNITTED UNION FLAG HOT WATER BOTTLE</td>\n",
       "      <td>6</td>\n",
       "      <td>2010-12-01 08:26:00</td>\n",
       "      <td>3.39</td>\n",
       "      <td>17850.0</td>\n",
       "      <td>United Kingdom</td>\n",
       "    </tr>\n",
       "    <tr>\n",
       "      <th>4</th>\n",
       "      <td>536365</td>\n",
       "      <td>84029E</td>\n",
       "      <td>RED WOOLLY HOTTIE WHITE HEART.</td>\n",
       "      <td>6</td>\n",
       "      <td>2010-12-01 08:26:00</td>\n",
       "      <td>3.39</td>\n",
       "      <td>17850.0</td>\n",
       "      <td>United Kingdom</td>\n",
       "    </tr>\n",
       "  </tbody>\n",
       "</table>\n",
       "</div>"
      ],
      "text/plain": [
       "  InvoiceNo StockCode                          Description  Quantity  \\\n",
       "0    536365    85123A   WHITE HANGING HEART T-LIGHT HOLDER         6   \n",
       "1    536365     71053                  WHITE METAL LANTERN         6   \n",
       "2    536365    84406B       CREAM CUPID HEARTS COAT HANGER         8   \n",
       "3    536365    84029G  KNITTED UNION FLAG HOT WATER BOTTLE         6   \n",
       "4    536365    84029E       RED WOOLLY HOTTIE WHITE HEART.         6   \n",
       "\n",
       "          InvoiceDate  UnitPrice  CustomerID         Country  \n",
       "0 2010-12-01 08:26:00       2.55     17850.0  United Kingdom  \n",
       "1 2010-12-01 08:26:00       3.39     17850.0  United Kingdom  \n",
       "2 2010-12-01 08:26:00       2.75     17850.0  United Kingdom  \n",
       "3 2010-12-01 08:26:00       3.39     17850.0  United Kingdom  \n",
       "4 2010-12-01 08:26:00       3.39     17850.0  United Kingdom  "
      ]
     },
     "execution_count": 14,
     "metadata": {},
     "output_type": "execute_result"
    }
   ],
   "source": [
    "data.head()"
   ]
  },
  {
   "cell_type": "code",
   "execution_count": 15,
   "id": "ddf04ac0",
   "metadata": {
    "hidden": true
   },
   "outputs": [
    {
     "name": "stdout",
     "output_type": "stream",
     "text": [
      "<class 'pandas.core.frame.DataFrame'>\n",
      "RangeIndex: 541909 entries, 0 to 541908\n",
      "Data columns (total 8 columns):\n",
      " #   Column       Non-Null Count   Dtype         \n",
      "---  ------       --------------   -----         \n",
      " 0   InvoiceNo    541909 non-null  object        \n",
      " 1   StockCode    541909 non-null  object        \n",
      " 2   Description  540455 non-null  object        \n",
      " 3   Quantity     541909 non-null  int64         \n",
      " 4   InvoiceDate  541909 non-null  datetime64[ns]\n",
      " 5   UnitPrice    541909 non-null  float64       \n",
      " 6   CustomerID   406829 non-null  float64       \n",
      " 7   Country      541909 non-null  object        \n",
      "dtypes: datetime64[ns](1), float64(2), int64(1), object(4)\n",
      "memory usage: 33.1+ MB\n"
     ]
    }
   ],
   "source": [
    "data.info()"
   ]
  },
  {
   "cell_type": "code",
   "execution_count": 16,
   "id": "50ab004f",
   "metadata": {
    "hidden": true
   },
   "outputs": [
    {
     "data": {
      "text/plain": [
       "InvoiceNo              object\n",
       "StockCode              object\n",
       "Description            object\n",
       "Quantity                int64\n",
       "InvoiceDate    datetime64[ns]\n",
       "UnitPrice             float64\n",
       "CustomerID            float64\n",
       "Country                object\n",
       "dtype: object"
      ]
     },
     "execution_count": 16,
     "metadata": {},
     "output_type": "execute_result"
    }
   ],
   "source": [
    "data.dtypes"
   ]
  },
  {
   "cell_type": "code",
   "execution_count": 17,
   "id": "dc07cca2",
   "metadata": {
    "hidden": true
   },
   "outputs": [
    {
     "data": {
      "text/plain": [
       "InvoiceNo           0\n",
       "StockCode           0\n",
       "Description      1454\n",
       "Quantity            0\n",
       "InvoiceDate         0\n",
       "UnitPrice           0\n",
       "CustomerID     135080\n",
       "Country             0\n",
       "dtype: int64"
      ]
     },
     "execution_count": 17,
     "metadata": {},
     "output_type": "execute_result"
    }
   ],
   "source": [
    "data.isnull().sum()"
   ]
  },
  {
   "cell_type": "code",
   "execution_count": 18,
   "id": "5049effb",
   "metadata": {
    "hidden": true
   },
   "outputs": [],
   "source": [
    "df = data[['CustomerID','InvoiceNo','StockCode','Quantity','UnitPrice','Description','InvoiceDate','Country']]"
   ]
  },
  {
   "cell_type": "code",
   "execution_count": 19,
   "id": "5dc07943",
   "metadata": {
    "hidden": true
   },
   "outputs": [
    {
     "data": {
      "text/html": [
       "<div>\n",
       "<style scoped>\n",
       "    .dataframe tbody tr th:only-of-type {\n",
       "        vertical-align: middle;\n",
       "    }\n",
       "\n",
       "    .dataframe tbody tr th {\n",
       "        vertical-align: top;\n",
       "    }\n",
       "\n",
       "    .dataframe thead th {\n",
       "        text-align: right;\n",
       "    }\n",
       "</style>\n",
       "<table border=\"1\" class=\"dataframe\">\n",
       "  <thead>\n",
       "    <tr style=\"text-align: right;\">\n",
       "      <th></th>\n",
       "      <th>CustomerID</th>\n",
       "      <th>InvoiceNo</th>\n",
       "      <th>StockCode</th>\n",
       "      <th>Quantity</th>\n",
       "      <th>UnitPrice</th>\n",
       "      <th>Description</th>\n",
       "      <th>InvoiceDate</th>\n",
       "      <th>Country</th>\n",
       "    </tr>\n",
       "  </thead>\n",
       "  <tbody>\n",
       "    <tr>\n",
       "      <th>0</th>\n",
       "      <td>17850.0</td>\n",
       "      <td>536365</td>\n",
       "      <td>85123A</td>\n",
       "      <td>6</td>\n",
       "      <td>2.55</td>\n",
       "      <td>WHITE HANGING HEART T-LIGHT HOLDER</td>\n",
       "      <td>2010-12-01 08:26:00</td>\n",
       "      <td>United Kingdom</td>\n",
       "    </tr>\n",
       "    <tr>\n",
       "      <th>1</th>\n",
       "      <td>17850.0</td>\n",
       "      <td>536365</td>\n",
       "      <td>71053</td>\n",
       "      <td>6</td>\n",
       "      <td>3.39</td>\n",
       "      <td>WHITE METAL LANTERN</td>\n",
       "      <td>2010-12-01 08:26:00</td>\n",
       "      <td>United Kingdom</td>\n",
       "    </tr>\n",
       "    <tr>\n",
       "      <th>2</th>\n",
       "      <td>17850.0</td>\n",
       "      <td>536365</td>\n",
       "      <td>84406B</td>\n",
       "      <td>8</td>\n",
       "      <td>2.75</td>\n",
       "      <td>CREAM CUPID HEARTS COAT HANGER</td>\n",
       "      <td>2010-12-01 08:26:00</td>\n",
       "      <td>United Kingdom</td>\n",
       "    </tr>\n",
       "    <tr>\n",
       "      <th>3</th>\n",
       "      <td>17850.0</td>\n",
       "      <td>536365</td>\n",
       "      <td>84029G</td>\n",
       "      <td>6</td>\n",
       "      <td>3.39</td>\n",
       "      <td>KNITTED UNION FLAG HOT WATER BOTTLE</td>\n",
       "      <td>2010-12-01 08:26:00</td>\n",
       "      <td>United Kingdom</td>\n",
       "    </tr>\n",
       "    <tr>\n",
       "      <th>4</th>\n",
       "      <td>17850.0</td>\n",
       "      <td>536365</td>\n",
       "      <td>84029E</td>\n",
       "      <td>6</td>\n",
       "      <td>3.39</td>\n",
       "      <td>RED WOOLLY HOTTIE WHITE HEART.</td>\n",
       "      <td>2010-12-01 08:26:00</td>\n",
       "      <td>United Kingdom</td>\n",
       "    </tr>\n",
       "  </tbody>\n",
       "</table>\n",
       "</div>"
      ],
      "text/plain": [
       "   CustomerID InvoiceNo StockCode  Quantity  UnitPrice  \\\n",
       "0     17850.0    536365    85123A         6       2.55   \n",
       "1     17850.0    536365     71053         6       3.39   \n",
       "2     17850.0    536365    84406B         8       2.75   \n",
       "3     17850.0    536365    84029G         6       3.39   \n",
       "4     17850.0    536365    84029E         6       3.39   \n",
       "\n",
       "                           Description         InvoiceDate         Country  \n",
       "0   WHITE HANGING HEART T-LIGHT HOLDER 2010-12-01 08:26:00  United Kingdom  \n",
       "1                  WHITE METAL LANTERN 2010-12-01 08:26:00  United Kingdom  \n",
       "2       CREAM CUPID HEARTS COAT HANGER 2010-12-01 08:26:00  United Kingdom  \n",
       "3  KNITTED UNION FLAG HOT WATER BOTTLE 2010-12-01 08:26:00  United Kingdom  \n",
       "4       RED WOOLLY HOTTIE WHITE HEART. 2010-12-01 08:26:00  United Kingdom  "
      ]
     },
     "execution_count": 19,
     "metadata": {},
     "output_type": "execute_result"
    }
   ],
   "source": [
    "df.head()"
   ]
  },
  {
   "cell_type": "markdown",
   "id": "7baf678b",
   "metadata": {
    "heading_collapsed": true,
    "hidden": true
   },
   "source": [
    "### Sale Performance"
   ]
  },
  {
   "cell_type": "code",
   "execution_count": 20,
   "id": "1cd44f79",
   "metadata": {
    "hidden": true
   },
   "outputs": [],
   "source": [
    "TotalAmount = df['Quantity'] * df['UnitPrice']\n",
    "df.insert(loc=5,column='TotalAmount',value=TotalAmount)"
   ]
  },
  {
   "cell_type": "code",
   "execution_count": 21,
   "id": "38f83333",
   "metadata": {
    "hidden": true
   },
   "outputs": [
    {
     "data": {
      "text/html": [
       "<div>\n",
       "<style scoped>\n",
       "    .dataframe tbody tr th:only-of-type {\n",
       "        vertical-align: middle;\n",
       "    }\n",
       "\n",
       "    .dataframe tbody tr th {\n",
       "        vertical-align: top;\n",
       "    }\n",
       "\n",
       "    .dataframe thead th {\n",
       "        text-align: right;\n",
       "    }\n",
       "</style>\n",
       "<table border=\"1\" class=\"dataframe\">\n",
       "  <thead>\n",
       "    <tr style=\"text-align: right;\">\n",
       "      <th></th>\n",
       "      <th>CustomerID</th>\n",
       "      <th>InvoiceNo</th>\n",
       "      <th>StockCode</th>\n",
       "      <th>Quantity</th>\n",
       "      <th>UnitPrice</th>\n",
       "      <th>TotalAmount</th>\n",
       "      <th>Description</th>\n",
       "      <th>InvoiceDate</th>\n",
       "      <th>Country</th>\n",
       "    </tr>\n",
       "  </thead>\n",
       "  <tbody>\n",
       "    <tr>\n",
       "      <th>0</th>\n",
       "      <td>17850.0</td>\n",
       "      <td>536365</td>\n",
       "      <td>85123A</td>\n",
       "      <td>6</td>\n",
       "      <td>2.55</td>\n",
       "      <td>15.30</td>\n",
       "      <td>WHITE HANGING HEART T-LIGHT HOLDER</td>\n",
       "      <td>2010-12-01 08:26:00</td>\n",
       "      <td>United Kingdom</td>\n",
       "    </tr>\n",
       "    <tr>\n",
       "      <th>1</th>\n",
       "      <td>17850.0</td>\n",
       "      <td>536365</td>\n",
       "      <td>71053</td>\n",
       "      <td>6</td>\n",
       "      <td>3.39</td>\n",
       "      <td>20.34</td>\n",
       "      <td>WHITE METAL LANTERN</td>\n",
       "      <td>2010-12-01 08:26:00</td>\n",
       "      <td>United Kingdom</td>\n",
       "    </tr>\n",
       "    <tr>\n",
       "      <th>2</th>\n",
       "      <td>17850.0</td>\n",
       "      <td>536365</td>\n",
       "      <td>84406B</td>\n",
       "      <td>8</td>\n",
       "      <td>2.75</td>\n",
       "      <td>22.00</td>\n",
       "      <td>CREAM CUPID HEARTS COAT HANGER</td>\n",
       "      <td>2010-12-01 08:26:00</td>\n",
       "      <td>United Kingdom</td>\n",
       "    </tr>\n",
       "    <tr>\n",
       "      <th>3</th>\n",
       "      <td>17850.0</td>\n",
       "      <td>536365</td>\n",
       "      <td>84029G</td>\n",
       "      <td>6</td>\n",
       "      <td>3.39</td>\n",
       "      <td>20.34</td>\n",
       "      <td>KNITTED UNION FLAG HOT WATER BOTTLE</td>\n",
       "      <td>2010-12-01 08:26:00</td>\n",
       "      <td>United Kingdom</td>\n",
       "    </tr>\n",
       "    <tr>\n",
       "      <th>4</th>\n",
       "      <td>17850.0</td>\n",
       "      <td>536365</td>\n",
       "      <td>84029E</td>\n",
       "      <td>6</td>\n",
       "      <td>3.39</td>\n",
       "      <td>20.34</td>\n",
       "      <td>RED WOOLLY HOTTIE WHITE HEART.</td>\n",
       "      <td>2010-12-01 08:26:00</td>\n",
       "      <td>United Kingdom</td>\n",
       "    </tr>\n",
       "    <tr>\n",
       "      <th>...</th>\n",
       "      <td>...</td>\n",
       "      <td>...</td>\n",
       "      <td>...</td>\n",
       "      <td>...</td>\n",
       "      <td>...</td>\n",
       "      <td>...</td>\n",
       "      <td>...</td>\n",
       "      <td>...</td>\n",
       "      <td>...</td>\n",
       "    </tr>\n",
       "    <tr>\n",
       "      <th>541904</th>\n",
       "      <td>12680.0</td>\n",
       "      <td>581587</td>\n",
       "      <td>22613</td>\n",
       "      <td>12</td>\n",
       "      <td>0.85</td>\n",
       "      <td>10.20</td>\n",
       "      <td>PACK OF 20 SPACEBOY NAPKINS</td>\n",
       "      <td>2011-12-09 12:50:00</td>\n",
       "      <td>France</td>\n",
       "    </tr>\n",
       "    <tr>\n",
       "      <th>541905</th>\n",
       "      <td>12680.0</td>\n",
       "      <td>581587</td>\n",
       "      <td>22899</td>\n",
       "      <td>6</td>\n",
       "      <td>2.10</td>\n",
       "      <td>12.60</td>\n",
       "      <td>CHILDREN'S APRON DOLLY GIRL</td>\n",
       "      <td>2011-12-09 12:50:00</td>\n",
       "      <td>France</td>\n",
       "    </tr>\n",
       "    <tr>\n",
       "      <th>541906</th>\n",
       "      <td>12680.0</td>\n",
       "      <td>581587</td>\n",
       "      <td>23254</td>\n",
       "      <td>4</td>\n",
       "      <td>4.15</td>\n",
       "      <td>16.60</td>\n",
       "      <td>CHILDRENS CUTLERY DOLLY GIRL</td>\n",
       "      <td>2011-12-09 12:50:00</td>\n",
       "      <td>France</td>\n",
       "    </tr>\n",
       "    <tr>\n",
       "      <th>541907</th>\n",
       "      <td>12680.0</td>\n",
       "      <td>581587</td>\n",
       "      <td>23255</td>\n",
       "      <td>4</td>\n",
       "      <td>4.15</td>\n",
       "      <td>16.60</td>\n",
       "      <td>CHILDRENS CUTLERY CIRCUS PARADE</td>\n",
       "      <td>2011-12-09 12:50:00</td>\n",
       "      <td>France</td>\n",
       "    </tr>\n",
       "    <tr>\n",
       "      <th>541908</th>\n",
       "      <td>12680.0</td>\n",
       "      <td>581587</td>\n",
       "      <td>22138</td>\n",
       "      <td>3</td>\n",
       "      <td>4.95</td>\n",
       "      <td>14.85</td>\n",
       "      <td>BAKING SET 9 PIECE RETROSPOT</td>\n",
       "      <td>2011-12-09 12:50:00</td>\n",
       "      <td>France</td>\n",
       "    </tr>\n",
       "  </tbody>\n",
       "</table>\n",
       "<p>541909 rows × 9 columns</p>\n",
       "</div>"
      ],
      "text/plain": [
       "        CustomerID InvoiceNo StockCode  Quantity  UnitPrice  TotalAmount  \\\n",
       "0          17850.0    536365    85123A         6       2.55        15.30   \n",
       "1          17850.0    536365     71053         6       3.39        20.34   \n",
       "2          17850.0    536365    84406B         8       2.75        22.00   \n",
       "3          17850.0    536365    84029G         6       3.39        20.34   \n",
       "4          17850.0    536365    84029E         6       3.39        20.34   \n",
       "...            ...       ...       ...       ...        ...          ...   \n",
       "541904     12680.0    581587     22613        12       0.85        10.20   \n",
       "541905     12680.0    581587     22899         6       2.10        12.60   \n",
       "541906     12680.0    581587     23254         4       4.15        16.60   \n",
       "541907     12680.0    581587     23255         4       4.15        16.60   \n",
       "541908     12680.0    581587     22138         3       4.95        14.85   \n",
       "\n",
       "                                Description         InvoiceDate  \\\n",
       "0        WHITE HANGING HEART T-LIGHT HOLDER 2010-12-01 08:26:00   \n",
       "1                       WHITE METAL LANTERN 2010-12-01 08:26:00   \n",
       "2            CREAM CUPID HEARTS COAT HANGER 2010-12-01 08:26:00   \n",
       "3       KNITTED UNION FLAG HOT WATER BOTTLE 2010-12-01 08:26:00   \n",
       "4            RED WOOLLY HOTTIE WHITE HEART. 2010-12-01 08:26:00   \n",
       "...                                     ...                 ...   \n",
       "541904          PACK OF 20 SPACEBOY NAPKINS 2011-12-09 12:50:00   \n",
       "541905         CHILDREN'S APRON DOLLY GIRL  2011-12-09 12:50:00   \n",
       "541906        CHILDRENS CUTLERY DOLLY GIRL  2011-12-09 12:50:00   \n",
       "541907      CHILDRENS CUTLERY CIRCUS PARADE 2011-12-09 12:50:00   \n",
       "541908        BAKING SET 9 PIECE RETROSPOT  2011-12-09 12:50:00   \n",
       "\n",
       "               Country  \n",
       "0       United Kingdom  \n",
       "1       United Kingdom  \n",
       "2       United Kingdom  \n",
       "3       United Kingdom  \n",
       "4       United Kingdom  \n",
       "...                ...  \n",
       "541904          France  \n",
       "541905          France  \n",
       "541906          France  \n",
       "541907          France  \n",
       "541908          France  \n",
       "\n",
       "[541909 rows x 9 columns]"
      ]
     },
     "execution_count": 21,
     "metadata": {},
     "output_type": "execute_result"
    }
   ],
   "source": [
    "df"
   ]
  },
  {
   "cell_type": "code",
   "execution_count": 22,
   "id": "8c5f1245",
   "metadata": {
    "hidden": true
   },
   "outputs": [],
   "source": [
    "new_df = df[['CustomerID','InvoiceNo','StockCode','Quantity','UnitPrice','TotalAmount','Description','InvoiceDate','Country']]"
   ]
  },
  {
   "cell_type": "code",
   "execution_count": 23,
   "id": "a993034a",
   "metadata": {
    "hidden": true
   },
   "outputs": [
    {
     "data": {
      "text/html": [
       "<div>\n",
       "<style scoped>\n",
       "    .dataframe tbody tr th:only-of-type {\n",
       "        vertical-align: middle;\n",
       "    }\n",
       "\n",
       "    .dataframe tbody tr th {\n",
       "        vertical-align: top;\n",
       "    }\n",
       "\n",
       "    .dataframe thead th {\n",
       "        text-align: right;\n",
       "    }\n",
       "</style>\n",
       "<table border=\"1\" class=\"dataframe\">\n",
       "  <thead>\n",
       "    <tr style=\"text-align: right;\">\n",
       "      <th></th>\n",
       "      <th>CustomerID</th>\n",
       "      <th>InvoiceNo</th>\n",
       "      <th>StockCode</th>\n",
       "      <th>Quantity</th>\n",
       "      <th>UnitPrice</th>\n",
       "      <th>TotalAmount</th>\n",
       "      <th>Description</th>\n",
       "      <th>InvoiceDate</th>\n",
       "      <th>Country</th>\n",
       "    </tr>\n",
       "  </thead>\n",
       "  <tbody>\n",
       "    <tr>\n",
       "      <th>0</th>\n",
       "      <td>17850.0</td>\n",
       "      <td>536365</td>\n",
       "      <td>85123A</td>\n",
       "      <td>6</td>\n",
       "      <td>2.55</td>\n",
       "      <td>15.30</td>\n",
       "      <td>WHITE HANGING HEART T-LIGHT HOLDER</td>\n",
       "      <td>2010-12-01 08:26:00</td>\n",
       "      <td>United Kingdom</td>\n",
       "    </tr>\n",
       "    <tr>\n",
       "      <th>1</th>\n",
       "      <td>17850.0</td>\n",
       "      <td>536365</td>\n",
       "      <td>71053</td>\n",
       "      <td>6</td>\n",
       "      <td>3.39</td>\n",
       "      <td>20.34</td>\n",
       "      <td>WHITE METAL LANTERN</td>\n",
       "      <td>2010-12-01 08:26:00</td>\n",
       "      <td>United Kingdom</td>\n",
       "    </tr>\n",
       "    <tr>\n",
       "      <th>2</th>\n",
       "      <td>17850.0</td>\n",
       "      <td>536365</td>\n",
       "      <td>84406B</td>\n",
       "      <td>8</td>\n",
       "      <td>2.75</td>\n",
       "      <td>22.00</td>\n",
       "      <td>CREAM CUPID HEARTS COAT HANGER</td>\n",
       "      <td>2010-12-01 08:26:00</td>\n",
       "      <td>United Kingdom</td>\n",
       "    </tr>\n",
       "    <tr>\n",
       "      <th>3</th>\n",
       "      <td>17850.0</td>\n",
       "      <td>536365</td>\n",
       "      <td>84029G</td>\n",
       "      <td>6</td>\n",
       "      <td>3.39</td>\n",
       "      <td>20.34</td>\n",
       "      <td>KNITTED UNION FLAG HOT WATER BOTTLE</td>\n",
       "      <td>2010-12-01 08:26:00</td>\n",
       "      <td>United Kingdom</td>\n",
       "    </tr>\n",
       "    <tr>\n",
       "      <th>4</th>\n",
       "      <td>17850.0</td>\n",
       "      <td>536365</td>\n",
       "      <td>84029E</td>\n",
       "      <td>6</td>\n",
       "      <td>3.39</td>\n",
       "      <td>20.34</td>\n",
       "      <td>RED WOOLLY HOTTIE WHITE HEART.</td>\n",
       "      <td>2010-12-01 08:26:00</td>\n",
       "      <td>United Kingdom</td>\n",
       "    </tr>\n",
       "  </tbody>\n",
       "</table>\n",
       "</div>"
      ],
      "text/plain": [
       "   CustomerID InvoiceNo StockCode  Quantity  UnitPrice  TotalAmount  \\\n",
       "0     17850.0    536365    85123A         6       2.55        15.30   \n",
       "1     17850.0    536365     71053         6       3.39        20.34   \n",
       "2     17850.0    536365    84406B         8       2.75        22.00   \n",
       "3     17850.0    536365    84029G         6       3.39        20.34   \n",
       "4     17850.0    536365    84029E         6       3.39        20.34   \n",
       "\n",
       "                           Description         InvoiceDate         Country  \n",
       "0   WHITE HANGING HEART T-LIGHT HOLDER 2010-12-01 08:26:00  United Kingdom  \n",
       "1                  WHITE METAL LANTERN 2010-12-01 08:26:00  United Kingdom  \n",
       "2       CREAM CUPID HEARTS COAT HANGER 2010-12-01 08:26:00  United Kingdom  \n",
       "3  KNITTED UNION FLAG HOT WATER BOTTLE 2010-12-01 08:26:00  United Kingdom  \n",
       "4       RED WOOLLY HOTTIE WHITE HEART. 2010-12-01 08:26:00  United Kingdom  "
      ]
     },
     "execution_count": 23,
     "metadata": {},
     "output_type": "execute_result"
    }
   ],
   "source": [
    "new_df.head()"
   ]
  },
  {
   "cell_type": "code",
   "execution_count": 24,
   "id": "49769403",
   "metadata": {
    "hidden": true
   },
   "outputs": [
    {
     "data": {
      "text/plain": [
       "Country\n",
       "United Kingdom          4263829\n",
       "Netherlands              200128\n",
       "EIRE                     142637\n",
       "Germany                  117448\n",
       "France                   110480\n",
       "Australia                 83653\n",
       "Sweden                    35637\n",
       "Switzerland               30325\n",
       "Spain                     26824\n",
       "Japan                     25218\n",
       "Belgium                   23152\n",
       "Norway                    19247\n",
       "Portugal                  16180\n",
       "Finland                   10666\n",
       "Channel Islands            9479\n",
       "Denmark                    8188\n",
       "Italy                      7999\n",
       "Cyprus                     6317\n",
       "Singapore                  5234\n",
       "Austria                    4827\n",
       "Hong Kong                  4769\n",
       "Israel                     4353\n",
       "Poland                     3653\n",
       "Unspecified                3300\n",
       "Canada                     2763\n",
       "Iceland                    2458\n",
       "Greece                     1556\n",
       "USA                        1034\n",
       "United Arab Emirates        982\n",
       "Malta                       944\n",
       "Lithuania                   652\n",
       "Czech Republic              592\n",
       "European Community          497\n",
       "Lebanon                     386\n",
       "Brazil                      356\n",
       "RSA                         352\n",
       "Bahrain                     260\n",
       "Saudi Arabia                 75\n",
       "Name: Quantity, dtype: int64"
      ]
     },
     "execution_count": 24,
     "metadata": {},
     "output_type": "execute_result"
    }
   ],
   "source": [
    "country_Quantity = new_df.groupby('Country')['Quantity'].sum().sort_values(ascending = False)\n",
    "country_Quantity"
   ]
  },
  {
   "cell_type": "code",
   "execution_count": 25,
   "id": "32ef95f5",
   "metadata": {
    "hidden": true
   },
   "outputs": [
    {
     "data": {
      "text/plain": [
       "<AxesSubplot:xlabel='Country'>"
      ]
     },
     "execution_count": 25,
     "metadata": {},
     "output_type": "execute_result"
    },
    {
     "data": {
      "image/png": "[encoded data removed]",
      "text/plain": [
       "<Figure size 432x288 with 1 Axes>"
      ]
     },
     "metadata": {
      "needs_background": "light"
     },
     "output_type": "display_data"
    }
   ],
   "source": [
    "country_Quantity[:5].plot(kind = 'bar')"
   ]
  },
  {
   "cell_type": "code",
   "execution_count": 26,
   "id": "03f85282",
   "metadata": {
    "hidden": true,
    "scrolled": true
   },
   "outputs": [
    {
     "data": {
      "text/html": [
       "<div>\n",
       "<style scoped>\n",
       "    .dataframe tbody tr th:only-of-type {\n",
       "        vertical-align: middle;\n",
       "    }\n",
       "\n",
       "    .dataframe tbody tr th {\n",
       "        vertical-align: top;\n",
       "    }\n",
       "\n",
       "    .dataframe thead th {\n",
       "        text-align: right;\n",
       "    }\n",
       "</style>\n",
       "<table border=\"1\" class=\"dataframe\">\n",
       "  <thead>\n",
       "    <tr style=\"text-align: right;\">\n",
       "      <th></th>\n",
       "      <th>CustomerID</th>\n",
       "      <th>InvoiceNo</th>\n",
       "      <th>StockCode</th>\n",
       "      <th>Quantity</th>\n",
       "      <th>UnitPrice</th>\n",
       "      <th>TotalAmount</th>\n",
       "      <th>Description</th>\n",
       "      <th>InvoiceDate</th>\n",
       "      <th>Country</th>\n",
       "    </tr>\n",
       "  </thead>\n",
       "  <tbody>\n",
       "    <tr>\n",
       "      <th>622</th>\n",
       "      <td>NaN</td>\n",
       "      <td>536414</td>\n",
       "      <td>22139</td>\n",
       "      <td>56</td>\n",
       "      <td>0.00</td>\n",
       "      <td>0.00</td>\n",
       "      <td>NaN</td>\n",
       "      <td>2010-12-01 11:52:00</td>\n",
       "      <td>United Kingdom</td>\n",
       "    </tr>\n",
       "    <tr>\n",
       "      <th>1443</th>\n",
       "      <td>NaN</td>\n",
       "      <td>536544</td>\n",
       "      <td>21773</td>\n",
       "      <td>1</td>\n",
       "      <td>2.51</td>\n",
       "      <td>2.51</td>\n",
       "      <td>DECORATIVE ROSE BATHROOM BOTTLE</td>\n",
       "      <td>2010-12-01 14:32:00</td>\n",
       "      <td>United Kingdom</td>\n",
       "    </tr>\n",
       "    <tr>\n",
       "      <th>1444</th>\n",
       "      <td>NaN</td>\n",
       "      <td>536544</td>\n",
       "      <td>21774</td>\n",
       "      <td>2</td>\n",
       "      <td>2.51</td>\n",
       "      <td>5.02</td>\n",
       "      <td>DECORATIVE CATS BATHROOM BOTTLE</td>\n",
       "      <td>2010-12-01 14:32:00</td>\n",
       "      <td>United Kingdom</td>\n",
       "    </tr>\n",
       "    <tr>\n",
       "      <th>1445</th>\n",
       "      <td>NaN</td>\n",
       "      <td>536544</td>\n",
       "      <td>21786</td>\n",
       "      <td>4</td>\n",
       "      <td>0.85</td>\n",
       "      <td>3.40</td>\n",
       "      <td>POLKADOT RAIN HAT</td>\n",
       "      <td>2010-12-01 14:32:00</td>\n",
       "      <td>United Kingdom</td>\n",
       "    </tr>\n",
       "    <tr>\n",
       "      <th>1446</th>\n",
       "      <td>NaN</td>\n",
       "      <td>536544</td>\n",
       "      <td>21787</td>\n",
       "      <td>2</td>\n",
       "      <td>1.66</td>\n",
       "      <td>3.32</td>\n",
       "      <td>RAIN PONCHO RETROSPOT</td>\n",
       "      <td>2010-12-01 14:32:00</td>\n",
       "      <td>United Kingdom</td>\n",
       "    </tr>\n",
       "  </tbody>\n",
       "</table>\n",
       "</div>"
      ],
      "text/plain": [
       "      CustomerID InvoiceNo StockCode  Quantity  UnitPrice  TotalAmount  \\\n",
       "622          NaN    536414     22139        56       0.00         0.00   \n",
       "1443         NaN    536544     21773         1       2.51         2.51   \n",
       "1444         NaN    536544     21774         2       2.51         5.02   \n",
       "1445         NaN    536544     21786         4       0.85         3.40   \n",
       "1446         NaN    536544     21787         2       1.66         3.32   \n",
       "\n",
       "                          Description         InvoiceDate         Country  \n",
       "622                               NaN 2010-12-01 11:52:00  United Kingdom  \n",
       "1443  DECORATIVE ROSE BATHROOM BOTTLE 2010-12-01 14:32:00  United Kingdom  \n",
       "1444  DECORATIVE CATS BATHROOM BOTTLE 2010-12-01 14:32:00  United Kingdom  \n",
       "1445               POLKADOT RAIN HAT  2010-12-01 14:32:00  United Kingdom  \n",
       "1446            RAIN PONCHO RETROSPOT 2010-12-01 14:32:00  United Kingdom  "
      ]
     },
     "execution_count": 26,
     "metadata": {},
     "output_type": "execute_result"
    }
   ],
   "source": [
    "nan_rows = new_df[new_df.isnull().T.any().T]\n",
    "nan_rows.head(5)"
   ]
  },
  {
   "cell_type": "markdown",
   "id": "84a75312",
   "metadata": {
    "heading_collapsed": true
   },
   "source": [
    "# 2. Data Cleaning "
   ]
  },
  {
   "cell_type": "code",
   "execution_count": 118,
   "id": "ae99b6c1",
   "metadata": {
    "hidden": true
   },
   "outputs": [],
   "source": [
    "new_df = new_df.dropna(subset=[\"CustomerID\"])"
   ]
  },
  {
   "cell_type": "code",
   "execution_count": 120,
   "id": "005b8978",
   "metadata": {
    "hidden": true
   },
   "outputs": [
    {
     "data": {
      "text/html": [
       "<div>\n",
       "<style scoped>\n",
       "    .dataframe tbody tr th:only-of-type {\n",
       "        vertical-align: middle;\n",
       "    }\n",
       "\n",
       "    .dataframe tbody tr th {\n",
       "        vertical-align: top;\n",
       "    }\n",
       "\n",
       "    .dataframe thead th {\n",
       "        text-align: right;\n",
       "    }\n",
       "</style>\n",
       "<table border=\"1\" class=\"dataframe\">\n",
       "  <thead>\n",
       "    <tr style=\"text-align: right;\">\n",
       "      <th></th>\n",
       "      <th>CustomerID</th>\n",
       "      <th>InvoiceNo</th>\n",
       "      <th>StockCode</th>\n",
       "      <th>Quantity</th>\n",
       "      <th>UnitPrice</th>\n",
       "      <th>TotalAmount</th>\n",
       "      <th>Description</th>\n",
       "      <th>InvoiceDate</th>\n",
       "      <th>Country</th>\n",
       "    </tr>\n",
       "  </thead>\n",
       "  <tbody>\n",
       "    <tr>\n",
       "      <th>0</th>\n",
       "      <td>17850</td>\n",
       "      <td>536365</td>\n",
       "      <td>85123A</td>\n",
       "      <td>6</td>\n",
       "      <td>2.55</td>\n",
       "      <td>15.30</td>\n",
       "      <td>WHITE HANGING HEART T-LIGHT HOLDER</td>\n",
       "      <td>2010-12-01 08:26:00</td>\n",
       "      <td>United Kingdom</td>\n",
       "    </tr>\n",
       "    <tr>\n",
       "      <th>1</th>\n",
       "      <td>17850</td>\n",
       "      <td>536365</td>\n",
       "      <td>71053</td>\n",
       "      <td>6</td>\n",
       "      <td>3.39</td>\n",
       "      <td>20.34</td>\n",
       "      <td>WHITE METAL LANTERN</td>\n",
       "      <td>2010-12-01 08:26:00</td>\n",
       "      <td>United Kingdom</td>\n",
       "    </tr>\n",
       "    <tr>\n",
       "      <th>2</th>\n",
       "      <td>17850</td>\n",
       "      <td>536365</td>\n",
       "      <td>84406B</td>\n",
       "      <td>8</td>\n",
       "      <td>2.75</td>\n",
       "      <td>22.00</td>\n",
       "      <td>CREAM CUPID HEARTS COAT HANGER</td>\n",
       "      <td>2010-12-01 08:26:00</td>\n",
       "      <td>United Kingdom</td>\n",
       "    </tr>\n",
       "    <tr>\n",
       "      <th>3</th>\n",
       "      <td>17850</td>\n",
       "      <td>536365</td>\n",
       "      <td>84029G</td>\n",
       "      <td>6</td>\n",
       "      <td>3.39</td>\n",
       "      <td>20.34</td>\n",
       "      <td>KNITTED UNION FLAG HOT WATER BOTTLE</td>\n",
       "      <td>2010-12-01 08:26:00</td>\n",
       "      <td>United Kingdom</td>\n",
       "    </tr>\n",
       "    <tr>\n",
       "      <th>4</th>\n",
       "      <td>17850</td>\n",
       "      <td>536365</td>\n",
       "      <td>84029E</td>\n",
       "      <td>6</td>\n",
       "      <td>3.39</td>\n",
       "      <td>20.34</td>\n",
       "      <td>RED WOOLLY HOTTIE WHITE HEART.</td>\n",
       "      <td>2010-12-01 08:26:00</td>\n",
       "      <td>United Kingdom</td>\n",
       "    </tr>\n",
       "    <tr>\n",
       "      <th>...</th>\n",
       "      <td>...</td>\n",
       "      <td>...</td>\n",
       "      <td>...</td>\n",
       "      <td>...</td>\n",
       "      <td>...</td>\n",
       "      <td>...</td>\n",
       "      <td>...</td>\n",
       "      <td>...</td>\n",
       "      <td>...</td>\n",
       "    </tr>\n",
       "    <tr>\n",
       "      <th>541904</th>\n",
       "      <td>12680</td>\n",
       "      <td>581587</td>\n",
       "      <td>22613</td>\n",
       "      <td>12</td>\n",
       "      <td>0.85</td>\n",
       "      <td>10.20</td>\n",
       "      <td>PACK OF 20 SPACEBOY NAPKINS</td>\n",
       "      <td>2011-12-09 12:50:00</td>\n",
       "      <td>France</td>\n",
       "    </tr>\n",
       "    <tr>\n",
       "      <th>541905</th>\n",
       "      <td>12680</td>\n",
       "      <td>581587</td>\n",
       "      <td>22899</td>\n",
       "      <td>6</td>\n",
       "      <td>2.10</td>\n",
       "      <td>12.60</td>\n",
       "      <td>CHILDREN'S APRON DOLLY GIRL</td>\n",
       "      <td>2011-12-09 12:50:00</td>\n",
       "      <td>France</td>\n",
       "    </tr>\n",
       "    <tr>\n",
       "      <th>541906</th>\n",
       "      <td>12680</td>\n",
       "      <td>581587</td>\n",
       "      <td>23254</td>\n",
       "      <td>4</td>\n",
       "      <td>4.15</td>\n",
       "      <td>16.60</td>\n",
       "      <td>CHILDRENS CUTLERY DOLLY GIRL</td>\n",
       "      <td>2011-12-09 12:50:00</td>\n",
       "      <td>France</td>\n",
       "    </tr>\n",
       "    <tr>\n",
       "      <th>541907</th>\n",
       "      <td>12680</td>\n",
       "      <td>581587</td>\n",
       "      <td>23255</td>\n",
       "      <td>4</td>\n",
       "      <td>4.15</td>\n",
       "      <td>16.60</td>\n",
       "      <td>CHILDRENS CUTLERY CIRCUS PARADE</td>\n",
       "      <td>2011-12-09 12:50:00</td>\n",
       "      <td>France</td>\n",
       "    </tr>\n",
       "    <tr>\n",
       "      <th>541908</th>\n",
       "      <td>12680</td>\n",
       "      <td>581587</td>\n",
       "      <td>22138</td>\n",
       "      <td>3</td>\n",
       "      <td>4.95</td>\n",
       "      <td>14.85</td>\n",
       "      <td>BAKING SET 9 PIECE RETROSPOT</td>\n",
       "      <td>2011-12-09 12:50:00</td>\n",
       "      <td>France</td>\n",
       "    </tr>\n",
       "  </tbody>\n",
       "</table>\n",
       "<p>401604 rows × 9 columns</p>\n",
       "</div>"
      ],
      "text/plain": [
       "        CustomerID InvoiceNo StockCode  Quantity  UnitPrice  TotalAmount  \\\n",
       "0            17850    536365    85123A         6       2.55        15.30   \n",
       "1            17850    536365     71053         6       3.39        20.34   \n",
       "2            17850    536365    84406B         8       2.75        22.00   \n",
       "3            17850    536365    84029G         6       3.39        20.34   \n",
       "4            17850    536365    84029E         6       3.39        20.34   \n",
       "...            ...       ...       ...       ...        ...          ...   \n",
       "541904       12680    581587     22613        12       0.85        10.20   \n",
       "541905       12680    581587     22899         6       2.10        12.60   \n",
       "541906       12680    581587     23254         4       4.15        16.60   \n",
       "541907       12680    581587     23255         4       4.15        16.60   \n",
       "541908       12680    581587     22138         3       4.95        14.85   \n",
       "\n",
       "                                Description         InvoiceDate  \\\n",
       "0        WHITE HANGING HEART T-LIGHT HOLDER 2010-12-01 08:26:00   \n",
       "1                       WHITE METAL LANTERN 2010-12-01 08:26:00   \n",
       "2            CREAM CUPID HEARTS COAT HANGER 2010-12-01 08:26:00   \n",
       "3       KNITTED UNION FLAG HOT WATER BOTTLE 2010-12-01 08:26:00   \n",
       "4            RED WOOLLY HOTTIE WHITE HEART. 2010-12-01 08:26:00   \n",
       "...                                     ...                 ...   \n",
       "541904          PACK OF 20 SPACEBOY NAPKINS 2011-12-09 12:50:00   \n",
       "541905         CHILDREN'S APRON DOLLY GIRL  2011-12-09 12:50:00   \n",
       "541906        CHILDRENS CUTLERY DOLLY GIRL  2011-12-09 12:50:00   \n",
       "541907      CHILDRENS CUTLERY CIRCUS PARADE 2011-12-09 12:50:00   \n",
       "541908        BAKING SET 9 PIECE RETROSPOT  2011-12-09 12:50:00   \n",
       "\n",
       "               Country  \n",
       "0       United Kingdom  \n",
       "1       United Kingdom  \n",
       "2       United Kingdom  \n",
       "3       United Kingdom  \n",
       "4       United Kingdom  \n",
       "...                ...  \n",
       "541904          France  \n",
       "541905          France  \n",
       "541906          France  \n",
       "541907          France  \n",
       "541908          France  \n",
       "\n",
       "[401604 rows x 9 columns]"
      ]
     },
     "execution_count": 120,
     "metadata": {},
     "output_type": "execute_result"
    }
   ],
   "source": [
    "new_df"
   ]
  },
  {
   "cell_type": "code",
   "execution_count": 28,
   "id": "35d80318",
   "metadata": {
    "hidden": true
   },
   "outputs": [
    {
     "data": {
      "text/html": [
       "<div>\n",
       "<style scoped>\n",
       "    .dataframe tbody tr th:only-of-type {\n",
       "        vertical-align: middle;\n",
       "    }\n",
       "\n",
       "    .dataframe tbody tr th {\n",
       "        vertical-align: top;\n",
       "    }\n",
       "\n",
       "    .dataframe thead th {\n",
       "        text-align: right;\n",
       "    }\n",
       "</style>\n",
       "<table border=\"1\" class=\"dataframe\">\n",
       "  <thead>\n",
       "    <tr style=\"text-align: right;\">\n",
       "      <th></th>\n",
       "      <th>CustomerID</th>\n",
       "      <th>InvoiceNo</th>\n",
       "      <th>StockCode</th>\n",
       "      <th>Quantity</th>\n",
       "      <th>UnitPrice</th>\n",
       "      <th>TotalAmount</th>\n",
       "      <th>Description</th>\n",
       "      <th>InvoiceDate</th>\n",
       "      <th>Country</th>\n",
       "    </tr>\n",
       "  </thead>\n",
       "  <tbody>\n",
       "    <tr>\n",
       "      <th>0</th>\n",
       "      <td>17850.0</td>\n",
       "      <td>536365</td>\n",
       "      <td>85123A</td>\n",
       "      <td>6</td>\n",
       "      <td>2.55</td>\n",
       "      <td>15.30</td>\n",
       "      <td>WHITE HANGING HEART T-LIGHT HOLDER</td>\n",
       "      <td>2010-12-01 08:26:00</td>\n",
       "      <td>United Kingdom</td>\n",
       "    </tr>\n",
       "    <tr>\n",
       "      <th>1</th>\n",
       "      <td>17850.0</td>\n",
       "      <td>536365</td>\n",
       "      <td>71053</td>\n",
       "      <td>6</td>\n",
       "      <td>3.39</td>\n",
       "      <td>20.34</td>\n",
       "      <td>WHITE METAL LANTERN</td>\n",
       "      <td>2010-12-01 08:26:00</td>\n",
       "      <td>United Kingdom</td>\n",
       "    </tr>\n",
       "    <tr>\n",
       "      <th>2</th>\n",
       "      <td>17850.0</td>\n",
       "      <td>536365</td>\n",
       "      <td>84406B</td>\n",
       "      <td>8</td>\n",
       "      <td>2.75</td>\n",
       "      <td>22.00</td>\n",
       "      <td>CREAM CUPID HEARTS COAT HANGER</td>\n",
       "      <td>2010-12-01 08:26:00</td>\n",
       "      <td>United Kingdom</td>\n",
       "    </tr>\n",
       "    <tr>\n",
       "      <th>3</th>\n",
       "      <td>17850.0</td>\n",
       "      <td>536365</td>\n",
       "      <td>84029G</td>\n",
       "      <td>6</td>\n",
       "      <td>3.39</td>\n",
       "      <td>20.34</td>\n",
       "      <td>KNITTED UNION FLAG HOT WATER BOTTLE</td>\n",
       "      <td>2010-12-01 08:26:00</td>\n",
       "      <td>United Kingdom</td>\n",
       "    </tr>\n",
       "    <tr>\n",
       "      <th>4</th>\n",
       "      <td>17850.0</td>\n",
       "      <td>536365</td>\n",
       "      <td>84029E</td>\n",
       "      <td>6</td>\n",
       "      <td>3.39</td>\n",
       "      <td>20.34</td>\n",
       "      <td>RED WOOLLY HOTTIE WHITE HEART.</td>\n",
       "      <td>2010-12-01 08:26:00</td>\n",
       "      <td>United Kingdom</td>\n",
       "    </tr>\n",
       "  </tbody>\n",
       "</table>\n",
       "</div>"
      ],
      "text/plain": [
       "   CustomerID InvoiceNo StockCode  Quantity  UnitPrice  TotalAmount  \\\n",
       "0     17850.0    536365    85123A         6       2.55        15.30   \n",
       "1     17850.0    536365     71053         6       3.39        20.34   \n",
       "2     17850.0    536365    84406B         8       2.75        22.00   \n",
       "3     17850.0    536365    84029G         6       3.39        20.34   \n",
       "4     17850.0    536365    84029E         6       3.39        20.34   \n",
       "\n",
       "                           Description         InvoiceDate         Country  \n",
       "0   WHITE HANGING HEART T-LIGHT HOLDER 2010-12-01 08:26:00  United Kingdom  \n",
       "1                  WHITE METAL LANTERN 2010-12-01 08:26:00  United Kingdom  \n",
       "2       CREAM CUPID HEARTS COAT HANGER 2010-12-01 08:26:00  United Kingdom  \n",
       "3  KNITTED UNION FLAG HOT WATER BOTTLE 2010-12-01 08:26:00  United Kingdom  \n",
       "4       RED WOOLLY HOTTIE WHITE HEART. 2010-12-01 08:26:00  United Kingdom  "
      ]
     },
     "execution_count": 28,
     "metadata": {},
     "output_type": "execute_result"
    }
   ],
   "source": [
    "new_df.head()"
   ]
  },
  {
   "cell_type": "code",
   "execution_count": 29,
   "id": "c575c867",
   "metadata": {
    "hidden": true
   },
   "outputs": [
    {
     "data": {
      "text/plain": [
       "CustomerID     0\n",
       "InvoiceNo      0\n",
       "StockCode      0\n",
       "Quantity       0\n",
       "UnitPrice      0\n",
       "TotalAmount    0\n",
       "Description    0\n",
       "InvoiceDate    0\n",
       "Country        0\n",
       "dtype: int64"
      ]
     },
     "execution_count": 29,
     "metadata": {},
     "output_type": "execute_result"
    }
   ],
   "source": [
    "new_df.isnull().sum()"
   ]
  },
  {
   "cell_type": "code",
   "execution_count": 30,
   "id": "3843e9be",
   "metadata": {
    "hidden": true
   },
   "outputs": [
    {
     "data": {
      "text/plain": [
       "Text(0.5, 1.0, 'Ratio of missing values per columns')"
      ]
     },
     "execution_count": 30,
     "metadata": {},
     "output_type": "execute_result"
    },
    {
     "data": {
      "image/png": "[encoded data removed]",
      "text/plain": [
       "<Figure size 360x360 with 1 Axes>"
      ]
     },
     "metadata": {
      "needs_background": "light"
     },
     "output_type": "display_data"
    }
   ],
   "source": [
    "plt.figure(figsize=(5, 5))\n",
    "new_df.isnull().mean(axis=0).plot.barh()\n",
    "plt.title(\"Ratio of missing values per columns\")"
   ]
  },
  {
   "cell_type": "code",
   "execution_count": 31,
   "id": "0cc03df5",
   "metadata": {
    "hidden": true
   },
   "outputs": [
    {
     "name": "stdout",
     "output_type": "stream",
     "text": [
      "Dupplicate entries: 5225\n"
     ]
    }
   ],
   "source": [
    "print('Dupplicate entries: {}'.format(new_df.duplicated().sum()))\n",
    "new_df.drop_duplicates(inplace = True)"
   ]
  },
  {
   "cell_type": "code",
   "execution_count": 32,
   "id": "b75b999e",
   "metadata": {
    "hidden": true
   },
   "outputs": [
    {
     "data": {
      "text/plain": [
       "37"
      ]
     },
     "execution_count": 32,
     "metadata": {},
     "output_type": "execute_result"
    }
   ],
   "source": [
    "new_df.Country.nunique()"
   ]
  },
  {
   "cell_type": "code",
   "execution_count": 33,
   "id": "77b4a2e6",
   "metadata": {
    "hidden": true,
    "scrolled": true
   },
   "outputs": [
    {
     "data": {
      "text/html": [
       "<div>\n",
       "<style scoped>\n",
       "    .dataframe tbody tr th:only-of-type {\n",
       "        vertical-align: middle;\n",
       "    }\n",
       "\n",
       "    .dataframe tbody tr th {\n",
       "        vertical-align: top;\n",
       "    }\n",
       "\n",
       "    .dataframe thead th {\n",
       "        text-align: right;\n",
       "    }\n",
       "</style>\n",
       "<table border=\"1\" class=\"dataframe\">\n",
       "  <thead>\n",
       "    <tr style=\"text-align: right;\">\n",
       "      <th></th>\n",
       "      <th>Country</th>\n",
       "      <th>CustomerID</th>\n",
       "    </tr>\n",
       "  </thead>\n",
       "  <tbody>\n",
       "    <tr>\n",
       "      <th>35</th>\n",
       "      <td>United Kingdom</td>\n",
       "      <td>3950</td>\n",
       "    </tr>\n",
       "    <tr>\n",
       "      <th>14</th>\n",
       "      <td>Germany</td>\n",
       "      <td>95</td>\n",
       "    </tr>\n",
       "    <tr>\n",
       "      <th>13</th>\n",
       "      <td>France</td>\n",
       "      <td>87</td>\n",
       "    </tr>\n",
       "    <tr>\n",
       "      <th>30</th>\n",
       "      <td>Spain</td>\n",
       "      <td>31</td>\n",
       "    </tr>\n",
       "    <tr>\n",
       "      <th>3</th>\n",
       "      <td>Belgium</td>\n",
       "      <td>25</td>\n",
       "    </tr>\n",
       "    <tr>\n",
       "      <th>32</th>\n",
       "      <td>Switzerland</td>\n",
       "      <td>21</td>\n",
       "    </tr>\n",
       "    <tr>\n",
       "      <th>26</th>\n",
       "      <td>Portugal</td>\n",
       "      <td>19</td>\n",
       "    </tr>\n",
       "    <tr>\n",
       "      <th>18</th>\n",
       "      <td>Italy</td>\n",
       "      <td>15</td>\n",
       "    </tr>\n",
       "    <tr>\n",
       "      <th>12</th>\n",
       "      <td>Finland</td>\n",
       "      <td>12</td>\n",
       "    </tr>\n",
       "    <tr>\n",
       "      <th>1</th>\n",
       "      <td>Austria</td>\n",
       "      <td>11</td>\n",
       "    </tr>\n",
       "    <tr>\n",
       "      <th>24</th>\n",
       "      <td>Norway</td>\n",
       "      <td>10</td>\n",
       "    </tr>\n",
       "    <tr>\n",
       "      <th>23</th>\n",
       "      <td>Netherlands</td>\n",
       "      <td>9</td>\n",
       "    </tr>\n",
       "    <tr>\n",
       "      <th>0</th>\n",
       "      <td>Australia</td>\n",
       "      <td>9</td>\n",
       "    </tr>\n",
       "    <tr>\n",
       "      <th>9</th>\n",
       "      <td>Denmark</td>\n",
       "      <td>9</td>\n",
       "    </tr>\n",
       "    <tr>\n",
       "      <th>6</th>\n",
       "      <td>Channel Islands</td>\n",
       "      <td>9</td>\n",
       "    </tr>\n",
       "    <tr>\n",
       "      <th>7</th>\n",
       "      <td>Cyprus</td>\n",
       "      <td>8</td>\n",
       "    </tr>\n",
       "    <tr>\n",
       "      <th>31</th>\n",
       "      <td>Sweden</td>\n",
       "      <td>8</td>\n",
       "    </tr>\n",
       "    <tr>\n",
       "      <th>19</th>\n",
       "      <td>Japan</td>\n",
       "      <td>8</td>\n",
       "    </tr>\n",
       "    <tr>\n",
       "      <th>25</th>\n",
       "      <td>Poland</td>\n",
       "      <td>6</td>\n",
       "    </tr>\n",
       "    <tr>\n",
       "      <th>33</th>\n",
       "      <td>USA</td>\n",
       "      <td>4</td>\n",
       "    </tr>\n",
       "    <tr>\n",
       "      <th>5</th>\n",
       "      <td>Canada</td>\n",
       "      <td>4</td>\n",
       "    </tr>\n",
       "    <tr>\n",
       "      <th>36</th>\n",
       "      <td>Unspecified</td>\n",
       "      <td>4</td>\n",
       "    </tr>\n",
       "    <tr>\n",
       "      <th>17</th>\n",
       "      <td>Israel</td>\n",
       "      <td>4</td>\n",
       "    </tr>\n",
       "    <tr>\n",
       "      <th>15</th>\n",
       "      <td>Greece</td>\n",
       "      <td>4</td>\n",
       "    </tr>\n",
       "    <tr>\n",
       "      <th>10</th>\n",
       "      <td>EIRE</td>\n",
       "      <td>3</td>\n",
       "    </tr>\n",
       "    <tr>\n",
       "      <th>22</th>\n",
       "      <td>Malta</td>\n",
       "      <td>2</td>\n",
       "    </tr>\n",
       "    <tr>\n",
       "      <th>34</th>\n",
       "      <td>United Arab Emirates</td>\n",
       "      <td>2</td>\n",
       "    </tr>\n",
       "    <tr>\n",
       "      <th>2</th>\n",
       "      <td>Bahrain</td>\n",
       "      <td>2</td>\n",
       "    </tr>\n",
       "    <tr>\n",
       "      <th>8</th>\n",
       "      <td>Czech Republic</td>\n",
       "      <td>1</td>\n",
       "    </tr>\n",
       "    <tr>\n",
       "      <th>21</th>\n",
       "      <td>Lithuania</td>\n",
       "      <td>1</td>\n",
       "    </tr>\n",
       "    <tr>\n",
       "      <th>20</th>\n",
       "      <td>Lebanon</td>\n",
       "      <td>1</td>\n",
       "    </tr>\n",
       "    <tr>\n",
       "      <th>27</th>\n",
       "      <td>RSA</td>\n",
       "      <td>1</td>\n",
       "    </tr>\n",
       "    <tr>\n",
       "      <th>28</th>\n",
       "      <td>Saudi Arabia</td>\n",
       "      <td>1</td>\n",
       "    </tr>\n",
       "    <tr>\n",
       "      <th>29</th>\n",
       "      <td>Singapore</td>\n",
       "      <td>1</td>\n",
       "    </tr>\n",
       "    <tr>\n",
       "      <th>16</th>\n",
       "      <td>Iceland</td>\n",
       "      <td>1</td>\n",
       "    </tr>\n",
       "    <tr>\n",
       "      <th>4</th>\n",
       "      <td>Brazil</td>\n",
       "      <td>1</td>\n",
       "    </tr>\n",
       "    <tr>\n",
       "      <th>11</th>\n",
       "      <td>European Community</td>\n",
       "      <td>1</td>\n",
       "    </tr>\n",
       "  </tbody>\n",
       "</table>\n",
       "</div>"
      ],
      "text/plain": [
       "                 Country  CustomerID\n",
       "35        United Kingdom        3950\n",
       "14               Germany          95\n",
       "13                France          87\n",
       "30                 Spain          31\n",
       "3                Belgium          25\n",
       "32           Switzerland          21\n",
       "26              Portugal          19\n",
       "18                 Italy          15\n",
       "12               Finland          12\n",
       "1                Austria          11\n",
       "24                Norway          10\n",
       "23           Netherlands           9\n",
       "0              Australia           9\n",
       "9                Denmark           9\n",
       "6        Channel Islands           9\n",
       "7                 Cyprus           8\n",
       "31                Sweden           8\n",
       "19                 Japan           8\n",
       "25                Poland           6\n",
       "33                   USA           4\n",
       "5                 Canada           4\n",
       "36           Unspecified           4\n",
       "17                Israel           4\n",
       "15                Greece           4\n",
       "10                  EIRE           3\n",
       "22                 Malta           2\n",
       "34  United Arab Emirates           2\n",
       "2                Bahrain           2\n",
       "8         Czech Republic           1\n",
       "21             Lithuania           1\n",
       "20               Lebanon           1\n",
       "27                   RSA           1\n",
       "28          Saudi Arabia           1\n",
       "29             Singapore           1\n",
       "16               Iceland           1\n",
       "4                 Brazil           1\n",
       "11    European Community           1"
      ]
     },
     "execution_count": 33,
     "metadata": {},
     "output_type": "execute_result"
    }
   ],
   "source": [
    "customer_country=new_df[['Country','CustomerID']].drop_duplicates()\n",
    "customer_country.groupby(['Country'])['CustomerID'].aggregate('count').reset_index().sort_values('CustomerID', ascending=False)"
   ]
  },
  {
   "cell_type": "code",
   "execution_count": 34,
   "id": "a9d03775",
   "metadata": {
    "hidden": true
   },
   "outputs": [
    {
     "data": {
      "text/html": [
       "<div>\n",
       "<style scoped>\n",
       "    .dataframe tbody tr th:only-of-type {\n",
       "        vertical-align: middle;\n",
       "    }\n",
       "\n",
       "    .dataframe tbody tr th {\n",
       "        vertical-align: top;\n",
       "    }\n",
       "\n",
       "    .dataframe thead th {\n",
       "        text-align: right;\n",
       "    }\n",
       "</style>\n",
       "<table border=\"1\" class=\"dataframe\">\n",
       "  <thead>\n",
       "    <tr style=\"text-align: right;\">\n",
       "      <th></th>\n",
       "      <th>CustomerID</th>\n",
       "      <th>Quantity</th>\n",
       "      <th>UnitPrice</th>\n",
       "      <th>TotalAmount</th>\n",
       "    </tr>\n",
       "  </thead>\n",
       "  <tbody>\n",
       "    <tr>\n",
       "      <th>count</th>\n",
       "      <td>401604.000000</td>\n",
       "      <td>401604.000000</td>\n",
       "      <td>401604.000000</td>\n",
       "      <td>401604.000000</td>\n",
       "    </tr>\n",
       "    <tr>\n",
       "      <th>mean</th>\n",
       "      <td>15281.160818</td>\n",
       "      <td>12.183273</td>\n",
       "      <td>3.474064</td>\n",
       "      <td>20.613638</td>\n",
       "    </tr>\n",
       "    <tr>\n",
       "      <th>std</th>\n",
       "      <td>1714.006089</td>\n",
       "      <td>250.283037</td>\n",
       "      <td>69.764035</td>\n",
       "      <td>430.352218</td>\n",
       "    </tr>\n",
       "    <tr>\n",
       "      <th>min</th>\n",
       "      <td>12346.000000</td>\n",
       "      <td>-80995.000000</td>\n",
       "      <td>0.000000</td>\n",
       "      <td>-168469.600000</td>\n",
       "    </tr>\n",
       "    <tr>\n",
       "      <th>25%</th>\n",
       "      <td>13939.000000</td>\n",
       "      <td>2.000000</td>\n",
       "      <td>1.250000</td>\n",
       "      <td>4.250000</td>\n",
       "    </tr>\n",
       "    <tr>\n",
       "      <th>50%</th>\n",
       "      <td>15145.000000</td>\n",
       "      <td>5.000000</td>\n",
       "      <td>1.950000</td>\n",
       "      <td>11.700000</td>\n",
       "    </tr>\n",
       "    <tr>\n",
       "      <th>75%</th>\n",
       "      <td>16784.000000</td>\n",
       "      <td>12.000000</td>\n",
       "      <td>3.750000</td>\n",
       "      <td>19.800000</td>\n",
       "    </tr>\n",
       "    <tr>\n",
       "      <th>max</th>\n",
       "      <td>18287.000000</td>\n",
       "      <td>80995.000000</td>\n",
       "      <td>38970.000000</td>\n",
       "      <td>168469.600000</td>\n",
       "    </tr>\n",
       "  </tbody>\n",
       "</table>\n",
       "</div>"
      ],
      "text/plain": [
       "          CustomerID       Quantity      UnitPrice    TotalAmount\n",
       "count  401604.000000  401604.000000  401604.000000  401604.000000\n",
       "mean    15281.160818      12.183273       3.474064      20.613638\n",
       "std      1714.006089     250.283037      69.764035     430.352218\n",
       "min     12346.000000  -80995.000000       0.000000 -168469.600000\n",
       "25%     13939.000000       2.000000       1.250000       4.250000\n",
       "50%     15145.000000       5.000000       1.950000      11.700000\n",
       "75%     16784.000000      12.000000       3.750000      19.800000\n",
       "max     18287.000000   80995.000000   38970.000000  168469.600000"
      ]
     },
     "execution_count": 34,
     "metadata": {},
     "output_type": "execute_result"
    }
   ],
   "source": [
    "new_df.describe()"
   ]
  },
  {
   "cell_type": "code",
   "execution_count": 35,
   "id": "072db29b",
   "metadata": {
    "hidden": true
   },
   "outputs": [
    {
     "data": {
      "text/html": [
       "<div>\n",
       "<style scoped>\n",
       "    .dataframe tbody tr th:only-of-type {\n",
       "        vertical-align: middle;\n",
       "    }\n",
       "\n",
       "    .dataframe tbody tr th {\n",
       "        vertical-align: top;\n",
       "    }\n",
       "\n",
       "    .dataframe thead th {\n",
       "        text-align: right;\n",
       "    }\n",
       "</style>\n",
       "<table border=\"1\" class=\"dataframe\">\n",
       "  <thead>\n",
       "    <tr style=\"text-align: right;\">\n",
       "      <th></th>\n",
       "      <th>CustomerID</th>\n",
       "      <th>InvoiceNo</th>\n",
       "      <th>StockCode</th>\n",
       "      <th>Quantity</th>\n",
       "      <th>UnitPrice</th>\n",
       "      <th>TotalAmount</th>\n",
       "      <th>Description</th>\n",
       "      <th>InvoiceDate</th>\n",
       "      <th>Country</th>\n",
       "    </tr>\n",
       "  </thead>\n",
       "  <tbody>\n",
       "    <tr>\n",
       "      <th>141</th>\n",
       "      <td>14527.0</td>\n",
       "      <td>C536379</td>\n",
       "      <td>D</td>\n",
       "      <td>-1</td>\n",
       "      <td>27.50</td>\n",
       "      <td>-27.50</td>\n",
       "      <td>Discount</td>\n",
       "      <td>2010-12-01 09:41:00</td>\n",
       "      <td>United Kingdom</td>\n",
       "    </tr>\n",
       "    <tr>\n",
       "      <th>154</th>\n",
       "      <td>15311.0</td>\n",
       "      <td>C536383</td>\n",
       "      <td>35004C</td>\n",
       "      <td>-1</td>\n",
       "      <td>4.65</td>\n",
       "      <td>-4.65</td>\n",
       "      <td>SET OF 3 COLOURED  FLYING DUCKS</td>\n",
       "      <td>2010-12-01 09:49:00</td>\n",
       "      <td>United Kingdom</td>\n",
       "    </tr>\n",
       "    <tr>\n",
       "      <th>235</th>\n",
       "      <td>17548.0</td>\n",
       "      <td>C536391</td>\n",
       "      <td>22556</td>\n",
       "      <td>-12</td>\n",
       "      <td>1.65</td>\n",
       "      <td>-19.80</td>\n",
       "      <td>PLASTERS IN TIN CIRCUS PARADE</td>\n",
       "      <td>2010-12-01 10:24:00</td>\n",
       "      <td>United Kingdom</td>\n",
       "    </tr>\n",
       "    <tr>\n",
       "      <th>236</th>\n",
       "      <td>17548.0</td>\n",
       "      <td>C536391</td>\n",
       "      <td>21984</td>\n",
       "      <td>-24</td>\n",
       "      <td>0.29</td>\n",
       "      <td>-6.96</td>\n",
       "      <td>PACK OF 12 PINK PAISLEY TISSUES</td>\n",
       "      <td>2010-12-01 10:24:00</td>\n",
       "      <td>United Kingdom</td>\n",
       "    </tr>\n",
       "    <tr>\n",
       "      <th>237</th>\n",
       "      <td>17548.0</td>\n",
       "      <td>C536391</td>\n",
       "      <td>21983</td>\n",
       "      <td>-24</td>\n",
       "      <td>0.29</td>\n",
       "      <td>-6.96</td>\n",
       "      <td>PACK OF 12 BLUE PAISLEY TISSUES</td>\n",
       "      <td>2010-12-01 10:24:00</td>\n",
       "      <td>United Kingdom</td>\n",
       "    </tr>\n",
       "  </tbody>\n",
       "</table>\n",
       "</div>"
      ],
      "text/plain": [
       "     CustomerID InvoiceNo StockCode  Quantity  UnitPrice  TotalAmount  \\\n",
       "141     14527.0   C536379         D        -1      27.50       -27.50   \n",
       "154     15311.0   C536383    35004C        -1       4.65        -4.65   \n",
       "235     17548.0   C536391     22556       -12       1.65       -19.80   \n",
       "236     17548.0   C536391     21984       -24       0.29        -6.96   \n",
       "237     17548.0   C536391     21983       -24       0.29        -6.96   \n",
       "\n",
       "                          Description         InvoiceDate         Country  \n",
       "141                          Discount 2010-12-01 09:41:00  United Kingdom  \n",
       "154   SET OF 3 COLOURED  FLYING DUCKS 2010-12-01 09:49:00  United Kingdom  \n",
       "235    PLASTERS IN TIN CIRCUS PARADE  2010-12-01 10:24:00  United Kingdom  \n",
       "236  PACK OF 12 PINK PAISLEY TISSUES  2010-12-01 10:24:00  United Kingdom  \n",
       "237  PACK OF 12 BLUE PAISLEY TISSUES  2010-12-01 10:24:00  United Kingdom  "
      ]
     },
     "execution_count": 35,
     "metadata": {},
     "output_type": "execute_result"
    }
   ],
   "source": [
    "new_df[(new_df['Quantity']<0)].head(5)"
   ]
  },
  {
   "cell_type": "code",
   "execution_count": 36,
   "id": "fefc0837",
   "metadata": {
    "hidden": true
   },
   "outputs": [],
   "source": [
    "# Constructing a basket for later use\n",
    "temp = new_df.groupby(by=['CustomerID', 'InvoiceNo'], as_index=False)['InvoiceDate'].count()\n",
    "product_number = temp.rename(columns = {'InvoiceDate':'Number of products'})"
   ]
  },
  {
   "cell_type": "code",
   "execution_count": 37,
   "id": "669417d5",
   "metadata": {
    "collapsed": true,
    "hidden": true
   },
   "outputs": [
    {
     "data": {
      "text/plain": [
       "16.466876971608833"
      ]
     },
     "execution_count": 37,
     "metadata": {},
     "output_type": "execute_result"
    }
   ],
   "source": [
    "product_number.InvoiceNo = product_number.InvoiceNo.astype(str)\n",
    "product_number['order_canceled'] = product_number['InvoiceNo'].apply(lambda x:int('C' in x))\n",
    "len(product_number[product_number['order_canceled']==1])/len(product_number)*100"
   ]
  },
  {
   "cell_type": "code",
   "execution_count": 38,
   "id": "45b5cd09",
   "metadata": {
    "hidden": true,
    "scrolled": false
   },
   "outputs": [
    {
     "data": {
      "text/html": [
       "<div>\n",
       "<style scoped>\n",
       "    .dataframe tbody tr th:only-of-type {\n",
       "        vertical-align: middle;\n",
       "    }\n",
       "\n",
       "    .dataframe tbody tr th {\n",
       "        vertical-align: top;\n",
       "    }\n",
       "\n",
       "    .dataframe thead th {\n",
       "        text-align: right;\n",
       "    }\n",
       "</style>\n",
       "<table border=\"1\" class=\"dataframe\">\n",
       "  <thead>\n",
       "    <tr style=\"text-align: right;\">\n",
       "      <th></th>\n",
       "      <th>CustomerID</th>\n",
       "      <th>InvoiceNo</th>\n",
       "      <th>Number of products</th>\n",
       "      <th>order_canceled</th>\n",
       "    </tr>\n",
       "  </thead>\n",
       "  <tbody>\n",
       "    <tr>\n",
       "      <th>1</th>\n",
       "      <td>12346.0</td>\n",
       "      <td>C541433</td>\n",
       "      <td>1</td>\n",
       "      <td>1</td>\n",
       "    </tr>\n",
       "    <tr>\n",
       "      <th>23</th>\n",
       "      <td>12352.0</td>\n",
       "      <td>C545329</td>\n",
       "      <td>2</td>\n",
       "      <td>1</td>\n",
       "    </tr>\n",
       "    <tr>\n",
       "      <th>24</th>\n",
       "      <td>12352.0</td>\n",
       "      <td>C545330</td>\n",
       "      <td>1</td>\n",
       "      <td>1</td>\n",
       "    </tr>\n",
       "    <tr>\n",
       "      <th>25</th>\n",
       "      <td>12352.0</td>\n",
       "      <td>C547388</td>\n",
       "      <td>7</td>\n",
       "      <td>1</td>\n",
       "    </tr>\n",
       "    <tr>\n",
       "      <th>39</th>\n",
       "      <td>12359.0</td>\n",
       "      <td>C549955</td>\n",
       "      <td>2</td>\n",
       "      <td>1</td>\n",
       "    </tr>\n",
       "    <tr>\n",
       "      <th>40</th>\n",
       "      <td>12359.0</td>\n",
       "      <td>C580165</td>\n",
       "      <td>4</td>\n",
       "      <td>1</td>\n",
       "    </tr>\n",
       "    <tr>\n",
       "      <th>55</th>\n",
       "      <td>12362.0</td>\n",
       "      <td>C544902</td>\n",
       "      <td>2</td>\n",
       "      <td>1</td>\n",
       "    </tr>\n",
       "    <tr>\n",
       "      <th>56</th>\n",
       "      <td>12362.0</td>\n",
       "      <td>C563752</td>\n",
       "      <td>3</td>\n",
       "      <td>1</td>\n",
       "    </tr>\n",
       "    <tr>\n",
       "      <th>57</th>\n",
       "      <td>12362.0</td>\n",
       "      <td>C579178</td>\n",
       "      <td>3</td>\n",
       "      <td>1</td>\n",
       "    </tr>\n",
       "    <tr>\n",
       "      <th>66</th>\n",
       "      <td>12365.0</td>\n",
       "      <td>C544577</td>\n",
       "      <td>1</td>\n",
       "      <td>1</td>\n",
       "    </tr>\n",
       "  </tbody>\n",
       "</table>\n",
       "</div>"
      ],
      "text/plain": [
       "    CustomerID InvoiceNo  Number of products  order_canceled\n",
       "1      12346.0   C541433                   1               1\n",
       "23     12352.0   C545329                   2               1\n",
       "24     12352.0   C545330                   1               1\n",
       "25     12352.0   C547388                   7               1\n",
       "39     12359.0   C549955                   2               1\n",
       "40     12359.0   C580165                   4               1\n",
       "55     12362.0   C544902                   2               1\n",
       "56     12362.0   C563752                   3               1\n",
       "57     12362.0   C579178                   3               1\n",
       "66     12365.0   C544577                   1               1"
      ]
     },
     "execution_count": 38,
     "metadata": {},
     "output_type": "execute_result"
    }
   ],
   "source": [
    "product_number[product_number['order_canceled']==1][:10]"
   ]
  },
  {
   "cell_type": "markdown",
   "id": "e94700f5",
   "metadata": {
    "hidden": true
   },
   "source": [
    "## 2.1. Convert CustomerID from float to Int"
   ]
  },
  {
   "cell_type": "code",
   "execution_count": 39,
   "id": "ab1aa855",
   "metadata": {
    "hidden": true
   },
   "outputs": [
    {
     "data": {
      "text/plain": [
       "dtype('int64')"
      ]
     },
     "execution_count": 39,
     "metadata": {},
     "output_type": "execute_result"
    }
   ],
   "source": [
    "new_df['CustomerID'] = new_df['CustomerID'].astype('int64')\n",
    "new_df['CustomerID'].dtype"
   ]
  },
  {
   "cell_type": "markdown",
   "id": "feb9d3ee",
   "metadata": {
    "hidden": true
   },
   "source": [
    "## 2.2. Verify CustomersID "
   ]
  },
  {
   "cell_type": "code",
   "execution_count": 40,
   "id": "f4d64b6b",
   "metadata": {
    "hidden": true,
    "scrolled": true
   },
   "outputs": [
    {
     "data": {
      "text/html": [
       "<div>\n",
       "<style scoped>\n",
       "    .dataframe tbody tr th:only-of-type {\n",
       "        vertical-align: middle;\n",
       "    }\n",
       "\n",
       "    .dataframe tbody tr th {\n",
       "        vertical-align: top;\n",
       "    }\n",
       "\n",
       "    .dataframe thead th {\n",
       "        text-align: right;\n",
       "    }\n",
       "</style>\n",
       "<table border=\"1\" class=\"dataframe\">\n",
       "  <thead>\n",
       "    <tr style=\"text-align: right;\">\n",
       "      <th></th>\n",
       "      <th>CustomerID</th>\n",
       "      <th>InvoiceNo</th>\n",
       "      <th>StockCode</th>\n",
       "      <th>Quantity</th>\n",
       "      <th>UnitPrice</th>\n",
       "      <th>TotalAmount</th>\n",
       "      <th>Description</th>\n",
       "      <th>InvoiceDate</th>\n",
       "      <th>Country</th>\n",
       "    </tr>\n",
       "  </thead>\n",
       "  <tbody>\n",
       "    <tr>\n",
       "      <th>61619</th>\n",
       "      <td>12346</td>\n",
       "      <td>541431</td>\n",
       "      <td>23166</td>\n",
       "      <td>74215</td>\n",
       "      <td>1.04</td>\n",
       "      <td>77183.6</td>\n",
       "      <td>MEDIUM CERAMIC TOP STORAGE JAR</td>\n",
       "      <td>2011-01-18 10:01:00</td>\n",
       "      <td>United Kingdom</td>\n",
       "    </tr>\n",
       "    <tr>\n",
       "      <th>61624</th>\n",
       "      <td>12346</td>\n",
       "      <td>C541433</td>\n",
       "      <td>23166</td>\n",
       "      <td>-74215</td>\n",
       "      <td>1.04</td>\n",
       "      <td>-77183.6</td>\n",
       "      <td>MEDIUM CERAMIC TOP STORAGE JAR</td>\n",
       "      <td>2011-01-18 10:17:00</td>\n",
       "      <td>United Kingdom</td>\n",
       "    </tr>\n",
       "  </tbody>\n",
       "</table>\n",
       "</div>"
      ],
      "text/plain": [
       "       CustomerID InvoiceNo StockCode  Quantity  UnitPrice  TotalAmount  \\\n",
       "61619       12346    541431     23166     74215       1.04      77183.6   \n",
       "61624       12346   C541433     23166    -74215       1.04     -77183.6   \n",
       "\n",
       "                          Description         InvoiceDate         Country  \n",
       "61619  MEDIUM CERAMIC TOP STORAGE JAR 2011-01-18 10:01:00  United Kingdom  \n",
       "61624  MEDIUM CERAMIC TOP STORAGE JAR 2011-01-18 10:17:00  United Kingdom  "
      ]
     },
     "execution_count": 40,
     "metadata": {},
     "output_type": "execute_result"
    }
   ],
   "source": [
    "new_df[new_df['CustomerID'] == 12346]"
   ]
  },
  {
   "cell_type": "markdown",
   "id": "34bad4a7",
   "metadata": {
    "hidden": true
   },
   "source": [
    "## 2.3. Test Canceled Invoices"
   ]
  },
  {
   "cell_type": "code",
   "execution_count": 41,
   "id": "fa02cdf0",
   "metadata": {
    "hidden": true
   },
   "outputs": [
    {
     "data": {
      "text/html": [
       "<div>\n",
       "<style scoped>\n",
       "    .dataframe tbody tr th:only-of-type {\n",
       "        vertical-align: middle;\n",
       "    }\n",
       "\n",
       "    .dataframe tbody tr th {\n",
       "        vertical-align: top;\n",
       "    }\n",
       "\n",
       "    .dataframe thead th {\n",
       "        text-align: right;\n",
       "    }\n",
       "</style>\n",
       "<table border=\"1\" class=\"dataframe\">\n",
       "  <thead>\n",
       "    <tr style=\"text-align: right;\">\n",
       "      <th></th>\n",
       "      <th>CustomerID</th>\n",
       "      <th>InvoiceNo</th>\n",
       "      <th>StockCode</th>\n",
       "      <th>Quantity</th>\n",
       "      <th>UnitPrice</th>\n",
       "      <th>TotalAmount</th>\n",
       "      <th>Description</th>\n",
       "      <th>InvoiceDate</th>\n",
       "      <th>Country</th>\n",
       "    </tr>\n",
       "  </thead>\n",
       "  <tbody>\n",
       "    <tr>\n",
       "      <th>129737</th>\n",
       "      <td>12352</td>\n",
       "      <td>C547388</td>\n",
       "      <td>84050</td>\n",
       "      <td>-12</td>\n",
       "      <td>1.65</td>\n",
       "      <td>-19.80</td>\n",
       "      <td>PINK HEART SHAPE EGG FRYING PAN</td>\n",
       "      <td>2011-03-22 16:07:00</td>\n",
       "      <td>Norway</td>\n",
       "    </tr>\n",
       "    <tr>\n",
       "      <th>129738</th>\n",
       "      <td>12352</td>\n",
       "      <td>C547388</td>\n",
       "      <td>37448</td>\n",
       "      <td>-12</td>\n",
       "      <td>1.49</td>\n",
       "      <td>-17.88</td>\n",
       "      <td>CERAMIC CAKE DESIGN SPOTTED MUG</td>\n",
       "      <td>2011-03-22 16:07:00</td>\n",
       "      <td>Norway</td>\n",
       "    </tr>\n",
       "    <tr>\n",
       "      <th>129739</th>\n",
       "      <td>12352</td>\n",
       "      <td>C547388</td>\n",
       "      <td>22784</td>\n",
       "      <td>-3</td>\n",
       "      <td>4.95</td>\n",
       "      <td>-14.85</td>\n",
       "      <td>LANTERN CREAM GAZEBO</td>\n",
       "      <td>2011-03-22 16:07:00</td>\n",
       "      <td>Norway</td>\n",
       "    </tr>\n",
       "    <tr>\n",
       "      <th>129740</th>\n",
       "      <td>12352</td>\n",
       "      <td>C547388</td>\n",
       "      <td>22701</td>\n",
       "      <td>-6</td>\n",
       "      <td>2.95</td>\n",
       "      <td>-17.70</td>\n",
       "      <td>PINK DOG BOWL</td>\n",
       "      <td>2011-03-22 16:07:00</td>\n",
       "      <td>Norway</td>\n",
       "    </tr>\n",
       "    <tr>\n",
       "      <th>129741</th>\n",
       "      <td>12352</td>\n",
       "      <td>C547388</td>\n",
       "      <td>22645</td>\n",
       "      <td>-12</td>\n",
       "      <td>1.45</td>\n",
       "      <td>-17.40</td>\n",
       "      <td>CERAMIC HEART FAIRY CAKE MONEY BANK</td>\n",
       "      <td>2011-03-22 16:07:00</td>\n",
       "      <td>Norway</td>\n",
       "    </tr>\n",
       "    <tr>\n",
       "      <th>129742</th>\n",
       "      <td>12352</td>\n",
       "      <td>C547388</td>\n",
       "      <td>22413</td>\n",
       "      <td>-6</td>\n",
       "      <td>2.95</td>\n",
       "      <td>-17.70</td>\n",
       "      <td>METAL SIGN TAKE IT OR LEAVE IT</td>\n",
       "      <td>2011-03-22 16:07:00</td>\n",
       "      <td>Norway</td>\n",
       "    </tr>\n",
       "    <tr>\n",
       "      <th>129743</th>\n",
       "      <td>12352</td>\n",
       "      <td>C547388</td>\n",
       "      <td>21914</td>\n",
       "      <td>-12</td>\n",
       "      <td>1.25</td>\n",
       "      <td>-15.00</td>\n",
       "      <td>BLUE HARMONICA IN BOX</td>\n",
       "      <td>2011-03-22 16:07:00</td>\n",
       "      <td>Norway</td>\n",
       "    </tr>\n",
       "  </tbody>\n",
       "</table>\n",
       "</div>"
      ],
      "text/plain": [
       "        CustomerID InvoiceNo StockCode  Quantity  UnitPrice  TotalAmount  \\\n",
       "129737       12352   C547388     84050       -12       1.65       -19.80   \n",
       "129738       12352   C547388     37448       -12       1.49       -17.88   \n",
       "129739       12352   C547388     22784        -3       4.95       -14.85   \n",
       "129740       12352   C547388     22701        -6       2.95       -17.70   \n",
       "129741       12352   C547388     22645       -12       1.45       -17.40   \n",
       "129742       12352   C547388     22413        -6       2.95       -17.70   \n",
       "129743       12352   C547388     21914       -12       1.25       -15.00   \n",
       "\n",
       "                                Description         InvoiceDate Country  \n",
       "129737      PINK HEART SHAPE EGG FRYING PAN 2011-03-22 16:07:00  Norway  \n",
       "129738      CERAMIC CAKE DESIGN SPOTTED MUG 2011-03-22 16:07:00  Norway  \n",
       "129739                LANTERN CREAM GAZEBO  2011-03-22 16:07:00  Norway  \n",
       "129740                        PINK DOG BOWL 2011-03-22 16:07:00  Norway  \n",
       "129741  CERAMIC HEART FAIRY CAKE MONEY BANK 2011-03-22 16:07:00  Norway  \n",
       "129742      METAL SIGN TAKE IT OR LEAVE IT  2011-03-22 16:07:00  Norway  \n",
       "129743               BLUE HARMONICA IN BOX  2011-03-22 16:07:00  Norway  "
      ]
     },
     "execution_count": 41,
     "metadata": {},
     "output_type": "execute_result"
    }
   ],
   "source": [
    "new_df[new_df['InvoiceNo'] == 'C547388']"
   ]
  },
  {
   "cell_type": "code",
   "execution_count": 42,
   "id": "d87367cf",
   "metadata": {
    "hidden": true,
    "scrolled": true
   },
   "outputs": [
    {
     "data": {
      "text/html": [
       "<div>\n",
       "<style scoped>\n",
       "    .dataframe tbody tr th:only-of-type {\n",
       "        vertical-align: middle;\n",
       "    }\n",
       "\n",
       "    .dataframe tbody tr th {\n",
       "        vertical-align: top;\n",
       "    }\n",
       "\n",
       "    .dataframe thead th {\n",
       "        text-align: right;\n",
       "    }\n",
       "</style>\n",
       "<table border=\"1\" class=\"dataframe\">\n",
       "  <thead>\n",
       "    <tr style=\"text-align: right;\">\n",
       "      <th></th>\n",
       "      <th>CustomerID</th>\n",
       "      <th>InvoiceNo</th>\n",
       "      <th>StockCode</th>\n",
       "      <th>Quantity</th>\n",
       "      <th>UnitPrice</th>\n",
       "      <th>TotalAmount</th>\n",
       "      <th>Description</th>\n",
       "      <th>InvoiceDate</th>\n",
       "      <th>Country</th>\n",
       "    </tr>\n",
       "  </thead>\n",
       "  <tbody>\n",
       "    <tr>\n",
       "      <th>507365</th>\n",
       "      <td>12362</td>\n",
       "      <td>C579178</td>\n",
       "      <td>22941</td>\n",
       "      <td>-2</td>\n",
       "      <td>8.50</td>\n",
       "      <td>-17.00</td>\n",
       "      <td>CHRISTMAS LIGHTS 10 REINDEER</td>\n",
       "      <td>2011-11-28 14:55:00</td>\n",
       "      <td>Belgium</td>\n",
       "    </tr>\n",
       "    <tr>\n",
       "      <th>507366</th>\n",
       "      <td>12362</td>\n",
       "      <td>C579178</td>\n",
       "      <td>22942</td>\n",
       "      <td>-2</td>\n",
       "      <td>8.50</td>\n",
       "      <td>-17.00</td>\n",
       "      <td>CHRISTMAS LIGHTS 10 SANTAS</td>\n",
       "      <td>2011-11-28 14:55:00</td>\n",
       "      <td>Belgium</td>\n",
       "    </tr>\n",
       "    <tr>\n",
       "      <th>507367</th>\n",
       "      <td>12362</td>\n",
       "      <td>C579178</td>\n",
       "      <td>22943</td>\n",
       "      <td>-3</td>\n",
       "      <td>4.95</td>\n",
       "      <td>-14.85</td>\n",
       "      <td>CHRISTMAS LIGHTS 10 VINTAGE BAUBLES</td>\n",
       "      <td>2011-11-28 14:55:00</td>\n",
       "      <td>Belgium</td>\n",
       "    </tr>\n",
       "  </tbody>\n",
       "</table>\n",
       "</div>"
      ],
      "text/plain": [
       "        CustomerID InvoiceNo StockCode  Quantity  UnitPrice  TotalAmount  \\\n",
       "507365       12362   C579178     22941        -2       8.50       -17.00   \n",
       "507366       12362   C579178     22942        -2       8.50       -17.00   \n",
       "507367       12362   C579178     22943        -3       4.95       -14.85   \n",
       "\n",
       "                                Description         InvoiceDate  Country  \n",
       "507365         CHRISTMAS LIGHTS 10 REINDEER 2011-11-28 14:55:00  Belgium  \n",
       "507366          CHRISTMAS LIGHTS 10 SANTAS  2011-11-28 14:55:00  Belgium  \n",
       "507367  CHRISTMAS LIGHTS 10 VINTAGE BAUBLES 2011-11-28 14:55:00  Belgium  "
      ]
     },
     "execution_count": 42,
     "metadata": {},
     "output_type": "execute_result"
    }
   ],
   "source": [
    "new_df[new_df['InvoiceNo']=='C579178']"
   ]
  },
  {
   "cell_type": "markdown",
   "id": "74962e51",
   "metadata": {
    "heading_collapsed": true,
    "hidden": true
   },
   "source": [
    "## 2.4. Test CustomerID"
   ]
  },
  {
   "cell_type": "code",
   "execution_count": 43,
   "id": "e7364d25",
   "metadata": {
    "hidden": true
   },
   "outputs": [
    {
     "name": "stdout",
     "output_type": "stream",
     "text": [
      "CustomerID        14527\n",
      "Quantity             -1\n",
      "StockCode             D\n",
      "Description    Discount\n",
      "UnitPrice          27.5\n",
      "Name: 141, dtype: object\n",
      "Our initial hypothesis is wrong\n"
     ]
    }
   ],
   "source": [
    "test = new_df[new_df['Quantity'] < 0][['CustomerID','Quantity','StockCode','Description','UnitPrice']]\n",
    "for index, col in  test.iterrows():\n",
    "    if new_df[(new_df['CustomerID'] == col[0]) & (new_df['Quantity'] == -col[1]) \n",
    "                & (new_df['Description'] == col[2])].shape[0] == 0: \n",
    "     print(test.loc[index])\n",
    "     print('Our initial hypothesis is wrong')\n",
    "     break"
   ]
  },
  {
   "cell_type": "code",
   "execution_count": 44,
   "id": "e58b5a82",
   "metadata": {
    "hidden": true
   },
   "outputs": [
    {
     "data": {
      "text/html": [
       "<div>\n",
       "<style scoped>\n",
       "    .dataframe tbody tr th:only-of-type {\n",
       "        vertical-align: middle;\n",
       "    }\n",
       "\n",
       "    .dataframe tbody tr th {\n",
       "        vertical-align: top;\n",
       "    }\n",
       "\n",
       "    .dataframe thead th {\n",
       "        text-align: right;\n",
       "    }\n",
       "</style>\n",
       "<table border=\"1\" class=\"dataframe\">\n",
       "  <thead>\n",
       "    <tr style=\"text-align: right;\">\n",
       "      <th></th>\n",
       "      <th>CustomerID</th>\n",
       "      <th>InvoiceNo</th>\n",
       "      <th>StockCode</th>\n",
       "      <th>Quantity</th>\n",
       "      <th>UnitPrice</th>\n",
       "      <th>TotalAmount</th>\n",
       "      <th>Description</th>\n",
       "      <th>InvoiceDate</th>\n",
       "      <th>Country</th>\n",
       "    </tr>\n",
       "  </thead>\n",
       "  <tbody>\n",
       "    <tr>\n",
       "      <th>141</th>\n",
       "      <td>14527</td>\n",
       "      <td>C536379</td>\n",
       "      <td>D</td>\n",
       "      <td>-1</td>\n",
       "      <td>27.50</td>\n",
       "      <td>-27.50</td>\n",
       "      <td>Discount</td>\n",
       "      <td>2010-12-01 09:41:00</td>\n",
       "      <td>United Kingdom</td>\n",
       "    </tr>\n",
       "    <tr>\n",
       "      <th>8963</th>\n",
       "      <td>14527</td>\n",
       "      <td>537159</td>\n",
       "      <td>22112</td>\n",
       "      <td>6</td>\n",
       "      <td>4.95</td>\n",
       "      <td>29.70</td>\n",
       "      <td>CHOCOLATE HOT WATER BOTTLE</td>\n",
       "      <td>2010-12-05 13:17:00</td>\n",
       "      <td>United Kingdom</td>\n",
       "    </tr>\n",
       "    <tr>\n",
       "      <th>8964</th>\n",
       "      <td>14527</td>\n",
       "      <td>537159</td>\n",
       "      <td>22111</td>\n",
       "      <td>1</td>\n",
       "      <td>4.95</td>\n",
       "      <td>4.95</td>\n",
       "      <td>SCOTTIE DOG HOT WATER BOTTLE</td>\n",
       "      <td>2010-12-05 13:17:00</td>\n",
       "      <td>United Kingdom</td>\n",
       "    </tr>\n",
       "    <tr>\n",
       "      <th>8965</th>\n",
       "      <td>14527</td>\n",
       "      <td>537159</td>\n",
       "      <td>21479</td>\n",
       "      <td>1</td>\n",
       "      <td>3.75</td>\n",
       "      <td>3.75</td>\n",
       "      <td>WHITE SKULL HOT WATER BOTTLE</td>\n",
       "      <td>2010-12-05 13:17:00</td>\n",
       "      <td>United Kingdom</td>\n",
       "    </tr>\n",
       "    <tr>\n",
       "      <th>8966</th>\n",
       "      <td>14527</td>\n",
       "      <td>537159</td>\n",
       "      <td>22114</td>\n",
       "      <td>6</td>\n",
       "      <td>3.95</td>\n",
       "      <td>23.70</td>\n",
       "      <td>HOT WATER BOTTLE TEA AND SYMPATHY</td>\n",
       "      <td>2010-12-05 13:17:00</td>\n",
       "      <td>United Kingdom</td>\n",
       "    </tr>\n",
       "  </tbody>\n",
       "</table>\n",
       "</div>"
      ],
      "text/plain": [
       "      CustomerID InvoiceNo StockCode  Quantity  UnitPrice  TotalAmount  \\\n",
       "141        14527   C536379         D        -1      27.50       -27.50   \n",
       "8963       14527    537159     22112         6       4.95        29.70   \n",
       "8964       14527    537159     22111         1       4.95         4.95   \n",
       "8965       14527    537159     21479         1       3.75         3.75   \n",
       "8966       14527    537159     22114         6       3.95        23.70   \n",
       "\n",
       "                            Description         InvoiceDate         Country  \n",
       "141                            Discount 2010-12-01 09:41:00  United Kingdom  \n",
       "8963         CHOCOLATE HOT WATER BOTTLE 2010-12-05 13:17:00  United Kingdom  \n",
       "8964       SCOTTIE DOG HOT WATER BOTTLE 2010-12-05 13:17:00  United Kingdom  \n",
       "8965      WHITE SKULL HOT WATER BOTTLE  2010-12-05 13:17:00  United Kingdom  \n",
       "8966  HOT WATER BOTTLE TEA AND SYMPATHY 2010-12-05 13:17:00  United Kingdom  "
      ]
     },
     "execution_count": 44,
     "metadata": {},
     "output_type": "execute_result"
    }
   ],
   "source": [
    "new_df[new_df['CustomerID'] == 14527].head(5)"
   ]
  },
  {
   "cell_type": "code",
   "execution_count": 45,
   "id": "c74de4d2",
   "metadata": {
    "hidden": true
   },
   "outputs": [
    {
     "name": "stdout",
     "output_type": "stream",
     "text": [
      "154 CustomerID                               15311\n",
      "Quantity                                    -1\n",
      "StockCode                               35004C\n",
      "Description    SET OF 3 COLOURED  FLYING DUCKS\n",
      "UnitPrice                                 4.65\n",
      "Name: 154, dtype: object\n",
      "The second hypothesis is also wrong\n"
     ]
    }
   ],
   "source": [
    "data_check = new_df[(new_df['Quantity'] < 0) & (new_df['Description'] != 'Discount')][['CustomerID','Quantity','StockCode','Description','UnitPrice']]\n",
    "\n",
    "for index, col in  data_check.iterrows():\n",
    "    if new_df[(new_df['CustomerID'] == col[0]) & (new_df['Quantity'] == -col[1]) \n",
    "                & (new_df['Description'] == col[2])].shape[0] == 0: \n",
    "        print(index, data_check.loc[index])\n",
    "        print('The second hypothesis is also wrong')\n",
    "        break"
   ]
  },
  {
   "cell_type": "code",
   "execution_count": 46,
   "id": "9b574676",
   "metadata": {
    "hidden": true,
    "scrolled": true
   },
   "outputs": [
    {
     "data": {
      "text/html": [
       "<div>\n",
       "<style scoped>\n",
       "    .dataframe tbody tr th:only-of-type {\n",
       "        vertical-align: middle;\n",
       "    }\n",
       "\n",
       "    .dataframe tbody tr th {\n",
       "        vertical-align: top;\n",
       "    }\n",
       "\n",
       "    .dataframe thead th {\n",
       "        text-align: right;\n",
       "    }\n",
       "</style>\n",
       "<table border=\"1\" class=\"dataframe\">\n",
       "  <thead>\n",
       "    <tr style=\"text-align: right;\">\n",
       "      <th></th>\n",
       "      <th>CustomerID</th>\n",
       "      <th>InvoiceNo</th>\n",
       "      <th>StockCode</th>\n",
       "      <th>Quantity</th>\n",
       "      <th>UnitPrice</th>\n",
       "      <th>TotalAmount</th>\n",
       "      <th>Description</th>\n",
       "      <th>InvoiceDate</th>\n",
       "      <th>Country</th>\n",
       "    </tr>\n",
       "  </thead>\n",
       "  <tbody>\n",
       "    <tr>\n",
       "      <th>154</th>\n",
       "      <td>15311</td>\n",
       "      <td>C536383</td>\n",
       "      <td>35004C</td>\n",
       "      <td>-1</td>\n",
       "      <td>4.65</td>\n",
       "      <td>-4.65</td>\n",
       "      <td>SET OF 3 COLOURED  FLYING DUCKS</td>\n",
       "      <td>2010-12-01 09:49:00</td>\n",
       "      <td>United Kingdom</td>\n",
       "    </tr>\n",
       "    <tr>\n",
       "      <th>9200</th>\n",
       "      <td>15311</td>\n",
       "      <td>537195</td>\n",
       "      <td>35004C</td>\n",
       "      <td>12</td>\n",
       "      <td>4.65</td>\n",
       "      <td>55.80</td>\n",
       "      <td>SET OF 3 COLOURED  FLYING DUCKS</td>\n",
       "      <td>2010-12-05 13:55:00</td>\n",
       "      <td>United Kingdom</td>\n",
       "    </tr>\n",
       "    <tr>\n",
       "      <th>18196</th>\n",
       "      <td>15311</td>\n",
       "      <td>C537805</td>\n",
       "      <td>35004C</td>\n",
       "      <td>-1</td>\n",
       "      <td>4.65</td>\n",
       "      <td>-4.65</td>\n",
       "      <td>SET OF 3 COLOURED  FLYING DUCKS</td>\n",
       "      <td>2010-12-08 13:18:00</td>\n",
       "      <td>United Kingdom</td>\n",
       "    </tr>\n",
       "    <tr>\n",
       "      <th>28630</th>\n",
       "      <td>15311</td>\n",
       "      <td>538651</td>\n",
       "      <td>35004C</td>\n",
       "      <td>12</td>\n",
       "      <td>4.65</td>\n",
       "      <td>55.80</td>\n",
       "      <td>SET OF 3 COLOURED  FLYING DUCKS</td>\n",
       "      <td>2010-12-13 15:07:00</td>\n",
       "      <td>United Kingdom</td>\n",
       "    </tr>\n",
       "    <tr>\n",
       "      <th>39381</th>\n",
       "      <td>15311</td>\n",
       "      <td>C539640</td>\n",
       "      <td>35004C</td>\n",
       "      <td>-3</td>\n",
       "      <td>4.65</td>\n",
       "      <td>-13.95</td>\n",
       "      <td>SET OF 3 COLOURED  FLYING DUCKS</td>\n",
       "      <td>2010-12-20 15:27:00</td>\n",
       "      <td>United Kingdom</td>\n",
       "    </tr>\n",
       "    <tr>\n",
       "      <th>44157</th>\n",
       "      <td>15311</td>\n",
       "      <td>540157</td>\n",
       "      <td>35004C</td>\n",
       "      <td>12</td>\n",
       "      <td>4.65</td>\n",
       "      <td>55.80</td>\n",
       "      <td>SET OF 3 COLOURED  FLYING DUCKS</td>\n",
       "      <td>2011-01-05 11:41:00</td>\n",
       "      <td>United Kingdom</td>\n",
       "    </tr>\n",
       "    <tr>\n",
       "      <th>59542</th>\n",
       "      <td>15311</td>\n",
       "      <td>541293</td>\n",
       "      <td>35004C</td>\n",
       "      <td>12</td>\n",
       "      <td>4.65</td>\n",
       "      <td>55.80</td>\n",
       "      <td>SET OF 3 COLOURED  FLYING DUCKS</td>\n",
       "      <td>2011-01-17 13:39:00</td>\n",
       "      <td>United Kingdom</td>\n",
       "    </tr>\n",
       "    <tr>\n",
       "      <th>78333</th>\n",
       "      <td>15311</td>\n",
       "      <td>C542866</td>\n",
       "      <td>35004C</td>\n",
       "      <td>-2</td>\n",
       "      <td>4.65</td>\n",
       "      <td>-9.30</td>\n",
       "      <td>SET OF 3 COLOURED  FLYING DUCKS</td>\n",
       "      <td>2011-02-01 12:14:00</td>\n",
       "      <td>United Kingdom</td>\n",
       "    </tr>\n",
       "  </tbody>\n",
       "</table>\n",
       "</div>"
      ],
      "text/plain": [
       "       CustomerID InvoiceNo StockCode  Quantity  UnitPrice  TotalAmount  \\\n",
       "154         15311   C536383    35004C        -1       4.65        -4.65   \n",
       "9200        15311    537195    35004C        12       4.65        55.80   \n",
       "18196       15311   C537805    35004C        -1       4.65        -4.65   \n",
       "28630       15311    538651    35004C        12       4.65        55.80   \n",
       "39381       15311   C539640    35004C        -3       4.65       -13.95   \n",
       "44157       15311    540157    35004C        12       4.65        55.80   \n",
       "59542       15311    541293    35004C        12       4.65        55.80   \n",
       "78333       15311   C542866    35004C        -2       4.65        -9.30   \n",
       "\n",
       "                           Description         InvoiceDate         Country  \n",
       "154    SET OF 3 COLOURED  FLYING DUCKS 2010-12-01 09:49:00  United Kingdom  \n",
       "9200   SET OF 3 COLOURED  FLYING DUCKS 2010-12-05 13:55:00  United Kingdom  \n",
       "18196  SET OF 3 COLOURED  FLYING DUCKS 2010-12-08 13:18:00  United Kingdom  \n",
       "28630  SET OF 3 COLOURED  FLYING DUCKS 2010-12-13 15:07:00  United Kingdom  \n",
       "39381  SET OF 3 COLOURED  FLYING DUCKS 2010-12-20 15:27:00  United Kingdom  \n",
       "44157  SET OF 3 COLOURED  FLYING DUCKS 2011-01-05 11:41:00  United Kingdom  \n",
       "59542  SET OF 3 COLOURED  FLYING DUCKS 2011-01-17 13:39:00  United Kingdom  \n",
       "78333  SET OF 3 COLOURED  FLYING DUCKS 2011-02-01 12:14:00  United Kingdom  "
      ]
     },
     "execution_count": 46,
     "metadata": {},
     "output_type": "execute_result"
    }
   ],
   "source": [
    "new_df[(new_df['CustomerID'] == 15311) & (new_df['Description'] == 'SET OF 3 COLOURED  FLYING DUCKS')]"
   ]
  },
  {
   "cell_type": "markdown",
   "id": "20caecee",
   "metadata": {
    "hidden": true
   },
   "source": [
    "## 2.5. Remove NaN and douplicat"
   ]
  },
  {
   "cell_type": "code",
   "execution_count": 47,
   "id": "7dc61e5d",
   "metadata": {
    "hidden": true
   },
   "outputs": [],
   "source": [
    "df_cleaned = new_df.copy(deep = True)\n",
    "df_cleaned['QuantityCanceled'] = 0\n",
    "\n",
    "entry_to_remove = [] ; doubtfull_entry = []\n",
    "\n",
    "for index, col in  new_df.iterrows():\n",
    "    if (col['Quantity'] > 0) or col['Description'] == 'Discount': continue        \n",
    "    df_test = new_df[(new_df['CustomerID'] == col['CustomerID']) &\n",
    "                         (new_df['StockCode'] == col['StockCode']) & \n",
    "                         (new_df['InvoiceDate'] < col['InvoiceDate']) & \n",
    "                         (new_df['Quantity'] > 0)].copy()\n",
    "    \n",
    "    # Cancelation WITHOUT counterpart\n",
    "    if (df_test.shape[0] == 0): \n",
    "        doubtfull_entry.append(index)\n",
    "    \n",
    "    # Cancelation WITH a counterpart\n",
    "    elif (df_test.shape[0] == 1): \n",
    "        index_order = df_test.index[0]\n",
    "        df_cleaned.loc[index_order, 'QuantityCanceled'] = -col['Quantity']\n",
    "        entry_to_remove.append(index)        \n",
    "    \n",
    "    # Various counterparts exist in orders: we delete the last one\n",
    "    elif (df_test.shape[0] > 1): \n",
    "        df_test.sort_index(axis= 0 ,ascending= False, inplace = True)        \n",
    "        for ind, val in df_test.iterrows():\n",
    "            if val['Quantity'] < -col['Quantity']: continue\n",
    "            df_cleaned.loc[ind, 'QuantityCanceled'] = -col['Quantity']\n",
    "            entry_to_remove.append(index) \n",
    "            break   "
   ]
  },
  {
   "cell_type": "code",
   "execution_count": 48,
   "id": "1f8d9170",
   "metadata": {
    "hidden": true
   },
   "outputs": [
    {
     "name": "stdout",
     "output_type": "stream",
     "text": [
      "entry_to_remove: 7521\n",
      "doubtfull_entry: 1226\n"
     ]
    }
   ],
   "source": [
    "print(\"entry_to_remove: {}\".format(len(entry_to_remove)))\n",
    "print(\"doubtfull_entry: {}\".format(len(doubtfull_entry)))"
   ]
  },
  {
   "cell_type": "code",
   "execution_count": 49,
   "id": "22fd27a3",
   "metadata": {
    "hidden": true
   },
   "outputs": [
    {
     "name": "stdout",
     "output_type": "stream",
     "text": [
      "<class 'pandas.core.frame.DataFrame'>\n",
      "Int64Index: 401604 entries, 0 to 541908\n",
      "Data columns (total 10 columns):\n",
      " #   Column            Non-Null Count   Dtype         \n",
      "---  ------            --------------   -----         \n",
      " 0   CustomerID        401604 non-null  int64         \n",
      " 1   InvoiceNo         401604 non-null  object        \n",
      " 2   StockCode         401604 non-null  object        \n",
      " 3   Quantity          401604 non-null  int64         \n",
      " 4   UnitPrice         401604 non-null  float64       \n",
      " 5   TotalAmount       401604 non-null  float64       \n",
      " 6   Description       401604 non-null  object        \n",
      " 7   InvoiceDate       401604 non-null  datetime64[ns]\n",
      " 8   Country           401604 non-null  object        \n",
      " 9   QuantityCanceled  401604 non-null  int64         \n",
      "dtypes: datetime64[ns](1), float64(2), int64(3), object(4)\n",
      "memory usage: 41.8+ MB\n"
     ]
    }
   ],
   "source": [
    "df_cleaned.info()"
   ]
  },
  {
   "cell_type": "code",
   "execution_count": 50,
   "id": "c8aa67f2",
   "metadata": {
    "hidden": true
   },
   "outputs": [
    {
     "name": "stdout",
     "output_type": "stream",
     "text": [
      "nb of entries to delete: 48\n"
     ]
    },
    {
     "data": {
      "text/html": [
       "<div>\n",
       "<style scoped>\n",
       "    .dataframe tbody tr th:only-of-type {\n",
       "        vertical-align: middle;\n",
       "    }\n",
       "\n",
       "    .dataframe tbody tr th {\n",
       "        vertical-align: top;\n",
       "    }\n",
       "\n",
       "    .dataframe thead th {\n",
       "        text-align: right;\n",
       "    }\n",
       "</style>\n",
       "<table border=\"1\" class=\"dataframe\">\n",
       "  <thead>\n",
       "    <tr style=\"text-align: right;\">\n",
       "      <th></th>\n",
       "      <th>CustomerID</th>\n",
       "      <th>InvoiceNo</th>\n",
       "      <th>StockCode</th>\n",
       "      <th>Quantity</th>\n",
       "      <th>UnitPrice</th>\n",
       "      <th>TotalAmount</th>\n",
       "      <th>Description</th>\n",
       "      <th>InvoiceDate</th>\n",
       "      <th>Country</th>\n",
       "      <th>QuantityCanceled</th>\n",
       "    </tr>\n",
       "  </thead>\n",
       "  <tbody>\n",
       "    <tr>\n",
       "      <th>77598</th>\n",
       "      <td>15358</td>\n",
       "      <td>C542742</td>\n",
       "      <td>84535B</td>\n",
       "      <td>-94</td>\n",
       "      <td>0.65</td>\n",
       "      <td>-61.10</td>\n",
       "      <td>FAIRY CAKES NOTEBOOK A6 SIZE</td>\n",
       "      <td>2011-01-31 16:26:00</td>\n",
       "      <td>United Kingdom</td>\n",
       "      <td>0</td>\n",
       "    </tr>\n",
       "    <tr>\n",
       "      <th>90444</th>\n",
       "      <td>14659</td>\n",
       "      <td>C544038</td>\n",
       "      <td>22784</td>\n",
       "      <td>-4</td>\n",
       "      <td>4.95</td>\n",
       "      <td>-19.80</td>\n",
       "      <td>LANTERN CREAM GAZEBO</td>\n",
       "      <td>2011-02-15 11:32:00</td>\n",
       "      <td>United Kingdom</td>\n",
       "      <td>0</td>\n",
       "    </tr>\n",
       "    <tr>\n",
       "      <th>111968</th>\n",
       "      <td>14048</td>\n",
       "      <td>C545852</td>\n",
       "      <td>22464</td>\n",
       "      <td>-5</td>\n",
       "      <td>1.65</td>\n",
       "      <td>-8.25</td>\n",
       "      <td>HANGING METAL HEART LANTERN</td>\n",
       "      <td>2011-03-07 13:49:00</td>\n",
       "      <td>United Kingdom</td>\n",
       "      <td>0</td>\n",
       "    </tr>\n",
       "    <tr>\n",
       "      <th>116064</th>\n",
       "      <td>16422</td>\n",
       "      <td>C546191</td>\n",
       "      <td>47566B</td>\n",
       "      <td>-35</td>\n",
       "      <td>0.70</td>\n",
       "      <td>-24.50</td>\n",
       "      <td>TEA TIME PARTY BUNTING</td>\n",
       "      <td>2011-03-10 10:57:00</td>\n",
       "      <td>United Kingdom</td>\n",
       "      <td>0</td>\n",
       "    </tr>\n",
       "    <tr>\n",
       "      <th>132642</th>\n",
       "      <td>17754</td>\n",
       "      <td>C547675</td>\n",
       "      <td>22263</td>\n",
       "      <td>-49</td>\n",
       "      <td>0.66</td>\n",
       "      <td>-32.34</td>\n",
       "      <td>FELT EGG COSY LADYBIRD</td>\n",
       "      <td>2011-03-24 14:07:00</td>\n",
       "      <td>United Kingdom</td>\n",
       "      <td>0</td>\n",
       "    </tr>\n",
       "  </tbody>\n",
       "</table>\n",
       "</div>"
      ],
      "text/plain": [
       "        CustomerID InvoiceNo StockCode  Quantity  UnitPrice  TotalAmount  \\\n",
       "77598        15358   C542742    84535B       -94       0.65       -61.10   \n",
       "90444        14659   C544038     22784        -4       4.95       -19.80   \n",
       "111968       14048   C545852     22464        -5       1.65        -8.25   \n",
       "116064       16422   C546191    47566B       -35       0.70       -24.50   \n",
       "132642       17754   C547675     22263       -49       0.66       -32.34   \n",
       "\n",
       "                         Description         InvoiceDate         Country  \\\n",
       "77598   FAIRY CAKES NOTEBOOK A6 SIZE 2011-01-31 16:26:00  United Kingdom   \n",
       "90444          LANTERN CREAM GAZEBO  2011-02-15 11:32:00  United Kingdom   \n",
       "111968   HANGING METAL HEART LANTERN 2011-03-07 13:49:00  United Kingdom   \n",
       "116064        TEA TIME PARTY BUNTING 2011-03-10 10:57:00  United Kingdom   \n",
       "132642       FELT EGG COSY LADYBIRD  2011-03-24 14:07:00  United Kingdom   \n",
       "\n",
       "        QuantityCanceled  \n",
       "77598                  0  \n",
       "90444                  0  \n",
       "111968                 0  \n",
       "116064                 0  \n",
       "132642                 0  "
      ]
     },
     "execution_count": 50,
     "metadata": {},
     "output_type": "execute_result"
    }
   ],
   "source": [
    "df_cleaned.drop(entry_to_remove, axis = 0, inplace = True)\n",
    "df_cleaned.drop(doubtfull_entry, axis = 0, inplace = True)\n",
    "remaining_entries = df_cleaned[(df_cleaned['Quantity'] < 0) & (df_cleaned['StockCode'] != 'D')]\n",
    "print(\"nb of entries to delete: {}\".format(remaining_entries.shape[0]))\n",
    "remaining_entries[:5]"
   ]
  },
  {
   "cell_type": "code",
   "execution_count": 51,
   "id": "c24cf31f",
   "metadata": {
    "hidden": true
   },
   "outputs": [],
   "source": [
    "df_cleaned.drop(remaining_entries.index, axis = 0, inplace = True)"
   ]
  },
  {
   "cell_type": "code",
   "execution_count": 52,
   "id": "1bf0192f",
   "metadata": {
    "hidden": true
   },
   "outputs": [
    {
     "name": "stdout",
     "output_type": "stream",
     "text": [
      "<class 'pandas.core.frame.DataFrame'>\n",
      "Int64Index: 392809 entries, 0 to 541908\n",
      "Data columns (total 10 columns):\n",
      " #   Column            Non-Null Count   Dtype         \n",
      "---  ------            --------------   -----         \n",
      " 0   CustomerID        392809 non-null  int64         \n",
      " 1   InvoiceNo         392809 non-null  object        \n",
      " 2   StockCode         392809 non-null  object        \n",
      " 3   Quantity          392809 non-null  int64         \n",
      " 4   UnitPrice         392809 non-null  float64       \n",
      " 5   TotalAmount       392809 non-null  float64       \n",
      " 6   Description       392809 non-null  object        \n",
      " 7   InvoiceDate       392809 non-null  datetime64[ns]\n",
      " 8   Country           392809 non-null  object        \n",
      " 9   QuantityCanceled  392809 non-null  int64         \n",
      "dtypes: datetime64[ns](1), float64(2), int64(3), object(4)\n",
      "memory usage: 33.0+ MB\n"
     ]
    }
   ],
   "source": [
    "df_cleaned.info()"
   ]
  },
  {
   "cell_type": "code",
   "execution_count": 53,
   "id": "8649c27c",
   "metadata": {
    "hidden": true
   },
   "outputs": [
    {
     "data": {
      "text/html": [
       "<div>\n",
       "<style scoped>\n",
       "    .dataframe tbody tr th:only-of-type {\n",
       "        vertical-align: middle;\n",
       "    }\n",
       "\n",
       "    .dataframe tbody tr th {\n",
       "        vertical-align: top;\n",
       "    }\n",
       "\n",
       "    .dataframe thead th {\n",
       "        text-align: right;\n",
       "    }\n",
       "</style>\n",
       "<table border=\"1\" class=\"dataframe\">\n",
       "  <thead>\n",
       "    <tr style=\"text-align: right;\">\n",
       "      <th></th>\n",
       "      <th>CustomerID</th>\n",
       "      <th>InvoiceNo</th>\n",
       "      <th>StockCode</th>\n",
       "      <th>Quantity</th>\n",
       "      <th>UnitPrice</th>\n",
       "      <th>TotalAmount</th>\n",
       "      <th>Description</th>\n",
       "      <th>InvoiceDate</th>\n",
       "      <th>Country</th>\n",
       "      <th>QuantityCanceled</th>\n",
       "    </tr>\n",
       "  </thead>\n",
       "  <tbody>\n",
       "    <tr>\n",
       "      <th>0</th>\n",
       "      <td>17850</td>\n",
       "      <td>536365</td>\n",
       "      <td>85123A</td>\n",
       "      <td>6</td>\n",
       "      <td>2.55</td>\n",
       "      <td>15.30</td>\n",
       "      <td>WHITE HANGING HEART T-LIGHT HOLDER</td>\n",
       "      <td>2010-12-01 08:26:00</td>\n",
       "      <td>United Kingdom</td>\n",
       "      <td>0</td>\n",
       "    </tr>\n",
       "    <tr>\n",
       "      <th>1</th>\n",
       "      <td>17850</td>\n",
       "      <td>536365</td>\n",
       "      <td>71053</td>\n",
       "      <td>6</td>\n",
       "      <td>3.39</td>\n",
       "      <td>20.34</td>\n",
       "      <td>WHITE METAL LANTERN</td>\n",
       "      <td>2010-12-01 08:26:00</td>\n",
       "      <td>United Kingdom</td>\n",
       "      <td>0</td>\n",
       "    </tr>\n",
       "    <tr>\n",
       "      <th>2</th>\n",
       "      <td>17850</td>\n",
       "      <td>536365</td>\n",
       "      <td>84406B</td>\n",
       "      <td>8</td>\n",
       "      <td>2.75</td>\n",
       "      <td>22.00</td>\n",
       "      <td>CREAM CUPID HEARTS COAT HANGER</td>\n",
       "      <td>2010-12-01 08:26:00</td>\n",
       "      <td>United Kingdom</td>\n",
       "      <td>0</td>\n",
       "    </tr>\n",
       "    <tr>\n",
       "      <th>3</th>\n",
       "      <td>17850</td>\n",
       "      <td>536365</td>\n",
       "      <td>84029G</td>\n",
       "      <td>6</td>\n",
       "      <td>3.39</td>\n",
       "      <td>20.34</td>\n",
       "      <td>KNITTED UNION FLAG HOT WATER BOTTLE</td>\n",
       "      <td>2010-12-01 08:26:00</td>\n",
       "      <td>United Kingdom</td>\n",
       "      <td>0</td>\n",
       "    </tr>\n",
       "    <tr>\n",
       "      <th>4</th>\n",
       "      <td>17850</td>\n",
       "      <td>536365</td>\n",
       "      <td>84029E</td>\n",
       "      <td>6</td>\n",
       "      <td>3.39</td>\n",
       "      <td>20.34</td>\n",
       "      <td>RED WOOLLY HOTTIE WHITE HEART.</td>\n",
       "      <td>2010-12-01 08:26:00</td>\n",
       "      <td>United Kingdom</td>\n",
       "      <td>0</td>\n",
       "    </tr>\n",
       "    <tr>\n",
       "      <th>5</th>\n",
       "      <td>17850</td>\n",
       "      <td>536365</td>\n",
       "      <td>22752</td>\n",
       "      <td>2</td>\n",
       "      <td>7.65</td>\n",
       "      <td>15.30</td>\n",
       "      <td>SET 7 BABUSHKA NESTING BOXES</td>\n",
       "      <td>2010-12-01 08:26:00</td>\n",
       "      <td>United Kingdom</td>\n",
       "      <td>0</td>\n",
       "    </tr>\n",
       "    <tr>\n",
       "      <th>6</th>\n",
       "      <td>17850</td>\n",
       "      <td>536365</td>\n",
       "      <td>21730</td>\n",
       "      <td>6</td>\n",
       "      <td>4.25</td>\n",
       "      <td>25.50</td>\n",
       "      <td>GLASS STAR FROSTED T-LIGHT HOLDER</td>\n",
       "      <td>2010-12-01 08:26:00</td>\n",
       "      <td>United Kingdom</td>\n",
       "      <td>0</td>\n",
       "    </tr>\n",
       "    <tr>\n",
       "      <th>7</th>\n",
       "      <td>17850</td>\n",
       "      <td>536366</td>\n",
       "      <td>22633</td>\n",
       "      <td>6</td>\n",
       "      <td>1.85</td>\n",
       "      <td>11.10</td>\n",
       "      <td>HAND WARMER UNION JACK</td>\n",
       "      <td>2010-12-01 08:28:00</td>\n",
       "      <td>United Kingdom</td>\n",
       "      <td>0</td>\n",
       "    </tr>\n",
       "    <tr>\n",
       "      <th>8</th>\n",
       "      <td>17850</td>\n",
       "      <td>536366</td>\n",
       "      <td>22632</td>\n",
       "      <td>6</td>\n",
       "      <td>1.85</td>\n",
       "      <td>11.10</td>\n",
       "      <td>HAND WARMER RED POLKA DOT</td>\n",
       "      <td>2010-12-01 08:28:00</td>\n",
       "      <td>United Kingdom</td>\n",
       "      <td>0</td>\n",
       "    </tr>\n",
       "    <tr>\n",
       "      <th>9</th>\n",
       "      <td>13047</td>\n",
       "      <td>536367</td>\n",
       "      <td>84879</td>\n",
       "      <td>32</td>\n",
       "      <td>1.69</td>\n",
       "      <td>54.08</td>\n",
       "      <td>ASSORTED COLOUR BIRD ORNAMENT</td>\n",
       "      <td>2010-12-01 08:34:00</td>\n",
       "      <td>United Kingdom</td>\n",
       "      <td>0</td>\n",
       "    </tr>\n",
       "  </tbody>\n",
       "</table>\n",
       "</div>"
      ],
      "text/plain": [
       "   CustomerID InvoiceNo StockCode  Quantity  UnitPrice  TotalAmount  \\\n",
       "0       17850    536365    85123A         6       2.55        15.30   \n",
       "1       17850    536365     71053         6       3.39        20.34   \n",
       "2       17850    536365    84406B         8       2.75        22.00   \n",
       "3       17850    536365    84029G         6       3.39        20.34   \n",
       "4       17850    536365    84029E         6       3.39        20.34   \n",
       "5       17850    536365     22752         2       7.65        15.30   \n",
       "6       17850    536365     21730         6       4.25        25.50   \n",
       "7       17850    536366     22633         6       1.85        11.10   \n",
       "8       17850    536366     22632         6       1.85        11.10   \n",
       "9       13047    536367     84879        32       1.69        54.08   \n",
       "\n",
       "                           Description         InvoiceDate         Country  \\\n",
       "0   WHITE HANGING HEART T-LIGHT HOLDER 2010-12-01 08:26:00  United Kingdom   \n",
       "1                  WHITE METAL LANTERN 2010-12-01 08:26:00  United Kingdom   \n",
       "2       CREAM CUPID HEARTS COAT HANGER 2010-12-01 08:26:00  United Kingdom   \n",
       "3  KNITTED UNION FLAG HOT WATER BOTTLE 2010-12-01 08:26:00  United Kingdom   \n",
       "4       RED WOOLLY HOTTIE WHITE HEART. 2010-12-01 08:26:00  United Kingdom   \n",
       "5         SET 7 BABUSHKA NESTING BOXES 2010-12-01 08:26:00  United Kingdom   \n",
       "6    GLASS STAR FROSTED T-LIGHT HOLDER 2010-12-01 08:26:00  United Kingdom   \n",
       "7               HAND WARMER UNION JACK 2010-12-01 08:28:00  United Kingdom   \n",
       "8            HAND WARMER RED POLKA DOT 2010-12-01 08:28:00  United Kingdom   \n",
       "9        ASSORTED COLOUR BIRD ORNAMENT 2010-12-01 08:34:00  United Kingdom   \n",
       "\n",
       "   QuantityCanceled  \n",
       "0                 0  \n",
       "1                 0  \n",
       "2                 0  \n",
       "3                 0  \n",
       "4                 0  \n",
       "5                 0  \n",
       "6                 0  \n",
       "7                 0  \n",
       "8                 0  \n",
       "9                 0  "
      ]
     },
     "execution_count": 53,
     "metadata": {},
     "output_type": "execute_result"
    }
   ],
   "source": [
    "df_cleaned.head(10)"
   ]
  },
  {
   "cell_type": "markdown",
   "id": "117121f5",
   "metadata": {
    "hidden": true
   },
   "source": [
    "## 2.6. StockCode contain string"
   ]
  },
  {
   "cell_type": "code",
   "execution_count": 54,
   "id": "2133b18d",
   "metadata": {
    "hidden": true
   },
   "outputs": [
    {
     "data": {
      "text/plain": [
       "array(['POST', 'D', 'C2', 'M', 'BANK CHARGES', 'PADS', 'DOT'],\n",
       "      dtype=object)"
      ]
     },
     "execution_count": 54,
     "metadata": {},
     "output_type": "execute_result"
    }
   ],
   "source": [
    "list_special_codes = df_cleaned[df_cleaned['StockCode'].str.contains('^[a-zA-Z]+', regex=True)]['StockCode'].unique()\n",
    "list_special_codes"
   ]
  },
  {
   "cell_type": "code",
   "execution_count": 55,
   "id": "0533ead4",
   "metadata": {
    "hidden": true
   },
   "outputs": [],
   "source": [
    "df_cleaned = df_cleaned[df_cleaned['StockCode']!= 'POST']\n",
    "df_cleaned = df_cleaned[df_cleaned['StockCode']!= 'D']\n",
    "df_cleaned = df_cleaned[df_cleaned['StockCode']!= 'C2']\n",
    "df_cleaned = df_cleaned[df_cleaned['StockCode']!= 'M']\n",
    "df_cleaned = df_cleaned[df_cleaned['StockCode']!= 'BANK CHARGES']\n",
    "df_cleaned = df_cleaned[df_cleaned['StockCode']!= 'PADS']\n",
    "df_cleaned = df_cleaned[df_cleaned['StockCode']!= 'DOT']"
   ]
  },
  {
   "cell_type": "code",
   "execution_count": 56,
   "id": "3d7aa875",
   "metadata": {
    "hidden": true
   },
   "outputs": [
    {
     "name": "stdout",
     "output_type": "stream",
     "text": [
      "<class 'pandas.core.frame.DataFrame'>\n",
      "Int64Index: 391183 entries, 0 to 541908\n",
      "Data columns (total 10 columns):\n",
      " #   Column            Non-Null Count   Dtype         \n",
      "---  ------            --------------   -----         \n",
      " 0   CustomerID        391183 non-null  int64         \n",
      " 1   InvoiceNo         391183 non-null  object        \n",
      " 2   StockCode         391183 non-null  object        \n",
      " 3   Quantity          391183 non-null  int64         \n",
      " 4   UnitPrice         391183 non-null  float64       \n",
      " 5   TotalAmount       391183 non-null  float64       \n",
      " 6   Description       391183 non-null  object        \n",
      " 7   InvoiceDate       391183 non-null  datetime64[ns]\n",
      " 8   Country           391183 non-null  object        \n",
      " 9   QuantityCanceled  391183 non-null  int64         \n",
      "dtypes: datetime64[ns](1), float64(2), int64(3), object(4)\n",
      "memory usage: 32.8+ MB\n"
     ]
    }
   ],
   "source": [
    "df_cleaned.info()"
   ]
  },
  {
   "cell_type": "markdown",
   "id": "e1211b6f",
   "metadata": {
    "hidden": true
   },
   "source": [
    "## 2.7. Check the Outlier"
   ]
  },
  {
   "cell_type": "code",
   "execution_count": 57,
   "id": "44daa019",
   "metadata": {
    "hidden": true
   },
   "outputs": [
    {
     "data": {
      "text/html": [
       "<div>\n",
       "<style scoped>\n",
       "    .dataframe tbody tr th:only-of-type {\n",
       "        vertical-align: middle;\n",
       "    }\n",
       "\n",
       "    .dataframe tbody tr th {\n",
       "        vertical-align: top;\n",
       "    }\n",
       "\n",
       "    .dataframe thead th {\n",
       "        text-align: right;\n",
       "    }\n",
       "</style>\n",
       "<table border=\"1\" class=\"dataframe\">\n",
       "  <thead>\n",
       "    <tr style=\"text-align: right;\">\n",
       "      <th></th>\n",
       "      <th>CustomerID</th>\n",
       "      <th>Quantity</th>\n",
       "      <th>UnitPrice</th>\n",
       "      <th>TotalAmount</th>\n",
       "      <th>QuantityCanceled</th>\n",
       "    </tr>\n",
       "  </thead>\n",
       "  <tbody>\n",
       "    <tr>\n",
       "      <th>count</th>\n",
       "      <td>391183.000000</td>\n",
       "      <td>391183.000000</td>\n",
       "      <td>391183.000000</td>\n",
       "      <td>391183.000000</td>\n",
       "      <td>391183.000000</td>\n",
       "    </tr>\n",
       "    <tr>\n",
       "      <th>mean</th>\n",
       "      <td>15295.083503</td>\n",
       "      <td>13.179665</td>\n",
       "      <td>2.874130</td>\n",
       "      <td>22.335397</td>\n",
       "      <td>0.626569</td>\n",
       "    </tr>\n",
       "    <tr>\n",
       "      <th>std</th>\n",
       "      <td>1710.359579</td>\n",
       "      <td>181.907403</td>\n",
       "      <td>4.284639</td>\n",
       "      <td>310.919394</td>\n",
       "      <td>175.902239</td>\n",
       "    </tr>\n",
       "    <tr>\n",
       "      <th>min</th>\n",
       "      <td>12346.000000</td>\n",
       "      <td>1.000000</td>\n",
       "      <td>0.000000</td>\n",
       "      <td>0.000000</td>\n",
       "      <td>0.000000</td>\n",
       "    </tr>\n",
       "    <tr>\n",
       "      <th>25%</th>\n",
       "      <td>13969.000000</td>\n",
       "      <td>2.000000</td>\n",
       "      <td>1.250000</td>\n",
       "      <td>4.950000</td>\n",
       "      <td>0.000000</td>\n",
       "    </tr>\n",
       "    <tr>\n",
       "      <th>50%</th>\n",
       "      <td>15158.000000</td>\n",
       "      <td>6.000000</td>\n",
       "      <td>1.950000</td>\n",
       "      <td>11.900000</td>\n",
       "      <td>0.000000</td>\n",
       "    </tr>\n",
       "    <tr>\n",
       "      <th>75%</th>\n",
       "      <td>16794.000000</td>\n",
       "      <td>12.000000</td>\n",
       "      <td>3.750000</td>\n",
       "      <td>19.800000</td>\n",
       "      <td>0.000000</td>\n",
       "    </tr>\n",
       "    <tr>\n",
       "      <th>max</th>\n",
       "      <td>18287.000000</td>\n",
       "      <td>80995.000000</td>\n",
       "      <td>649.500000</td>\n",
       "      <td>168469.600000</td>\n",
       "      <td>80995.000000</td>\n",
       "    </tr>\n",
       "  </tbody>\n",
       "</table>\n",
       "</div>"
      ],
      "text/plain": [
       "          CustomerID       Quantity      UnitPrice    TotalAmount  \\\n",
       "count  391183.000000  391183.000000  391183.000000  391183.000000   \n",
       "mean    15295.083503      13.179665       2.874130      22.335397   \n",
       "std      1710.359579     181.907403       4.284639     310.919394   \n",
       "min     12346.000000       1.000000       0.000000       0.000000   \n",
       "25%     13969.000000       2.000000       1.250000       4.950000   \n",
       "50%     15158.000000       6.000000       1.950000      11.900000   \n",
       "75%     16794.000000      12.000000       3.750000      19.800000   \n",
       "max     18287.000000   80995.000000     649.500000  168469.600000   \n",
       "\n",
       "       QuantityCanceled  \n",
       "count     391183.000000  \n",
       "mean           0.626569  \n",
       "std          175.902239  \n",
       "min            0.000000  \n",
       "25%            0.000000  \n",
       "50%            0.000000  \n",
       "75%            0.000000  \n",
       "max        80995.000000  "
      ]
     },
     "execution_count": 57,
     "metadata": {},
     "output_type": "execute_result"
    }
   ],
   "source": [
    "df_cleaned.describe()"
   ]
  },
  {
   "cell_type": "code",
   "execution_count": 58,
   "id": "4c417bfd",
   "metadata": {
    "hidden": true
   },
   "outputs": [
    {
     "data": {
      "text/html": [
       "<div>\n",
       "<style scoped>\n",
       "    .dataframe tbody tr th:only-of-type {\n",
       "        vertical-align: middle;\n",
       "    }\n",
       "\n",
       "    .dataframe tbody tr th {\n",
       "        vertical-align: top;\n",
       "    }\n",
       "\n",
       "    .dataframe thead th {\n",
       "        text-align: right;\n",
       "    }\n",
       "</style>\n",
       "<table border=\"1\" class=\"dataframe\">\n",
       "  <thead>\n",
       "    <tr style=\"text-align: right;\">\n",
       "      <th></th>\n",
       "      <th>CustomerID</th>\n",
       "      <th>InvoiceNo</th>\n",
       "      <th>StockCode</th>\n",
       "      <th>Quantity</th>\n",
       "      <th>UnitPrice</th>\n",
       "      <th>TotalAmount</th>\n",
       "      <th>Description</th>\n",
       "      <th>InvoiceDate</th>\n",
       "      <th>Country</th>\n",
       "      <th>QuantityCanceled</th>\n",
       "    </tr>\n",
       "  </thead>\n",
       "  <tbody>\n",
       "    <tr>\n",
       "      <th>9302</th>\n",
       "      <td>12647</td>\n",
       "      <td>537197</td>\n",
       "      <td>22841</td>\n",
       "      <td>1</td>\n",
       "      <td>0.0</td>\n",
       "      <td>0.0</td>\n",
       "      <td>ROUND CAKE TIN VINTAGE GREEN</td>\n",
       "      <td>2010-12-05 14:02:00</td>\n",
       "      <td>Germany</td>\n",
       "      <td>0</td>\n",
       "    </tr>\n",
       "    <tr>\n",
       "      <th>33576</th>\n",
       "      <td>16560</td>\n",
       "      <td>539263</td>\n",
       "      <td>22580</td>\n",
       "      <td>4</td>\n",
       "      <td>0.0</td>\n",
       "      <td>0.0</td>\n",
       "      <td>ADVENT CALENDAR GINGHAM SACK</td>\n",
       "      <td>2010-12-16 14:36:00</td>\n",
       "      <td>United Kingdom</td>\n",
       "      <td>0</td>\n",
       "    </tr>\n",
       "    <tr>\n",
       "      <th>40089</th>\n",
       "      <td>14911</td>\n",
       "      <td>539722</td>\n",
       "      <td>22423</td>\n",
       "      <td>10</td>\n",
       "      <td>0.0</td>\n",
       "      <td>0.0</td>\n",
       "      <td>REGENCY CAKESTAND 3 TIER</td>\n",
       "      <td>2010-12-21 13:45:00</td>\n",
       "      <td>EIRE</td>\n",
       "      <td>0</td>\n",
       "    </tr>\n",
       "    <tr>\n",
       "      <th>47068</th>\n",
       "      <td>13081</td>\n",
       "      <td>540372</td>\n",
       "      <td>22090</td>\n",
       "      <td>24</td>\n",
       "      <td>0.0</td>\n",
       "      <td>0.0</td>\n",
       "      <td>PAPER BUNTING RETROSPOT</td>\n",
       "      <td>2011-01-06 16:41:00</td>\n",
       "      <td>United Kingdom</td>\n",
       "      <td>0</td>\n",
       "    </tr>\n",
       "    <tr>\n",
       "      <th>47070</th>\n",
       "      <td>13081</td>\n",
       "      <td>540372</td>\n",
       "      <td>22553</td>\n",
       "      <td>24</td>\n",
       "      <td>0.0</td>\n",
       "      <td>0.0</td>\n",
       "      <td>PLASTERS IN TIN SKULLS</td>\n",
       "      <td>2011-01-06 16:41:00</td>\n",
       "      <td>United Kingdom</td>\n",
       "      <td>0</td>\n",
       "    </tr>\n",
       "  </tbody>\n",
       "</table>\n",
       "</div>"
      ],
      "text/plain": [
       "       CustomerID InvoiceNo StockCode  Quantity  UnitPrice  TotalAmount  \\\n",
       "9302        12647    537197     22841         1        0.0          0.0   \n",
       "33576       16560    539263     22580         4        0.0          0.0   \n",
       "40089       14911    539722     22423        10        0.0          0.0   \n",
       "47068       13081    540372     22090        24        0.0          0.0   \n",
       "47070       13081    540372     22553        24        0.0          0.0   \n",
       "\n",
       "                        Description         InvoiceDate         Country  \\\n",
       "9302   ROUND CAKE TIN VINTAGE GREEN 2010-12-05 14:02:00         Germany   \n",
       "33576  ADVENT CALENDAR GINGHAM SACK 2010-12-16 14:36:00  United Kingdom   \n",
       "40089      REGENCY CAKESTAND 3 TIER 2010-12-21 13:45:00            EIRE   \n",
       "47068       PAPER BUNTING RETROSPOT 2011-01-06 16:41:00  United Kingdom   \n",
       "47070        PLASTERS IN TIN SKULLS 2011-01-06 16:41:00  United Kingdom   \n",
       "\n",
       "       QuantityCanceled  \n",
       "9302                  0  \n",
       "33576                 0  \n",
       "40089                 0  \n",
       "47068                 0  \n",
       "47070                 0  "
      ]
     },
     "execution_count": 58,
     "metadata": {},
     "output_type": "execute_result"
    }
   ],
   "source": [
    "df_cleaned[(df_cleaned['UnitPrice'] == 0)].head(5)"
   ]
  },
  {
   "cell_type": "code",
   "execution_count": 59,
   "id": "9700f2a1",
   "metadata": {
    "hidden": true
   },
   "outputs": [
    {
     "data": {
      "text/html": [
       "<div>\n",
       "<style scoped>\n",
       "    .dataframe tbody tr th:only-of-type {\n",
       "        vertical-align: middle;\n",
       "    }\n",
       "\n",
       "    .dataframe tbody tr th {\n",
       "        vertical-align: top;\n",
       "    }\n",
       "\n",
       "    .dataframe thead th {\n",
       "        text-align: right;\n",
       "    }\n",
       "</style>\n",
       "<table border=\"1\" class=\"dataframe\">\n",
       "  <thead>\n",
       "    <tr style=\"text-align: right;\">\n",
       "      <th></th>\n",
       "      <th>CustomerID</th>\n",
       "      <th>InvoiceNo</th>\n",
       "      <th>StockCode</th>\n",
       "      <th>Quantity</th>\n",
       "      <th>UnitPrice</th>\n",
       "      <th>TotalAmount</th>\n",
       "      <th>Description</th>\n",
       "      <th>InvoiceDate</th>\n",
       "      <th>Country</th>\n",
       "      <th>QuantityCanceled</th>\n",
       "    </tr>\n",
       "  </thead>\n",
       "  <tbody>\n",
       "    <tr>\n",
       "      <th>222680</th>\n",
       "      <td>15098</td>\n",
       "      <td>556444</td>\n",
       "      <td>22502</td>\n",
       "      <td>60</td>\n",
       "      <td>649.5</td>\n",
       "      <td>38970.0</td>\n",
       "      <td>PICNIC BASKET WICKER 60 PIECES</td>\n",
       "      <td>2011-06-10 15:28:00</td>\n",
       "      <td>United Kingdom</td>\n",
       "      <td>60</td>\n",
       "    </tr>\n",
       "    <tr>\n",
       "      <th>222682</th>\n",
       "      <td>15098</td>\n",
       "      <td>556446</td>\n",
       "      <td>22502</td>\n",
       "      <td>1</td>\n",
       "      <td>649.5</td>\n",
       "      <td>649.5</td>\n",
       "      <td>PICNIC BASKET WICKER 60 PIECES</td>\n",
       "      <td>2011-06-10 15:33:00</td>\n",
       "      <td>United Kingdom</td>\n",
       "      <td>0</td>\n",
       "    </tr>\n",
       "  </tbody>\n",
       "</table>\n",
       "</div>"
      ],
      "text/plain": [
       "        CustomerID InvoiceNo StockCode  Quantity  UnitPrice  TotalAmount  \\\n",
       "222680       15098    556444     22502        60      649.5      38970.0   \n",
       "222682       15098    556446     22502         1      649.5        649.5   \n",
       "\n",
       "                           Description         InvoiceDate         Country  \\\n",
       "222680  PICNIC BASKET WICKER 60 PIECES 2011-06-10 15:28:00  United Kingdom   \n",
       "222682  PICNIC BASKET WICKER 60 PIECES 2011-06-10 15:33:00  United Kingdom   \n",
       "\n",
       "        QuantityCanceled  \n",
       "222680                60  \n",
       "222682                 0  "
      ]
     },
     "execution_count": 59,
     "metadata": {},
     "output_type": "execute_result"
    }
   ],
   "source": [
    "df_cleaned[(df_cleaned['UnitPrice'] == 649.50)].head(5)"
   ]
  },
  {
   "cell_type": "code",
   "execution_count": null,
   "id": "bfe8482a",
   "metadata": {
    "hidden": true
   },
   "outputs": [],
   "source": []
  },
  {
   "cell_type": "markdown",
   "id": "3d9fb7e8",
   "metadata": {
    "hidden": true
   },
   "source": [
    "## 2.8. Count"
   ]
  },
  {
   "cell_type": "code",
   "execution_count": 60,
   "id": "ac328c1a",
   "metadata": {
    "hidden": true
   },
   "outputs": [
    {
     "name": "stdout",
     "output_type": "stream",
     "text": [
      "CustomerID :  4335\n",
      "InvoiceNo :  18405\n",
      "StockCode :  3659\n",
      "Quantity :  300\n",
      "UnitPrice :  356\n",
      "TotalAmount :  2856\n",
      "Description :  3871\n",
      "InvoiceDate :  17169\n",
      "Country :  37\n",
      "QuantityCanceled :  122\n"
     ]
    }
   ],
   "source": [
    "def unique_counts(data):\n",
    "   for i in data.columns:\n",
    "       count = data[i].nunique()\n",
    "       print(i, \": \", count)\n",
    "unique_counts(df_cleaned)"
   ]
  },
  {
   "cell_type": "markdown",
   "id": "f0b391ca",
   "metadata": {
    "hidden": true
   },
   "source": [
    "## 2.9. Find Revenue per country"
   ]
  },
  {
   "cell_type": "code",
   "execution_count": 61,
   "id": "15d9e79a",
   "metadata": {
    "hidden": true
   },
   "outputs": [],
   "source": [
    "df_cleaned['TotalPrice'] = df_cleaned['UnitPrice'] * (df_cleaned['Quantity'] - df_cleaned['QuantityCanceled'])"
   ]
  },
  {
   "cell_type": "code",
   "execution_count": 62,
   "id": "14c9a4c0",
   "metadata": {
    "hidden": true
   },
   "outputs": [
    {
     "data": {
      "text/plain": [
       "Text(0.5, 1.0, 'Revenue per Country')"
      ]
     },
     "execution_count": 62,
     "metadata": {},
     "output_type": "execute_result"
    },
    {
     "data": {
      "image/png": "[encoded data removed]",
      "text/plain": [
       "<Figure size 720x576 with 1 Axes>"
      ]
     },
     "metadata": {
      "needs_background": "light"
     },
     "output_type": "display_data"
    }
   ],
   "source": [
    "revenue_per_countries = df_cleaned.groupby([\"Country\"])[\"TotalPrice\"].sum().sort_values()\n",
    "revenue_per_countries.plot(kind='barh', figsize=(10,8))\n",
    "plt.title(\"Revenue per Country\")"
   ]
  },
  {
   "cell_type": "markdown",
   "id": "1929f476",
   "metadata": {
    "hidden": true
   },
   "source": [
    "## 2.10. Change Country name to code"
   ]
  },
  {
   "cell_type": "code",
   "execution_count": 63,
   "id": "5bc5357d",
   "metadata": {
    "hidden": true
   },
   "outputs": [
    {
     "data": {
      "text/plain": [
       "LabelEncoder()"
      ]
     },
     "execution_count": 63,
     "metadata": {},
     "output_type": "execute_result"
    }
   ],
   "source": [
    "countrycode = LabelEncoder()\n",
    "countrycode.fit(df_cleaned['Country'])"
   ]
  },
  {
   "cell_type": "code",
   "execution_count": 64,
   "id": "9c007f25",
   "metadata": {
    "hidden": true
   },
   "outputs": [
    {
     "data": {
      "text/plain": [
       "{'Australia': 0,\n",
       " 'Austria': 1,\n",
       " 'Bahrain': 2,\n",
       " 'Belgium': 3,\n",
       " 'Brazil': 4,\n",
       " 'Canada': 5,\n",
       " 'Channel Islands': 6,\n",
       " 'Cyprus': 7,\n",
       " 'Czech Republic': 8,\n",
       " 'Denmark': 9,\n",
       " 'EIRE': 10,\n",
       " 'European Community': 11,\n",
       " 'Finland': 12,\n",
       " 'France': 13,\n",
       " 'Germany': 14,\n",
       " 'Greece': 15,\n",
       " 'Iceland': 16,\n",
       " 'Israel': 17,\n",
       " 'Italy': 18,\n",
       " 'Japan': 19,\n",
       " 'Lebanon': 20,\n",
       " 'Lithuania': 21,\n",
       " 'Malta': 22,\n",
       " 'Netherlands': 23,\n",
       " 'Norway': 24,\n",
       " 'Poland': 25,\n",
       " 'Portugal': 26,\n",
       " 'RSA': 27,\n",
       " 'Saudi Arabia': 28,\n",
       " 'Singapore': 29,\n",
       " 'Spain': 30,\n",
       " 'Sweden': 31,\n",
       " 'Switzerland': 32,\n",
       " 'USA': 33,\n",
       " 'United Arab Emirates': 34,\n",
       " 'United Kingdom': 35,\n",
       " 'Unspecified': 36}"
      ]
     },
     "execution_count": 64,
     "metadata": {},
     "output_type": "execute_result"
    }
   ],
   "source": [
    "l = [i for i in range(37)]\n",
    "dict(zip(list(countrycode.classes_), l))"
   ]
  },
  {
   "cell_type": "code",
   "execution_count": 65,
   "id": "d49fce83",
   "metadata": {
    "hidden": true
   },
   "outputs": [],
   "source": [
    "df_cleaned['Country'] = countrycode.transform(df_cleaned['Country'])"
   ]
  },
  {
   "cell_type": "code",
   "execution_count": 66,
   "id": "66efdd94",
   "metadata": {
    "hidden": true
   },
   "outputs": [],
   "source": [
    "with open('labelencoder.pickle', 'wb') as g:\n",
    " pickle.dump(countrycode, g)"
   ]
  },
  {
   "cell_type": "code",
   "execution_count": 67,
   "id": "be4dbb0d",
   "metadata": {
    "hidden": true
   },
   "outputs": [
    {
     "data": {
      "text/html": [
       "<div>\n",
       "<style scoped>\n",
       "    .dataframe tbody tr th:only-of-type {\n",
       "        vertical-align: middle;\n",
       "    }\n",
       "\n",
       "    .dataframe tbody tr th {\n",
       "        vertical-align: top;\n",
       "    }\n",
       "\n",
       "    .dataframe thead th {\n",
       "        text-align: right;\n",
       "    }\n",
       "</style>\n",
       "<table border=\"1\" class=\"dataframe\">\n",
       "  <thead>\n",
       "    <tr style=\"text-align: right;\">\n",
       "      <th></th>\n",
       "      <th>CustomerID</th>\n",
       "      <th>InvoiceNo</th>\n",
       "      <th>StockCode</th>\n",
       "      <th>Quantity</th>\n",
       "      <th>UnitPrice</th>\n",
       "      <th>TotalAmount</th>\n",
       "      <th>Description</th>\n",
       "      <th>InvoiceDate</th>\n",
       "      <th>Country</th>\n",
       "      <th>QuantityCanceled</th>\n",
       "      <th>TotalPrice</th>\n",
       "    </tr>\n",
       "  </thead>\n",
       "  <tbody>\n",
       "    <tr>\n",
       "      <th>0</th>\n",
       "      <td>17850</td>\n",
       "      <td>536365</td>\n",
       "      <td>85123A</td>\n",
       "      <td>6</td>\n",
       "      <td>2.55</td>\n",
       "      <td>15.30</td>\n",
       "      <td>WHITE HANGING HEART T-LIGHT HOLDER</td>\n",
       "      <td>2010-12-01 08:26:00</td>\n",
       "      <td>35</td>\n",
       "      <td>0</td>\n",
       "      <td>15.30</td>\n",
       "    </tr>\n",
       "    <tr>\n",
       "      <th>1</th>\n",
       "      <td>17850</td>\n",
       "      <td>536365</td>\n",
       "      <td>71053</td>\n",
       "      <td>6</td>\n",
       "      <td>3.39</td>\n",
       "      <td>20.34</td>\n",
       "      <td>WHITE METAL LANTERN</td>\n",
       "      <td>2010-12-01 08:26:00</td>\n",
       "      <td>35</td>\n",
       "      <td>0</td>\n",
       "      <td>20.34</td>\n",
       "    </tr>\n",
       "    <tr>\n",
       "      <th>2</th>\n",
       "      <td>17850</td>\n",
       "      <td>536365</td>\n",
       "      <td>84406B</td>\n",
       "      <td>8</td>\n",
       "      <td>2.75</td>\n",
       "      <td>22.00</td>\n",
       "      <td>CREAM CUPID HEARTS COAT HANGER</td>\n",
       "      <td>2010-12-01 08:26:00</td>\n",
       "      <td>35</td>\n",
       "      <td>0</td>\n",
       "      <td>22.00</td>\n",
       "    </tr>\n",
       "    <tr>\n",
       "      <th>3</th>\n",
       "      <td>17850</td>\n",
       "      <td>536365</td>\n",
       "      <td>84029G</td>\n",
       "      <td>6</td>\n",
       "      <td>3.39</td>\n",
       "      <td>20.34</td>\n",
       "      <td>KNITTED UNION FLAG HOT WATER BOTTLE</td>\n",
       "      <td>2010-12-01 08:26:00</td>\n",
       "      <td>35</td>\n",
       "      <td>0</td>\n",
       "      <td>20.34</td>\n",
       "    </tr>\n",
       "    <tr>\n",
       "      <th>4</th>\n",
       "      <td>17850</td>\n",
       "      <td>536365</td>\n",
       "      <td>84029E</td>\n",
       "      <td>6</td>\n",
       "      <td>3.39</td>\n",
       "      <td>20.34</td>\n",
       "      <td>RED WOOLLY HOTTIE WHITE HEART.</td>\n",
       "      <td>2010-12-01 08:26:00</td>\n",
       "      <td>35</td>\n",
       "      <td>0</td>\n",
       "      <td>20.34</td>\n",
       "    </tr>\n",
       "  </tbody>\n",
       "</table>\n",
       "</div>"
      ],
      "text/plain": [
       "   CustomerID InvoiceNo StockCode  Quantity  UnitPrice  TotalAmount  \\\n",
       "0       17850    536365    85123A         6       2.55        15.30   \n",
       "1       17850    536365     71053         6       3.39        20.34   \n",
       "2       17850    536365    84406B         8       2.75        22.00   \n",
       "3       17850    536365    84029G         6       3.39        20.34   \n",
       "4       17850    536365    84029E         6       3.39        20.34   \n",
       "\n",
       "                           Description         InvoiceDate  Country  \\\n",
       "0   WHITE HANGING HEART T-LIGHT HOLDER 2010-12-01 08:26:00       35   \n",
       "1                  WHITE METAL LANTERN 2010-12-01 08:26:00       35   \n",
       "2       CREAM CUPID HEARTS COAT HANGER 2010-12-01 08:26:00       35   \n",
       "3  KNITTED UNION FLAG HOT WATER BOTTLE 2010-12-01 08:26:00       35   \n",
       "4       RED WOOLLY HOTTIE WHITE HEART. 2010-12-01 08:26:00       35   \n",
       "\n",
       "   QuantityCanceled  TotalPrice  \n",
       "0                 0       15.30  \n",
       "1                 0       20.34  \n",
       "2                 0       22.00  \n",
       "3                 0       20.34  \n",
       "4                 0       20.34  "
      ]
     },
     "execution_count": 67,
     "metadata": {},
     "output_type": "execute_result"
    }
   ],
   "source": [
    "df_cleaned.head(5)"
   ]
  },
  {
   "cell_type": "markdown",
   "id": "72b62594",
   "metadata": {
    "heading_collapsed": true
   },
   "source": [
    "# 3. RFM"
   ]
  },
  {
   "cell_type": "markdown",
   "id": "c797747d",
   "metadata": {
    "hidden": true
   },
   "source": [
    "### RFM stand for Recency Frequency and Monetary"
   ]
  },
  {
   "cell_type": "markdown",
   "id": "6f4a5e47",
   "metadata": {
    "hidden": true
   },
   "source": [
    "### R = Last date - Last Invoice Date\n",
    "### F = Count Invoice number of transection \n",
    "### M = Sum of Total amount for each customer"
   ]
  },
  {
   "cell_type": "markdown",
   "id": "053617bd",
   "metadata": {
    "hidden": true
   },
   "source": [
    "### 3.1. Find score of Recency, Frequency and Monetary for each customer"
   ]
  },
  {
   "cell_type": "code",
   "execution_count": 68,
   "id": "07517d8a",
   "metadata": {
    "hidden": true
   },
   "outputs": [],
   "source": [
    "import datetime as dt"
   ]
  },
  {
   "cell_type": "code",
   "execution_count": 69,
   "id": "4033a932",
   "metadata": {
    "hidden": true
   },
   "outputs": [
    {
     "data": {
      "text/html": [
       "<div>\n",
       "<style scoped>\n",
       "    .dataframe tbody tr th:only-of-type {\n",
       "        vertical-align: middle;\n",
       "    }\n",
       "\n",
       "    .dataframe tbody tr th {\n",
       "        vertical-align: top;\n",
       "    }\n",
       "\n",
       "    .dataframe thead th {\n",
       "        text-align: right;\n",
       "    }\n",
       "</style>\n",
       "<table border=\"1\" class=\"dataframe\">\n",
       "  <thead>\n",
       "    <tr style=\"text-align: right;\">\n",
       "      <th></th>\n",
       "      <th>CustomerID</th>\n",
       "      <th>Recency</th>\n",
       "      <th>Frequency</th>\n",
       "      <th>Monetary</th>\n",
       "    </tr>\n",
       "  </thead>\n",
       "  <tbody>\n",
       "    <tr>\n",
       "      <th>0</th>\n",
       "      <td>12346</td>\n",
       "      <td>325</td>\n",
       "      <td>1</td>\n",
       "      <td>77183.60</td>\n",
       "    </tr>\n",
       "    <tr>\n",
       "      <th>1</th>\n",
       "      <td>12347</td>\n",
       "      <td>2</td>\n",
       "      <td>182</td>\n",
       "      <td>4310.00</td>\n",
       "    </tr>\n",
       "    <tr>\n",
       "      <th>2</th>\n",
       "      <td>12348</td>\n",
       "      <td>75</td>\n",
       "      <td>27</td>\n",
       "      <td>1437.24</td>\n",
       "    </tr>\n",
       "    <tr>\n",
       "      <th>3</th>\n",
       "      <td>12349</td>\n",
       "      <td>18</td>\n",
       "      <td>72</td>\n",
       "      <td>1457.55</td>\n",
       "    </tr>\n",
       "    <tr>\n",
       "      <th>4</th>\n",
       "      <td>12350</td>\n",
       "      <td>310</td>\n",
       "      <td>16</td>\n",
       "      <td>294.40</td>\n",
       "    </tr>\n",
       "  </tbody>\n",
       "</table>\n",
       "</div>"
      ],
      "text/plain": [
       "   CustomerID  Recency  Frequency  Monetary\n",
       "0       12346      325          1  77183.60\n",
       "1       12347        2        182   4310.00\n",
       "2       12348       75         27   1437.24\n",
       "3       12349       18         72   1457.55\n",
       "4       12350      310         16    294.40"
      ]
     },
     "execution_count": 69,
     "metadata": {},
     "output_type": "execute_result"
    }
   ],
   "source": [
    "# The last invoce is 2011 -12 -09 so we set 2011-12-10 is the last date to culculate the number of days from puchasing day\n",
    "Last_Date = dt.datetime(2011,12,10)\n",
    "RFMscore = df_cleaned.groupby('CustomerID').agg({'InvoiceDate': lambda x: (Last_Date - x.max()).days,'InvoiceNo': lambda x: len(x),'TotalAmount': lambda x: x.sum()})\n",
    "RFMscore['InvoiceDate'] = RFMscore['InvoiceDate'].astype(int)\n",
    "\n",
    "# Rename clumn name to Recency, Frequency and Monetary\n",
    "RFMscore.rename(columns = {'InvoiceDate':'Recency',\n",
    "                         'InvoiceNo':'Frequency',\n",
    "                         'TotalAmount':'Monetary'}, inplace= True)\n",
    "RFMscore.reset_index().head()"
   ]
  },
  {
   "cell_type": "code",
   "execution_count": 70,
   "id": "68d886ed",
   "metadata": {
    "hidden": true
   },
   "outputs": [
    {
     "data": {
      "text/plain": [
       "count    4335.000000\n",
       "mean       92.208535\n",
       "std       100.170816\n",
       "min         0.000000\n",
       "25%        17.000000\n",
       "50%        50.000000\n",
       "75%       142.000000\n",
       "max       373.000000\n",
       "Name: Recency, dtype: float64"
      ]
     },
     "execution_count": 70,
     "metadata": {},
     "output_type": "execute_result"
    }
   ],
   "source": [
    "RFMscore.Recency.describe()"
   ]
  },
  {
   "cell_type": "code",
   "execution_count": 71,
   "id": "c2901776",
   "metadata": {
    "hidden": true
   },
   "outputs": [],
   "source": [
    "import seaborn as sns"
   ]
  },
  {
   "cell_type": "code",
   "execution_count": 72,
   "id": "c421b980",
   "metadata": {
    "hidden": true,
    "scrolled": true
   },
   "outputs": [
    {
     "name": "stderr",
     "output_type": "stream",
     "text": [
      "C:\\Users\\asus\\anaconda3\\lib\\site-packages\\seaborn\\distributions.py:2619: FutureWarning: `distplot` is a deprecated function and will be removed in a future version. Please adapt your code to use either `displot` (a figure-level function with similar flexibility) or `histplot` (an axes-level function for histograms).\n",
      "  warnings.warn(msg, FutureWarning)\n"
     ]
    },
    {
     "data": {
      "image/png": "[encoded data removed]",
      "text/plain": [
       "<Figure size 432x288 with 1 Axes>"
      ]
     },
     "metadata": {
      "needs_background": "light"
     },
     "output_type": "display_data"
    }
   ],
   "source": [
    "x = RFMscore['Recency']\n",
    "ax = sns.distplot(x)"
   ]
  },
  {
   "cell_type": "code",
   "execution_count": 73,
   "id": "70fc761f",
   "metadata": {
    "hidden": true
   },
   "outputs": [
    {
     "data": {
      "text/plain": [
       "count    4335.000000\n",
       "mean       90.238293\n",
       "std       224.712166\n",
       "min         1.000000\n",
       "25%        17.000000\n",
       "50%        41.000000\n",
       "75%        98.000000\n",
       "max      7667.000000\n",
       "Name: Frequency, dtype: float64"
      ]
     },
     "execution_count": 73,
     "metadata": {},
     "output_type": "execute_result"
    }
   ],
   "source": [
    "RFMscore.Frequency.describe()"
   ]
  },
  {
   "cell_type": "code",
   "execution_count": 74,
   "id": "f6ff201c",
   "metadata": {
    "hidden": true
   },
   "outputs": [
    {
     "name": "stderr",
     "output_type": "stream",
     "text": [
      "C:\\Users\\asus\\anaconda3\\lib\\site-packages\\seaborn\\distributions.py:2619: FutureWarning: `distplot` is a deprecated function and will be removed in a future version. Please adapt your code to use either `displot` (a figure-level function with similar flexibility) or `histplot` (an axes-level function for histograms).\n",
      "  warnings.warn(msg, FutureWarning)\n"
     ]
    },
    {
     "data": {
      "image/png": "[encoded data removed]",
      "text/plain": [
       "<Figure size 432x288 with 1 Axes>"
      ]
     },
     "metadata": {
      "needs_background": "light"
     },
     "output_type": "display_data"
    }
   ],
   "source": [
    "x = RFMscore.query('Frequency< 1000')['Frequency']\n",
    "ax = sns.distplot(x)"
   ]
  },
  {
   "cell_type": "code",
   "execution_count": 75,
   "id": "ab505b39",
   "metadata": {
    "hidden": true
   },
   "outputs": [
    {
     "data": {
      "text/plain": [
       "count      4335.000000\n",
       "mean       2015.508106\n",
       "std        8902.699230\n",
       "min           0.000000\n",
       "25%         304.105000\n",
       "50%         661.520000\n",
       "75%        1631.475000\n",
       "max      279138.020000\n",
       "Name: Monetary, dtype: float64"
      ]
     },
     "execution_count": 75,
     "metadata": {},
     "output_type": "execute_result"
    }
   ],
   "source": [
    "RFMscore.Monetary.describe()"
   ]
  },
  {
   "cell_type": "code",
   "execution_count": 76,
   "id": "bcf221de",
   "metadata": {
    "hidden": true,
    "scrolled": true
   },
   "outputs": [
    {
     "name": "stderr",
     "output_type": "stream",
     "text": [
      "C:\\Users\\asus\\anaconda3\\lib\\site-packages\\seaborn\\distributions.py:2619: FutureWarning: `distplot` is a deprecated function and will be removed in a future version. Please adapt your code to use either `displot` (a figure-level function with similar flexibility) or `histplot` (an axes-level function for histograms).\n",
      "  warnings.warn(msg, FutureWarning)\n"
     ]
    },
    {
     "data": {
      "image/png": "[encoded data removed]",
      "text/plain": [
       "<Figure size 432x288 with 1 Axes>"
      ]
     },
     "metadata": {
      "needs_background": "light"
     },
     "output_type": "display_data"
    }
   ],
   "source": [
    "x = RFMscore.query('Monetary < 1000')['Monetary']\n",
    "ax = sns.distplot(x)"
   ]
  },
  {
   "cell_type": "markdown",
   "id": "3a3d4ed9",
   "metadata": {
    "hidden": true
   },
   "source": [
    "### 3.2 Quantilesand creat score for R, F an M"
   ]
  },
  {
   "cell_type": "code",
   "execution_count": 77,
   "id": "a3e25b2f",
   "metadata": {
    "hidden": true
   },
   "outputs": [],
   "source": [
    "quantiles = RFMscore.quantile(q=[0.25,0.5,0.75])\n",
    "quantiles = quantiles.to_dict()"
   ]
  },
  {
   "cell_type": "code",
   "execution_count": 78,
   "id": "4df262f6",
   "metadata": {
    "hidden": true,
    "scrolled": false
   },
   "outputs": [
    {
     "data": {
      "text/plain": [
       "{'Recency': {0.25: 17.0, 0.5: 50.0, 0.75: 142.0},\n",
       " 'Frequency': {0.25: 17.0, 0.5: 41.0, 0.75: 98.0},\n",
       " 'Monetary': {0.25: 304.10499999999996, 0.5: 661.52, 0.75: 1631.4750000000001}}"
      ]
     },
     "execution_count": 78,
     "metadata": {},
     "output_type": "execute_result"
    }
   ],
   "source": [
    "quantiles"
   ]
  },
  {
   "cell_type": "code",
   "execution_count": 79,
   "id": "b68b5084",
   "metadata": {
    "hidden": true
   },
   "outputs": [],
   "source": [
    "def Rscore(x,p,d):\n",
    " if x <= d[p][0.25]:\n",
    "  return 1\n",
    " elif x <= d[p][0.50]:\n",
    "  return 2\n",
    " elif x <= d[p][0.75]: \n",
    "  return 3\n",
    " else:\n",
    "  return 4\n",
    "    \n",
    "def FMscore(x,p,d):\n",
    " if x <= d[p][0.25]:\n",
    "  return 4\n",
    " elif x <= d[p][0.50]:\n",
    "  return 3\n",
    " elif x <= d[p][0.75]: \n",
    "  return 2\n",
    " else:\n",
    "  return 1"
   ]
  },
  {
   "cell_type": "code",
   "execution_count": 80,
   "id": "029efcf8",
   "metadata": {
    "hidden": true
   },
   "outputs": [
    {
     "data": {
      "text/html": [
       "<div>\n",
       "<style scoped>\n",
       "    .dataframe tbody tr th:only-of-type {\n",
       "        vertical-align: middle;\n",
       "    }\n",
       "\n",
       "    .dataframe tbody tr th {\n",
       "        vertical-align: top;\n",
       "    }\n",
       "\n",
       "    .dataframe thead th {\n",
       "        text-align: right;\n",
       "    }\n",
       "</style>\n",
       "<table border=\"1\" class=\"dataframe\">\n",
       "  <thead>\n",
       "    <tr style=\"text-align: right;\">\n",
       "      <th></th>\n",
       "      <th>Recency</th>\n",
       "      <th>Frequency</th>\n",
       "      <th>Monetary</th>\n",
       "      <th>R</th>\n",
       "      <th>F</th>\n",
       "      <th>M</th>\n",
       "    </tr>\n",
       "    <tr>\n",
       "      <th>CustomerID</th>\n",
       "      <th></th>\n",
       "      <th></th>\n",
       "      <th></th>\n",
       "      <th></th>\n",
       "      <th></th>\n",
       "      <th></th>\n",
       "    </tr>\n",
       "  </thead>\n",
       "  <tbody>\n",
       "    <tr>\n",
       "      <th>12346</th>\n",
       "      <td>325</td>\n",
       "      <td>1</td>\n",
       "      <td>77183.60</td>\n",
       "      <td>4</td>\n",
       "      <td>4</td>\n",
       "      <td>1</td>\n",
       "    </tr>\n",
       "    <tr>\n",
       "      <th>12347</th>\n",
       "      <td>2</td>\n",
       "      <td>182</td>\n",
       "      <td>4310.00</td>\n",
       "      <td>1</td>\n",
       "      <td>1</td>\n",
       "      <td>1</td>\n",
       "    </tr>\n",
       "    <tr>\n",
       "      <th>12348</th>\n",
       "      <td>75</td>\n",
       "      <td>27</td>\n",
       "      <td>1437.24</td>\n",
       "      <td>3</td>\n",
       "      <td>3</td>\n",
       "      <td>2</td>\n",
       "    </tr>\n",
       "    <tr>\n",
       "      <th>12349</th>\n",
       "      <td>18</td>\n",
       "      <td>72</td>\n",
       "      <td>1457.55</td>\n",
       "      <td>2</td>\n",
       "      <td>2</td>\n",
       "      <td>2</td>\n",
       "    </tr>\n",
       "    <tr>\n",
       "      <th>12350</th>\n",
       "      <td>310</td>\n",
       "      <td>16</td>\n",
       "      <td>294.40</td>\n",
       "      <td>4</td>\n",
       "      <td>4</td>\n",
       "      <td>4</td>\n",
       "    </tr>\n",
       "  </tbody>\n",
       "</table>\n",
       "</div>"
      ],
      "text/plain": [
       "            Recency  Frequency  Monetary  R  F  M\n",
       "CustomerID                                       \n",
       "12346           325          1  77183.60  4  4  1\n",
       "12347             2        182   4310.00  1  1  1\n",
       "12348            75         27   1437.24  3  3  2\n",
       "12349            18         72   1457.55  2  2  2\n",
       "12350           310         16    294.40  4  4  4"
      ]
     },
     "execution_count": 80,
     "metadata": {},
     "output_type": "execute_result"
    }
   ],
   "source": [
    "RFMscore['R'] = RFMscore['Recency'].apply(Rscore, args = ('Recency',quantiles,))\n",
    "RFMscore['F'] = RFMscore['Frequency'].apply(FMscore, args = ('Frequency',quantiles,))\n",
    "RFMscore['M'] = RFMscore['Monetary'].apply(FMscore, args = ('Monetary',quantiles,))\n",
    "RFMscore.head()"
   ]
  },
  {
   "cell_type": "markdown",
   "id": "82d5293d",
   "metadata": {
    "hidden": true
   },
   "source": [
    "### 3.3. We we group RFM to create RFM score"
   ]
  },
  {
   "cell_type": "code",
   "execution_count": 81,
   "id": "3197f07c",
   "metadata": {
    "hidden": true,
    "scrolled": true
   },
   "outputs": [
    {
     "data": {
      "text/html": [
       "<div>\n",
       "<style scoped>\n",
       "    .dataframe tbody tr th:only-of-type {\n",
       "        vertical-align: middle;\n",
       "    }\n",
       "\n",
       "    .dataframe tbody tr th {\n",
       "        vertical-align: top;\n",
       "    }\n",
       "\n",
       "    .dataframe thead th {\n",
       "        text-align: right;\n",
       "    }\n",
       "</style>\n",
       "<table border=\"1\" class=\"dataframe\">\n",
       "  <thead>\n",
       "    <tr style=\"text-align: right;\">\n",
       "      <th></th>\n",
       "      <th>Recency</th>\n",
       "      <th>Frequency</th>\n",
       "      <th>Monetary</th>\n",
       "      <th>R</th>\n",
       "      <th>F</th>\n",
       "      <th>M</th>\n",
       "      <th>RFMgroup</th>\n",
       "      <th>RFMScore</th>\n",
       "    </tr>\n",
       "    <tr>\n",
       "      <th>CustomerID</th>\n",
       "      <th></th>\n",
       "      <th></th>\n",
       "      <th></th>\n",
       "      <th></th>\n",
       "      <th></th>\n",
       "      <th></th>\n",
       "      <th></th>\n",
       "      <th></th>\n",
       "    </tr>\n",
       "  </thead>\n",
       "  <tbody>\n",
       "    <tr>\n",
       "      <th>12346</th>\n",
       "      <td>325</td>\n",
       "      <td>1</td>\n",
       "      <td>77183.60</td>\n",
       "      <td>4</td>\n",
       "      <td>4</td>\n",
       "      <td>1</td>\n",
       "      <td>441</td>\n",
       "      <td>9</td>\n",
       "    </tr>\n",
       "    <tr>\n",
       "      <th>12347</th>\n",
       "      <td>2</td>\n",
       "      <td>182</td>\n",
       "      <td>4310.00</td>\n",
       "      <td>1</td>\n",
       "      <td>1</td>\n",
       "      <td>1</td>\n",
       "      <td>111</td>\n",
       "      <td>3</td>\n",
       "    </tr>\n",
       "    <tr>\n",
       "      <th>12348</th>\n",
       "      <td>75</td>\n",
       "      <td>27</td>\n",
       "      <td>1437.24</td>\n",
       "      <td>3</td>\n",
       "      <td>3</td>\n",
       "      <td>2</td>\n",
       "      <td>332</td>\n",
       "      <td>8</td>\n",
       "    </tr>\n",
       "    <tr>\n",
       "      <th>12349</th>\n",
       "      <td>18</td>\n",
       "      <td>72</td>\n",
       "      <td>1457.55</td>\n",
       "      <td>2</td>\n",
       "      <td>2</td>\n",
       "      <td>2</td>\n",
       "      <td>222</td>\n",
       "      <td>6</td>\n",
       "    </tr>\n",
       "    <tr>\n",
       "      <th>12350</th>\n",
       "      <td>310</td>\n",
       "      <td>16</td>\n",
       "      <td>294.40</td>\n",
       "      <td>4</td>\n",
       "      <td>4</td>\n",
       "      <td>4</td>\n",
       "      <td>444</td>\n",
       "      <td>12</td>\n",
       "    </tr>\n",
       "  </tbody>\n",
       "</table>\n",
       "</div>"
      ],
      "text/plain": [
       "            Recency  Frequency  Monetary  R  F  M RFMgroup  RFMScore\n",
       "CustomerID                                                          \n",
       "12346           325          1  77183.60  4  4  1      441         9\n",
       "12347             2        182   4310.00  1  1  1      111         3\n",
       "12348            75         27   1437.24  3  3  2      332         8\n",
       "12349            18         72   1457.55  2  2  2      222         6\n",
       "12350           310         16    294.40  4  4  4      444        12"
      ]
     },
     "execution_count": 81,
     "metadata": {},
     "output_type": "execute_result"
    }
   ],
   "source": [
    "RFMscore['RFMgroup'] = RFMscore.R.map(str) + RFMscore.F.map(str) + RFMscore.M.map(str)\n",
    "RFMscore['RFMScore'] = RFMscore[['R','F','M']].sum(axis = 1)\n",
    "RFMscore.head()"
   ]
  },
  {
   "cell_type": "markdown",
   "id": "bf7f2230",
   "metadata": {
    "hidden": true
   },
   "source": [
    "### 3.4. Now we set the grade of customers"
   ]
  },
  {
   "cell_type": "code",
   "execution_count": 82,
   "id": "a1fcccf3",
   "metadata": {
    "hidden": true
   },
   "outputs": [
    {
     "data": {
      "text/html": [
       "<div>\n",
       "<style scoped>\n",
       "    .dataframe tbody tr th:only-of-type {\n",
       "        vertical-align: middle;\n",
       "    }\n",
       "\n",
       "    .dataframe tbody tr th {\n",
       "        vertical-align: top;\n",
       "    }\n",
       "\n",
       "    .dataframe thead th {\n",
       "        text-align: right;\n",
       "    }\n",
       "</style>\n",
       "<table border=\"1\" class=\"dataframe\">\n",
       "  <thead>\n",
       "    <tr style=\"text-align: right;\">\n",
       "      <th></th>\n",
       "      <th>CustomerID</th>\n",
       "      <th>Recency</th>\n",
       "      <th>Frequency</th>\n",
       "      <th>Monetary</th>\n",
       "      <th>R</th>\n",
       "      <th>F</th>\n",
       "      <th>M</th>\n",
       "      <th>RFMgroup</th>\n",
       "      <th>RFMScore</th>\n",
       "      <th>RFM_Grade</th>\n",
       "    </tr>\n",
       "  </thead>\n",
       "  <tbody>\n",
       "    <tr>\n",
       "      <th>0</th>\n",
       "      <td>12346</td>\n",
       "      <td>325</td>\n",
       "      <td>1</td>\n",
       "      <td>77183.60</td>\n",
       "      <td>4</td>\n",
       "      <td>4</td>\n",
       "      <td>1</td>\n",
       "      <td>441</td>\n",
       "      <td>9</td>\n",
       "      <td>C</td>\n",
       "    </tr>\n",
       "    <tr>\n",
       "      <th>1</th>\n",
       "      <td>12347</td>\n",
       "      <td>2</td>\n",
       "      <td>182</td>\n",
       "      <td>4310.00</td>\n",
       "      <td>1</td>\n",
       "      <td>1</td>\n",
       "      <td>1</td>\n",
       "      <td>111</td>\n",
       "      <td>3</td>\n",
       "      <td>A</td>\n",
       "    </tr>\n",
       "    <tr>\n",
       "      <th>2</th>\n",
       "      <td>12348</td>\n",
       "      <td>75</td>\n",
       "      <td>27</td>\n",
       "      <td>1437.24</td>\n",
       "      <td>3</td>\n",
       "      <td>3</td>\n",
       "      <td>2</td>\n",
       "      <td>332</td>\n",
       "      <td>8</td>\n",
       "      <td>B</td>\n",
       "    </tr>\n",
       "    <tr>\n",
       "      <th>3</th>\n",
       "      <td>12349</td>\n",
       "      <td>18</td>\n",
       "      <td>72</td>\n",
       "      <td>1457.55</td>\n",
       "      <td>2</td>\n",
       "      <td>2</td>\n",
       "      <td>2</td>\n",
       "      <td>222</td>\n",
       "      <td>6</td>\n",
       "      <td>B</td>\n",
       "    </tr>\n",
       "    <tr>\n",
       "      <th>4</th>\n",
       "      <td>12350</td>\n",
       "      <td>310</td>\n",
       "      <td>16</td>\n",
       "      <td>294.40</td>\n",
       "      <td>4</td>\n",
       "      <td>4</td>\n",
       "      <td>4</td>\n",
       "      <td>444</td>\n",
       "      <td>12</td>\n",
       "      <td>D</td>\n",
       "    </tr>\n",
       "  </tbody>\n",
       "</table>\n",
       "</div>"
      ],
      "text/plain": [
       "   CustomerID  Recency  Frequency  Monetary  R  F  M RFMgroup  RFMScore  \\\n",
       "0       12346      325          1  77183.60  4  4  1      441         9   \n",
       "1       12347        2        182   4310.00  1  1  1      111         3   \n",
       "2       12348       75         27   1437.24  3  3  2      332         8   \n",
       "3       12349       18         72   1457.55  2  2  2      222         6   \n",
       "4       12350      310         16    294.40  4  4  4      444        12   \n",
       "\n",
       "  RFM_Grade  \n",
       "0         C  \n",
       "1         A  \n",
       "2         B  \n",
       "3         B  \n",
       "4         D  "
      ]
     },
     "execution_count": 82,
     "metadata": {},
     "output_type": "execute_result"
    }
   ],
   "source": [
    "Grade_level = ['A','B','C','D']\n",
    "Score_cuts = pd.qcut(RFMscore.RFMScore, q = 4, labels = Grade_level)\n",
    "RFMscore['RFM_Grade'] = Score_cuts.values\n",
    "RFMscore.reset_index().head()"
   ]
  },
  {
   "cell_type": "code",
   "execution_count": 83,
   "id": "979bd7ba",
   "metadata": {
    "hidden": true,
    "scrolled": true
   },
   "outputs": [
    {
     "data": {
      "text/html": [
       "<div>\n",
       "<style scoped>\n",
       "    .dataframe tbody tr th:only-of-type {\n",
       "        vertical-align: middle;\n",
       "    }\n",
       "\n",
       "    .dataframe tbody tr th {\n",
       "        vertical-align: top;\n",
       "    }\n",
       "\n",
       "    .dataframe thead th {\n",
       "        text-align: right;\n",
       "    }\n",
       "</style>\n",
       "<table border=\"1\" class=\"dataframe\">\n",
       "  <thead>\n",
       "    <tr style=\"text-align: right;\">\n",
       "      <th></th>\n",
       "      <th>CustomerID</th>\n",
       "      <th>Recency</th>\n",
       "      <th>Frequency</th>\n",
       "      <th>Monetary</th>\n",
       "      <th>R</th>\n",
       "      <th>F</th>\n",
       "      <th>M</th>\n",
       "      <th>RFMgroup</th>\n",
       "      <th>RFMScore</th>\n",
       "      <th>RFM_Grade</th>\n",
       "    </tr>\n",
       "  </thead>\n",
       "  <tbody>\n",
       "    <tr>\n",
       "      <th>0</th>\n",
       "      <td>14646</td>\n",
       "      <td>1</td>\n",
       "      <td>2064</td>\n",
       "      <td>279138.02</td>\n",
       "      <td>1</td>\n",
       "      <td>1</td>\n",
       "      <td>1</td>\n",
       "      <td>111</td>\n",
       "      <td>3</td>\n",
       "      <td>A</td>\n",
       "    </tr>\n",
       "    <tr>\n",
       "      <th>1</th>\n",
       "      <td>18102</td>\n",
       "      <td>0</td>\n",
       "      <td>431</td>\n",
       "      <td>259657.30</td>\n",
       "      <td>1</td>\n",
       "      <td>1</td>\n",
       "      <td>1</td>\n",
       "      <td>111</td>\n",
       "      <td>3</td>\n",
       "      <td>A</td>\n",
       "    </tr>\n",
       "    <tr>\n",
       "      <th>2</th>\n",
       "      <td>17450</td>\n",
       "      <td>8</td>\n",
       "      <td>336</td>\n",
       "      <td>194390.79</td>\n",
       "      <td>1</td>\n",
       "      <td>1</td>\n",
       "      <td>1</td>\n",
       "      <td>111</td>\n",
       "      <td>3</td>\n",
       "      <td>A</td>\n",
       "    </tr>\n",
       "    <tr>\n",
       "      <th>3</th>\n",
       "      <td>14911</td>\n",
       "      <td>1</td>\n",
       "      <td>5586</td>\n",
       "      <td>136161.83</td>\n",
       "      <td>1</td>\n",
       "      <td>1</td>\n",
       "      <td>1</td>\n",
       "      <td>111</td>\n",
       "      <td>3</td>\n",
       "      <td>A</td>\n",
       "    </tr>\n",
       "    <tr>\n",
       "      <th>4</th>\n",
       "      <td>14156</td>\n",
       "      <td>9</td>\n",
       "      <td>1382</td>\n",
       "      <td>116560.08</td>\n",
       "      <td>1</td>\n",
       "      <td>1</td>\n",
       "      <td>1</td>\n",
       "      <td>111</td>\n",
       "      <td>3</td>\n",
       "      <td>A</td>\n",
       "    </tr>\n",
       "    <tr>\n",
       "      <th>5</th>\n",
       "      <td>17511</td>\n",
       "      <td>2</td>\n",
       "      <td>963</td>\n",
       "      <td>91062.38</td>\n",
       "      <td>1</td>\n",
       "      <td>1</td>\n",
       "      <td>1</td>\n",
       "      <td>111</td>\n",
       "      <td>3</td>\n",
       "      <td>A</td>\n",
       "    </tr>\n",
       "    <tr>\n",
       "      <th>6</th>\n",
       "      <td>16684</td>\n",
       "      <td>4</td>\n",
       "      <td>277</td>\n",
       "      <td>66653.56</td>\n",
       "      <td>1</td>\n",
       "      <td>1</td>\n",
       "      <td>1</td>\n",
       "      <td>111</td>\n",
       "      <td>3</td>\n",
       "      <td>A</td>\n",
       "    </tr>\n",
       "    <tr>\n",
       "      <th>7</th>\n",
       "      <td>13694</td>\n",
       "      <td>3</td>\n",
       "      <td>568</td>\n",
       "      <td>65039.62</td>\n",
       "      <td>1</td>\n",
       "      <td>1</td>\n",
       "      <td>1</td>\n",
       "      <td>111</td>\n",
       "      <td>3</td>\n",
       "      <td>A</td>\n",
       "    </tr>\n",
       "    <tr>\n",
       "      <th>8</th>\n",
       "      <td>15311</td>\n",
       "      <td>0</td>\n",
       "      <td>2366</td>\n",
       "      <td>60632.75</td>\n",
       "      <td>1</td>\n",
       "      <td>1</td>\n",
       "      <td>1</td>\n",
       "      <td>111</td>\n",
       "      <td>3</td>\n",
       "      <td>A</td>\n",
       "    </tr>\n",
       "    <tr>\n",
       "      <th>9</th>\n",
       "      <td>13089</td>\n",
       "      <td>2</td>\n",
       "      <td>1814</td>\n",
       "      <td>58762.08</td>\n",
       "      <td>1</td>\n",
       "      <td>1</td>\n",
       "      <td>1</td>\n",
       "      <td>111</td>\n",
       "      <td>3</td>\n",
       "      <td>A</td>\n",
       "    </tr>\n",
       "  </tbody>\n",
       "</table>\n",
       "</div>"
      ],
      "text/plain": [
       "   CustomerID  Recency  Frequency   Monetary  R  F  M RFMgroup  RFMScore  \\\n",
       "0       14646        1       2064  279138.02  1  1  1      111         3   \n",
       "1       18102        0        431  259657.30  1  1  1      111         3   \n",
       "2       17450        8        336  194390.79  1  1  1      111         3   \n",
       "3       14911        1       5586  136161.83  1  1  1      111         3   \n",
       "4       14156        9       1382  116560.08  1  1  1      111         3   \n",
       "5       17511        2        963   91062.38  1  1  1      111         3   \n",
       "6       16684        4        277   66653.56  1  1  1      111         3   \n",
       "7       13694        3        568   65039.62  1  1  1      111         3   \n",
       "8       15311        0       2366   60632.75  1  1  1      111         3   \n",
       "9       13089        2       1814   58762.08  1  1  1      111         3   \n",
       "\n",
       "  RFM_Grade  \n",
       "0         A  \n",
       "1         A  \n",
       "2         A  \n",
       "3         A  \n",
       "4         A  \n",
       "5         A  \n",
       "6         A  \n",
       "7         A  \n",
       "8         A  \n",
       "9         A  "
      ]
     },
     "execution_count": 83,
     "metadata": {},
     "output_type": "execute_result"
    }
   ],
   "source": [
    "# Sorting Grade of customers\n",
    "RFMscore[RFMscore['RFMgroup'] == '111'].sort_values('Monetary', ascending = False).reset_index().head(10)"
   ]
  },
  {
   "cell_type": "markdown",
   "id": "6bac1ac2",
   "metadata": {
    "hidden": true
   },
   "source": [
    "### The grade meaning\n",
    "### A = The Best customers\n",
    "### B = Loyal or Big spend\n",
    "### C = Spend more but less frequency\n",
    "### D = Almost Lost  or Lost\n",
    "### ............"
   ]
  },
  {
   "cell_type": "markdown",
   "id": "e3f37f7c",
   "metadata": {
    "heading_collapsed": true
   },
   "source": [
    "# 4. K-Mean Cluster Model"
   ]
  },
  {
   "cell_type": "markdown",
   "id": "80a66ab1",
   "metadata": {
    "heading_collapsed": true,
    "hidden": true
   },
   "source": [
    "## 4.1 Transform data"
   ]
  },
  {
   "cell_type": "code",
   "execution_count": 84,
   "id": "69afe8cd",
   "metadata": {
    "hidden": true
   },
   "outputs": [],
   "source": [
    "def handle_neg_n_zero(num):\n",
    "    if num<= 0:\n",
    "        return 1\n",
    "    else:\n",
    "        return num\n",
    "    # apply\n",
    "RFMscore['Recency'] = [handle_neg_n_zero(x) for x in RFMscore.Recency]\n",
    "RFMscore['Monetary'] = [handle_neg_n_zero(x) for x in RFMscore.Monetary]\n",
    "# perform log tranform\n",
    "Log_Tfd_Data = RFMscore[['Recency','Frequency','Monetary']].apply(np.log, axis=1).round(3)"
   ]
  },
  {
   "cell_type": "code",
   "execution_count": 85,
   "id": "543d7022",
   "metadata": {
    "hidden": true
   },
   "outputs": [
    {
     "name": "stderr",
     "output_type": "stream",
     "text": [
      "C:\\Users\\asus\\anaconda3\\lib\\site-packages\\seaborn\\distributions.py:2619: FutureWarning: `distplot` is a deprecated function and will be removed in a future version. Please adapt your code to use either `displot` (a figure-level function with similar flexibility) or `histplot` (an axes-level function for histograms).\n",
      "  warnings.warn(msg, FutureWarning)\n"
     ]
    },
    {
     "data": {
      "image/png": "[encoded data removed]",
      "text/plain": [
       "<Figure size 432x288 with 1 Axes>"
      ]
     },
     "metadata": {
      "needs_background": "light"
     },
     "output_type": "display_data"
    }
   ],
   "source": [
    "# Data Distribution for Recency\n",
    "Recency_Plot = Log_Tfd_Data['Recency']\n",
    "ax = sns.distplot(Recency_Plot)"
   ]
  },
  {
   "cell_type": "code",
   "execution_count": 86,
   "id": "1b071213",
   "metadata": {
    "hidden": true,
    "scrolled": true
   },
   "outputs": [
    {
     "name": "stderr",
     "output_type": "stream",
     "text": [
      "C:\\Users\\asus\\anaconda3\\lib\\site-packages\\seaborn\\distributions.py:2619: FutureWarning: `distplot` is a deprecated function and will be removed in a future version. Please adapt your code to use either `displot` (a figure-level function with similar flexibility) or `histplot` (an axes-level function for histograms).\n",
      "  warnings.warn(msg, FutureWarning)\n"
     ]
    },
    {
     "data": {
      "image/png": "[encoded data removed]",
      "text/plain": [
       "<Figure size 432x288 with 1 Axes>"
      ]
     },
     "metadata": {
      "needs_background": "light"
     },
     "output_type": "display_data"
    }
   ],
   "source": [
    "# distribution forFrequency\n",
    "Frequency_Plot = Log_Tfd_Data.query('Frequency<10000')['Frequency']\n",
    "ax = sns.distplot(Frequency_Plot)"
   ]
  },
  {
   "cell_type": "code",
   "execution_count": 87,
   "id": "fb3266a8",
   "metadata": {
    "hidden": true
   },
   "outputs": [
    {
     "name": "stderr",
     "output_type": "stream",
     "text": [
      "C:\\Users\\asus\\anaconda3\\lib\\site-packages\\seaborn\\distributions.py:2619: FutureWarning: `distplot` is a deprecated function and will be removed in a future version. Please adapt your code to use either `displot` (a figure-level function with similar flexibility) or `histplot` (an axes-level function for histograms).\n",
      "  warnings.warn(msg, FutureWarning)\n"
     ]
    },
    {
     "data": {
      "image/png": "[encoded data removed]",
      "text/plain": [
       "<Figure size 432x288 with 1 Axes>"
      ]
     },
     "metadata": {
      "needs_background": "light"
     },
     "output_type": "display_data"
    }
   ],
   "source": [
    "Monetary_Plot = Log_Tfd_Data.query('Monetary<10000')['Monetary']\n",
    "ax = sns.distplot(Monetary_Plot)"
   ]
  },
  {
   "cell_type": "markdown",
   "id": "1fdf09a2",
   "metadata": {
    "heading_collapsed": true,
    "hidden": true
   },
   "source": [
    "## 4.2 We Scaling data"
   ]
  },
  {
   "cell_type": "code",
   "execution_count": 88,
   "id": "d7f848b8",
   "metadata": {
    "hidden": true
   },
   "outputs": [],
   "source": [
    "from sklearn.preprocessing import StandardScaler"
   ]
  },
  {
   "cell_type": "code",
   "execution_count": 89,
   "id": "9015a122",
   "metadata": {
    "hidden": true
   },
   "outputs": [],
   "source": [
    "scaleobj = StandardScaler()\n",
    "Scaled_Data = scaleobj.fit_transform(Log_Tfd_Data)\n",
    "Scaled_Data = pd.DataFrame(Scaled_Data, index = RFMscore.index, columns = Log_Tfd_Data.columns)"
   ]
  },
  {
   "cell_type": "code",
   "execution_count": 90,
   "id": "e1318858",
   "metadata": {
    "hidden": true,
    "scrolled": true
   },
   "outputs": [
    {
     "name": "stderr",
     "output_type": "stream",
     "text": [
      "C:\\Users\\asus\\anaconda3\\lib\\site-packages\\seaborn\\distributions.py:2619: FutureWarning: `distplot` is a deprecated function and will be removed in a future version. Please adapt your code to use either `displot` (a figure-level function with similar flexibility) or `histplot` (an axes-level function for histograms).\n",
      "  warnings.warn(msg, FutureWarning)\n"
     ]
    },
    {
     "data": {
      "image/png": "[encoded data removed]",
      "text/plain": [
       "<Figure size 432x288 with 1 Axes>"
      ]
     },
     "metadata": {
      "needs_background": "light"
     },
     "output_type": "display_data"
    }
   ],
   "source": [
    "Monetary_Plot = Scaled_Data.query('Monetary<10000')['Monetary']\n",
    "ax = sns.distplot(Monetary_Plot)"
   ]
  },
  {
   "cell_type": "markdown",
   "id": "c294bb6c",
   "metadata": {
    "hidden": true
   },
   "source": [
    "## 4.3 Use Elbow to optimize clusters"
   ]
  },
  {
   "cell_type": "code",
   "execution_count": 91,
   "id": "ae87927d",
   "metadata": {
    "hidden": true
   },
   "outputs": [],
   "source": [
    "from sklearn.cluster import KMeans"
   ]
  },
  {
   "cell_type": "code",
   "execution_count": 92,
   "id": "fe89e194",
   "metadata": {
    "hidden": true
   },
   "outputs": [],
   "source": [
    "sum_of_sq_dist = {}\n",
    "for k in range(1,15):\n",
    "    km = KMeans(n_clusters =k ,init= 'k-means++', max_iter =1000)\n",
    "    km = km.fit(Scaled_Data)\n",
    "    sum_of_sq_dist[k] = km.inertia_"
   ]
  },
  {
   "cell_type": "code",
   "execution_count": 93,
   "id": "3805a052",
   "metadata": {
    "hidden": true,
    "scrolled": true
   },
   "outputs": [
    {
     "data": {
      "image/png": "[encoded data removed]",
      "text/plain": [
       "<Figure size 432x288 with 1 Axes>"
      ]
     },
     "metadata": {
      "needs_background": "light"
     },
     "output_type": "display_data"
    }
   ],
   "source": [
    "#plot the graph\n",
    "sns.pointplot(x = list(sum_of_sq_dist.keys()), y = list(sum_of_sq_dist.values()))\n",
    "plt.xlabel('Number Clusters(k)')\n",
    "plt.ylabel('Sum of Square Distances')\n",
    "plt.title('Elbow Method for Optimal k')\n",
    "plt.show()"
   ]
  },
  {
   "cell_type": "markdown",
   "id": "2447e436",
   "metadata": {
    "hidden": true
   },
   "source": [
    "### So we choose 3 Clusters"
   ]
  },
  {
   "cell_type": "markdown",
   "id": "7cf3107e",
   "metadata": {
    "hidden": true
   },
   "source": [
    "## 4.4. Clusters to segment customers"
   ]
  },
  {
   "cell_type": "code",
   "execution_count": 94,
   "id": "f42726ba",
   "metadata": {
    "hidden": true
   },
   "outputs": [],
   "source": [
    "from kneed import KneeLocator"
   ]
  },
  {
   "cell_type": "code",
   "execution_count": 95,
   "id": "a80b2068",
   "metadata": {
    "hidden": true
   },
   "outputs": [
    {
     "data": {
      "text/html": [
       "<div>\n",
       "<style scoped>\n",
       "    .dataframe tbody tr th:only-of-type {\n",
       "        vertical-align: middle;\n",
       "    }\n",
       "\n",
       "    .dataframe tbody tr th {\n",
       "        vertical-align: top;\n",
       "    }\n",
       "\n",
       "    .dataframe thead th {\n",
       "        text-align: right;\n",
       "    }\n",
       "</style>\n",
       "<table border=\"1\" class=\"dataframe\">\n",
       "  <thead>\n",
       "    <tr style=\"text-align: right;\">\n",
       "      <th></th>\n",
       "      <th>Recency</th>\n",
       "      <th>Frequency</th>\n",
       "      <th>Monetary</th>\n",
       "      <th>R</th>\n",
       "      <th>F</th>\n",
       "      <th>M</th>\n",
       "      <th>RFMgroup</th>\n",
       "      <th>RFMScore</th>\n",
       "      <th>RFM_Grade</th>\n",
       "      <th>Clusters</th>\n",
       "    </tr>\n",
       "    <tr>\n",
       "      <th>CustomerID</th>\n",
       "      <th></th>\n",
       "      <th></th>\n",
       "      <th></th>\n",
       "      <th></th>\n",
       "      <th></th>\n",
       "      <th></th>\n",
       "      <th></th>\n",
       "      <th></th>\n",
       "      <th></th>\n",
       "      <th></th>\n",
       "    </tr>\n",
       "  </thead>\n",
       "  <tbody>\n",
       "    <tr>\n",
       "      <th>12346</th>\n",
       "      <td>325</td>\n",
       "      <td>1</td>\n",
       "      <td>77183.60</td>\n",
       "      <td>4</td>\n",
       "      <td>4</td>\n",
       "      <td>1</td>\n",
       "      <td>441</td>\n",
       "      <td>9</td>\n",
       "      <td>C</td>\n",
       "      <td>1</td>\n",
       "    </tr>\n",
       "    <tr>\n",
       "      <th>12347</th>\n",
       "      <td>2</td>\n",
       "      <td>182</td>\n",
       "      <td>4310.00</td>\n",
       "      <td>1</td>\n",
       "      <td>1</td>\n",
       "      <td>1</td>\n",
       "      <td>111</td>\n",
       "      <td>3</td>\n",
       "      <td>A</td>\n",
       "      <td>2</td>\n",
       "    </tr>\n",
       "    <tr>\n",
       "      <th>12348</th>\n",
       "      <td>75</td>\n",
       "      <td>27</td>\n",
       "      <td>1437.24</td>\n",
       "      <td>3</td>\n",
       "      <td>3</td>\n",
       "      <td>2</td>\n",
       "      <td>332</td>\n",
       "      <td>8</td>\n",
       "      <td>B</td>\n",
       "      <td>1</td>\n",
       "    </tr>\n",
       "    <tr>\n",
       "      <th>12349</th>\n",
       "      <td>18</td>\n",
       "      <td>72</td>\n",
       "      <td>1457.55</td>\n",
       "      <td>2</td>\n",
       "      <td>2</td>\n",
       "      <td>2</td>\n",
       "      <td>222</td>\n",
       "      <td>6</td>\n",
       "      <td>B</td>\n",
       "      <td>1</td>\n",
       "    </tr>\n",
       "    <tr>\n",
       "      <th>12350</th>\n",
       "      <td>310</td>\n",
       "      <td>16</td>\n",
       "      <td>294.40</td>\n",
       "      <td>4</td>\n",
       "      <td>4</td>\n",
       "      <td>4</td>\n",
       "      <td>444</td>\n",
       "      <td>12</td>\n",
       "      <td>D</td>\n",
       "      <td>0</td>\n",
       "    </tr>\n",
       "  </tbody>\n",
       "</table>\n",
       "</div>"
      ],
      "text/plain": [
       "            Recency  Frequency  Monetary  R  F  M RFMgroup  RFMScore  \\\n",
       "CustomerID                                                             \n",
       "12346           325          1  77183.60  4  4  1      441         9   \n",
       "12347             2        182   4310.00  1  1  1      111         3   \n",
       "12348            75         27   1437.24  3  3  2      332         8   \n",
       "12349            18         72   1457.55  2  2  2      222         6   \n",
       "12350           310         16    294.40  4  4  4      444        12   \n",
       "\n",
       "           RFM_Grade  Clusters  \n",
       "CustomerID                      \n",
       "12346              C         1  \n",
       "12347              A         2  \n",
       "12348              B         1  \n",
       "12349              B         1  \n",
       "12350              D         0  "
      ]
     },
     "execution_count": 95,
     "metadata": {},
     "output_type": "execute_result"
    }
   ],
   "source": [
    "KMeans_cluster = KMeans(n_clusters = 3, init= 'k-means++', max_iter=1000)\n",
    "KMeans_cluster.fit(Scaled_Data)\n",
    "\n",
    "RFMscore['Clusters'] = KMeans_cluster.labels_\n",
    "RFMscore.head()"
   ]
  },
  {
   "cell_type": "code",
   "execution_count": 107,
   "id": "a48da8de",
   "metadata": {
    "hidden": true,
    "scrolled": true
   },
   "outputs": [
    {
     "data": {
      "text/plain": [
       "<Figure size 504x504 with 0 Axes>"
      ]
     },
     "metadata": {},
     "output_type": "display_data"
    },
    {
     "data": {
      "image/png": "[encoded data removed]",
      "text/plain": [
       "<Figure size 720x576 with 1 Axes>"
      ]
     },
     "metadata": {},
     "output_type": "display_data"
    }
   ],
   "source": [
    "from matplotlib import pyplot as plt\n",
    "plt.figure(figsize=(7,7))\n",
    "\n",
    "Colors = ['red','green','blue']\n",
    "RFMscore['Color']= RFMscore['Clusters'].map(lambda p: Colors[p])\n",
    "ax = RFMscore.plot(\n",
    "    kind = 'scatter',\n",
    "    x = 'Recency', y= 'Frequency',\n",
    "    figsize = (10,8),\n",
    "    c = RFMscore['Color']\n",
    ")"
   ]
  },
  {
   "cell_type": "code",
   "execution_count": 108,
   "id": "f90b711a",
   "metadata": {
    "hidden": true
   },
   "outputs": [
    {
     "data": {
      "text/html": [
       "<div>\n",
       "<style scoped>\n",
       "    .dataframe tbody tr th:only-of-type {\n",
       "        vertical-align: middle;\n",
       "    }\n",
       "\n",
       "    .dataframe tbody tr th {\n",
       "        vertical-align: top;\n",
       "    }\n",
       "\n",
       "    .dataframe thead th {\n",
       "        text-align: right;\n",
       "    }\n",
       "</style>\n",
       "<table border=\"1\" class=\"dataframe\">\n",
       "  <thead>\n",
       "    <tr style=\"text-align: right;\">\n",
       "      <th></th>\n",
       "      <th>Recency</th>\n",
       "      <th>Frequency</th>\n",
       "      <th>Monetary</th>\n",
       "      <th>R</th>\n",
       "      <th>F</th>\n",
       "      <th>M</th>\n",
       "      <th>RFMgroup</th>\n",
       "      <th>RFMScore</th>\n",
       "      <th>RFM_Grade</th>\n",
       "      <th>Clusters</th>\n",
       "      <th>Color</th>\n",
       "    </tr>\n",
       "    <tr>\n",
       "      <th>CustomerID</th>\n",
       "      <th></th>\n",
       "      <th></th>\n",
       "      <th></th>\n",
       "      <th></th>\n",
       "      <th></th>\n",
       "      <th></th>\n",
       "      <th></th>\n",
       "      <th></th>\n",
       "      <th></th>\n",
       "      <th></th>\n",
       "      <th></th>\n",
       "    </tr>\n",
       "  </thead>\n",
       "  <tbody>\n",
       "    <tr>\n",
       "      <th>12346</th>\n",
       "      <td>325</td>\n",
       "      <td>1</td>\n",
       "      <td>77183.60</td>\n",
       "      <td>4</td>\n",
       "      <td>4</td>\n",
       "      <td>1</td>\n",
       "      <td>441</td>\n",
       "      <td>9</td>\n",
       "      <td>C</td>\n",
       "      <td>1</td>\n",
       "      <td>green</td>\n",
       "    </tr>\n",
       "    <tr>\n",
       "      <th>12347</th>\n",
       "      <td>2</td>\n",
       "      <td>182</td>\n",
       "      <td>4310.00</td>\n",
       "      <td>1</td>\n",
       "      <td>1</td>\n",
       "      <td>1</td>\n",
       "      <td>111</td>\n",
       "      <td>3</td>\n",
       "      <td>A</td>\n",
       "      <td>2</td>\n",
       "      <td>blue</td>\n",
       "    </tr>\n",
       "    <tr>\n",
       "      <th>12348</th>\n",
       "      <td>75</td>\n",
       "      <td>27</td>\n",
       "      <td>1437.24</td>\n",
       "      <td>3</td>\n",
       "      <td>3</td>\n",
       "      <td>2</td>\n",
       "      <td>332</td>\n",
       "      <td>8</td>\n",
       "      <td>B</td>\n",
       "      <td>1</td>\n",
       "      <td>green</td>\n",
       "    </tr>\n",
       "    <tr>\n",
       "      <th>12349</th>\n",
       "      <td>18</td>\n",
       "      <td>72</td>\n",
       "      <td>1457.55</td>\n",
       "      <td>2</td>\n",
       "      <td>2</td>\n",
       "      <td>2</td>\n",
       "      <td>222</td>\n",
       "      <td>6</td>\n",
       "      <td>B</td>\n",
       "      <td>1</td>\n",
       "      <td>green</td>\n",
       "    </tr>\n",
       "    <tr>\n",
       "      <th>12350</th>\n",
       "      <td>310</td>\n",
       "      <td>16</td>\n",
       "      <td>294.40</td>\n",
       "      <td>4</td>\n",
       "      <td>4</td>\n",
       "      <td>4</td>\n",
       "      <td>444</td>\n",
       "      <td>12</td>\n",
       "      <td>D</td>\n",
       "      <td>0</td>\n",
       "      <td>red</td>\n",
       "    </tr>\n",
       "  </tbody>\n",
       "</table>\n",
       "</div>"
      ],
      "text/plain": [
       "            Recency  Frequency  Monetary  R  F  M RFMgroup  RFMScore  \\\n",
       "CustomerID                                                             \n",
       "12346           325          1  77183.60  4  4  1      441         9   \n",
       "12347             2        182   4310.00  1  1  1      111         3   \n",
       "12348            75         27   1437.24  3  3  2      332         8   \n",
       "12349            18         72   1457.55  2  2  2      222         6   \n",
       "12350           310         16    294.40  4  4  4      444        12   \n",
       "\n",
       "           RFM_Grade  Clusters  Color  \n",
       "CustomerID                             \n",
       "12346              C         1  green  \n",
       "12347              A         2   blue  \n",
       "12348              B         1  green  \n",
       "12349              B         1  green  \n",
       "12350              D         0    red  "
      ]
     },
     "execution_count": 108,
     "metadata": {},
     "output_type": "execute_result"
    }
   ],
   "source": [
    "RFMscore.head()"
   ]
  },
  {
   "cell_type": "code",
   "execution_count": 109,
   "id": "780587a0",
   "metadata": {
    "hidden": true
   },
   "outputs": [
    {
     "data": {
      "image/png": "[encoded data removed]",
      "text/plain": [
       "<Figure size 648x432 with 3 Axes>"
      ]
     },
     "metadata": {},
     "output_type": "display_data"
    }
   ],
   "source": [
    "sns.set(rc={'figure.figsize':(20,20)}) \n",
    "sns.set_context('talk', font_scale=0.5) \n",
    "sns.set_style('ticks')\n",
    "g = sns.relplot(x='Recency', y='Frequency',hue='Color', data=RFMscore,palette=['green','blue','red'],\n",
    "                col='Color', col_wrap=3, legend=False,\n",
    "                height =6, aspect=0.5, style='Color',sizes=(80,100))\n",
    "\n",
    "g.fig.suptitle('Customer Segmentation' ,position=(0.5,1.05), fontweight='bold', size=11)\n",
    "g.set_xlabels(\"Recency\",fontweight='bold', size=12)\n",
    "g.set_ylabels(\"Frequency\",fontweight='bold', size=15);"
   ]
  },
  {
   "cell_type": "code",
   "execution_count": 99,
   "id": "21762e8e",
   "metadata": {
    "hidden": true,
    "scrolled": true
   },
   "outputs": [
    {
     "data": {
      "image/png": "[encoded data removed]",
      "text/plain": [
       "<Figure size 1440x1440 with 1 Axes>"
      ]
     },
     "metadata": {},
     "output_type": "display_data"
    }
   ],
   "source": [
    "fig = plt.figure()\n",
    "ax = fig.add_subplot(111, projection = '3d')\n",
    "\n",
    "x = RFMscore['Recency']\n",
    "y = RFMscore['Frequency']\n",
    "z = RFMscore['Monetary']\n",
    "c= RFMscore['Clusters']\n",
    "\n",
    "ax.set_xlabel(\"Recency\")\n",
    "ax.set_ylabel(\"Frequency\")\n",
    "ax.set_zlabel(\"Monetary\")\n",
    "\n",
    "ax.scatter(x, y, z,c=c, cmap='Paired',marker='o')\n",
    "plt.show()"
   ]
  },
  {
   "cell_type": "code",
   "execution_count": 116,
   "id": "acf516b5",
   "metadata": {
    "hidden": true
   },
   "outputs": [
    {
     "data": {
      "text/html": [
       "<div>\n",
       "<style scoped>\n",
       "    .dataframe tbody tr th:only-of-type {\n",
       "        vertical-align: middle;\n",
       "    }\n",
       "\n",
       "    .dataframe tbody tr th {\n",
       "        vertical-align: top;\n",
       "    }\n",
       "\n",
       "    .dataframe thead th {\n",
       "        text-align: right;\n",
       "    }\n",
       "</style>\n",
       "<table border=\"1\" class=\"dataframe\">\n",
       "  <thead>\n",
       "    <tr style=\"text-align: right;\">\n",
       "      <th></th>\n",
       "      <th>Recency</th>\n",
       "      <th>Frequency</th>\n",
       "      <th>Monetary</th>\n",
       "      <th>R</th>\n",
       "      <th>F</th>\n",
       "      <th>M</th>\n",
       "      <th>RFMgroup</th>\n",
       "      <th>RFMScore</th>\n",
       "      <th>RFM_Grade</th>\n",
       "      <th>Clusters</th>\n",
       "      <th>Color</th>\n",
       "    </tr>\n",
       "    <tr>\n",
       "      <th>CustomerID</th>\n",
       "      <th></th>\n",
       "      <th></th>\n",
       "      <th></th>\n",
       "      <th></th>\n",
       "      <th></th>\n",
       "      <th></th>\n",
       "      <th></th>\n",
       "      <th></th>\n",
       "      <th></th>\n",
       "      <th></th>\n",
       "      <th></th>\n",
       "    </tr>\n",
       "  </thead>\n",
       "  <tbody>\n",
       "    <tr>\n",
       "      <th>12346</th>\n",
       "      <td>325</td>\n",
       "      <td>1</td>\n",
       "      <td>77183.60</td>\n",
       "      <td>4</td>\n",
       "      <td>4</td>\n",
       "      <td>1</td>\n",
       "      <td>441</td>\n",
       "      <td>9</td>\n",
       "      <td>C</td>\n",
       "      <td>1</td>\n",
       "      <td>green</td>\n",
       "    </tr>\n",
       "    <tr>\n",
       "      <th>12347</th>\n",
       "      <td>2</td>\n",
       "      <td>182</td>\n",
       "      <td>4310.00</td>\n",
       "      <td>1</td>\n",
       "      <td>1</td>\n",
       "      <td>1</td>\n",
       "      <td>111</td>\n",
       "      <td>3</td>\n",
       "      <td>A</td>\n",
       "      <td>2</td>\n",
       "      <td>blue</td>\n",
       "    </tr>\n",
       "    <tr>\n",
       "      <th>12348</th>\n",
       "      <td>75</td>\n",
       "      <td>27</td>\n",
       "      <td>1437.24</td>\n",
       "      <td>3</td>\n",
       "      <td>3</td>\n",
       "      <td>2</td>\n",
       "      <td>332</td>\n",
       "      <td>8</td>\n",
       "      <td>B</td>\n",
       "      <td>1</td>\n",
       "      <td>green</td>\n",
       "    </tr>\n",
       "    <tr>\n",
       "      <th>12349</th>\n",
       "      <td>18</td>\n",
       "      <td>72</td>\n",
       "      <td>1457.55</td>\n",
       "      <td>2</td>\n",
       "      <td>2</td>\n",
       "      <td>2</td>\n",
       "      <td>222</td>\n",
       "      <td>6</td>\n",
       "      <td>B</td>\n",
       "      <td>1</td>\n",
       "      <td>green</td>\n",
       "    </tr>\n",
       "    <tr>\n",
       "      <th>12350</th>\n",
       "      <td>310</td>\n",
       "      <td>16</td>\n",
       "      <td>294.40</td>\n",
       "      <td>4</td>\n",
       "      <td>4</td>\n",
       "      <td>4</td>\n",
       "      <td>444</td>\n",
       "      <td>12</td>\n",
       "      <td>D</td>\n",
       "      <td>0</td>\n",
       "      <td>red</td>\n",
       "    </tr>\n",
       "    <tr>\n",
       "      <th>...</th>\n",
       "      <td>...</td>\n",
       "      <td>...</td>\n",
       "      <td>...</td>\n",
       "      <td>...</td>\n",
       "      <td>...</td>\n",
       "      <td>...</td>\n",
       "      <td>...</td>\n",
       "      <td>...</td>\n",
       "      <td>...</td>\n",
       "      <td>...</td>\n",
       "      <td>...</td>\n",
       "    </tr>\n",
       "    <tr>\n",
       "      <th>18280</th>\n",
       "      <td>277</td>\n",
       "      <td>10</td>\n",
       "      <td>180.60</td>\n",
       "      <td>4</td>\n",
       "      <td>4</td>\n",
       "      <td>4</td>\n",
       "      <td>444</td>\n",
       "      <td>12</td>\n",
       "      <td>D</td>\n",
       "      <td>0</td>\n",
       "      <td>red</td>\n",
       "    </tr>\n",
       "    <tr>\n",
       "      <th>18281</th>\n",
       "      <td>180</td>\n",
       "      <td>7</td>\n",
       "      <td>80.82</td>\n",
       "      <td>4</td>\n",
       "      <td>4</td>\n",
       "      <td>4</td>\n",
       "      <td>444</td>\n",
       "      <td>12</td>\n",
       "      <td>D</td>\n",
       "      <td>0</td>\n",
       "      <td>red</td>\n",
       "    </tr>\n",
       "    <tr>\n",
       "      <th>18282</th>\n",
       "      <td>7</td>\n",
       "      <td>12</td>\n",
       "      <td>178.05</td>\n",
       "      <td>1</td>\n",
       "      <td>4</td>\n",
       "      <td>4</td>\n",
       "      <td>144</td>\n",
       "      <td>9</td>\n",
       "      <td>C</td>\n",
       "      <td>0</td>\n",
       "      <td>red</td>\n",
       "    </tr>\n",
       "    <tr>\n",
       "      <th>18283</th>\n",
       "      <td>3</td>\n",
       "      <td>719</td>\n",
       "      <td>2039.58</td>\n",
       "      <td>1</td>\n",
       "      <td>1</td>\n",
       "      <td>1</td>\n",
       "      <td>111</td>\n",
       "      <td>3</td>\n",
       "      <td>A</td>\n",
       "      <td>2</td>\n",
       "      <td>blue</td>\n",
       "    </tr>\n",
       "    <tr>\n",
       "      <th>18287</th>\n",
       "      <td>42</td>\n",
       "      <td>70</td>\n",
       "      <td>1837.28</td>\n",
       "      <td>2</td>\n",
       "      <td>2</td>\n",
       "      <td>1</td>\n",
       "      <td>221</td>\n",
       "      <td>5</td>\n",
       "      <td>A</td>\n",
       "      <td>1</td>\n",
       "      <td>green</td>\n",
       "    </tr>\n",
       "  </tbody>\n",
       "</table>\n",
       "<p>4335 rows × 11 columns</p>\n",
       "</div>"
      ],
      "text/plain": [
       "            Recency  Frequency  Monetary  R  F  M RFMgroup  RFMScore  \\\n",
       "CustomerID                                                             \n",
       "12346           325          1  77183.60  4  4  1      441         9   \n",
       "12347             2        182   4310.00  1  1  1      111         3   \n",
       "12348            75         27   1437.24  3  3  2      332         8   \n",
       "12349            18         72   1457.55  2  2  2      222         6   \n",
       "12350           310         16    294.40  4  4  4      444        12   \n",
       "...             ...        ...       ... .. .. ..      ...       ...   \n",
       "18280           277         10    180.60  4  4  4      444        12   \n",
       "18281           180          7     80.82  4  4  4      444        12   \n",
       "18282             7         12    178.05  1  4  4      144         9   \n",
       "18283             3        719   2039.58  1  1  1      111         3   \n",
       "18287            42         70   1837.28  2  2  1      221         5   \n",
       "\n",
       "           RFM_Grade  Clusters  Color  \n",
       "CustomerID                             \n",
       "12346              C         1  green  \n",
       "12347              A         2   blue  \n",
       "12348              B         1  green  \n",
       "12349              B         1  green  \n",
       "12350              D         0    red  \n",
       "...              ...       ...    ...  \n",
       "18280              D         0    red  \n",
       "18281              D         0    red  \n",
       "18282              C         0    red  \n",
       "18283              A         2   blue  \n",
       "18287              A         1  green  \n",
       "\n",
       "[4335 rows x 11 columns]"
      ]
     },
     "execution_count": 116,
     "metadata": {},
     "output_type": "execute_result"
    }
   ],
   "source": [
    "RFMscore"
   ]
  },
  {
   "cell_type": "code",
   "execution_count": 124,
   "id": "e730acf1",
   "metadata": {
    "hidden": true
   },
   "outputs": [
    {
     "data": {
      "text/html": [
       "<div>\n",
       "<style scoped>\n",
       "    .dataframe tbody tr th:only-of-type {\n",
       "        vertical-align: middle;\n",
       "    }\n",
       "\n",
       "    .dataframe tbody tr th {\n",
       "        vertical-align: top;\n",
       "    }\n",
       "\n",
       "    .dataframe thead th {\n",
       "        text-align: right;\n",
       "    }\n",
       "</style>\n",
       "<table border=\"1\" class=\"dataframe\">\n",
       "  <thead>\n",
       "    <tr style=\"text-align: right;\">\n",
       "      <th></th>\n",
       "      <th>Recency</th>\n",
       "      <th>Frequency</th>\n",
       "      <th>Monetary</th>\n",
       "      <th>R</th>\n",
       "      <th>F</th>\n",
       "      <th>M</th>\n",
       "      <th>RFMgroup</th>\n",
       "      <th>RFMScore</th>\n",
       "      <th>RFM_Grade</th>\n",
       "      <th>Clusters</th>\n",
       "    </tr>\n",
       "    <tr>\n",
       "      <th>Color</th>\n",
       "      <th></th>\n",
       "      <th></th>\n",
       "      <th></th>\n",
       "      <th></th>\n",
       "      <th></th>\n",
       "      <th></th>\n",
       "      <th></th>\n",
       "      <th></th>\n",
       "      <th></th>\n",
       "      <th></th>\n",
       "    </tr>\n",
       "  </thead>\n",
       "  <tbody>\n",
       "    <tr>\n",
       "      <th>blue</th>\n",
       "      <td>933</td>\n",
       "      <td>933</td>\n",
       "      <td>933</td>\n",
       "      <td>933</td>\n",
       "      <td>933</td>\n",
       "      <td>933</td>\n",
       "      <td>933</td>\n",
       "      <td>933</td>\n",
       "      <td>933</td>\n",
       "      <td>933</td>\n",
       "    </tr>\n",
       "    <tr>\n",
       "      <th>green</th>\n",
       "      <td>1837</td>\n",
       "      <td>1837</td>\n",
       "      <td>1837</td>\n",
       "      <td>1837</td>\n",
       "      <td>1837</td>\n",
       "      <td>1837</td>\n",
       "      <td>1837</td>\n",
       "      <td>1837</td>\n",
       "      <td>1837</td>\n",
       "      <td>1837</td>\n",
       "    </tr>\n",
       "    <tr>\n",
       "      <th>red</th>\n",
       "      <td>1565</td>\n",
       "      <td>1565</td>\n",
       "      <td>1565</td>\n",
       "      <td>1565</td>\n",
       "      <td>1565</td>\n",
       "      <td>1565</td>\n",
       "      <td>1565</td>\n",
       "      <td>1565</td>\n",
       "      <td>1565</td>\n",
       "      <td>1565</td>\n",
       "    </tr>\n",
       "  </tbody>\n",
       "</table>\n",
       "</div>"
      ],
      "text/plain": [
       "       Recency  Frequency  Monetary     R     F     M  RFMgroup  RFMScore  \\\n",
       "Color                                                                       \n",
       "blue       933        933       933   933   933   933       933       933   \n",
       "green     1837       1837      1837  1837  1837  1837      1837      1837   \n",
       "red       1565       1565      1565  1565  1565  1565      1565      1565   \n",
       "\n",
       "       RFM_Grade  Clusters  \n",
       "Color                       \n",
       "blue         933       933  \n",
       "green       1837      1837  \n",
       "red         1565      1565  "
      ]
     },
     "execution_count": 124,
     "metadata": {},
     "output_type": "execute_result"
    }
   ],
   "source": [
    "count_cluster = RFMscore.groupby(['Color']).count()\n",
    "count_cluster"
   ]
  },
  {
   "cell_type": "markdown",
   "id": "46c5d20e",
   "metadata": {
    "heading_collapsed": true
   },
   "source": [
    "# 5. Conclusion"
   ]
  },
  {
   "cell_type": "markdown",
   "id": "7dd79c1d",
   "metadata": {
    "hidden": true
   },
   "source": [
    "### Cluster 1 Color blue: The group of good customers . These custmer of very high frequency with a lot of quantity bought on average and high monetary value ( we can call VIP customers)"
   ]
  },
  {
   "cell_type": "markdown",
   "id": "47d42ac3",
   "metadata": {
    "hidden": true
   },
   "source": [
    "### Cluster 2 Color green: The group of medium customers that high monetary value but few purchases over the year"
   ]
  },
  {
   "cell_type": "markdown",
   "id": "a61fbd06",
   "metadata": {
    "hidden": true
   },
   "source": [
    "### Cluster 0 Color red: The group of custmoer that almos lost and lost. These customer are rarely purchase and also small amount of bought."
   ]
  },
  {
   "cell_type": "code",
   "execution_count": null,
   "id": "d66c1d06",
   "metadata": {
    "hidden": true
   },
   "outputs": [],
   "source": []
  }
 ],
 "metadata": {
  "kernelspec": {
   "display_name": "Python 3 (ipykernel)",
   "language": "python",
   "name": "python3"
  },
  "language_info": {
   "codemirror_mode": {
    "name": "ipython",
    "version": 3
   },
   "file_extension": ".py",
   "mimetype": "text/x-python",
   "name": "python",
   "nbconvert_exporter": "python",
   "pygments_lexer": "ipython3",
   "version": "3.9.7"
  }
 },
 "nbformat": 4,
 "nbformat_minor": 5
}
